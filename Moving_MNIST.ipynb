{
  "nbformat": 4,
  "nbformat_minor": 0,
  "metadata": {
    "colab": {
      "name": "Moving-MNIST.ipynb",
      "version": "0.3.2",
      "provenance": [],
      "collapsed_sections": [],
      "toc_visible": true,
      "include_colab_link": true
    },
    "kernelspec": {
      "name": "python3",
      "display_name": "Python 3"
    },
    "accelerator": "GPU"
  },
  "cells": [
    {
      "cell_type": "markdown",
      "metadata": {
        "id": "view-in-github",
        "colab_type": "text"
      },
      "source": [
        "[View in Colaboratory](https://colab.research.google.com/github/MariamMohamedFawzy/Deep-Learning-Notebooks/blob/master/Moving_MNIST.ipynb)"
      ]
    },
    {
      "metadata": {
        "id": "Qn7ZIH5rI15b",
        "colab_type": "text"
      },
      "cell_type": "markdown",
      "source": [
        "# Data"
      ]
    },
    {
      "metadata": {
        "id": "gHYC50dk-WKw",
        "colab_type": "code",
        "colab": {
          "base_uri": "https://localhost:8080/",
          "height": 204
        },
        "outputId": "f71da1dd-2b81-4888-a842-761614250e22"
      },
      "cell_type": "code",
      "source": [
        "!wget http://www.cs.toronto.edu/~nitish/unsupervised_video/mnist_test_seq.npy"
      ],
      "execution_count": 1,
      "outputs": [
        {
          "output_type": "stream",
          "text": [
            "--2018-08-24 10:17:42--  http://www.cs.toronto.edu/~nitish/unsupervised_video/mnist_test_seq.npy\n",
            "Resolving www.cs.toronto.edu (www.cs.toronto.edu)... 128.100.3.30\n",
            "Connecting to www.cs.toronto.edu (www.cs.toronto.edu)|128.100.3.30|:80... connected.\n",
            "HTTP request sent, awaiting response... 200 OK\n",
            "Length: 819200096 (781M)\n",
            "Saving to: ‘mnist_test_seq.npy’\n",
            "\n",
            "mnist_test_seq.npy  100%[===================>] 781.25M  1.91MB/s    in 5m 20s  \n",
            "\n",
            "2018-08-24 10:23:02 (2.44 MB/s) - ‘mnist_test_seq.npy’ saved [819200096/819200096]\n",
            "\n"
          ],
          "name": "stdout"
        }
      ]
    },
    {
      "metadata": {
        "id": "CFeOWGoE-eD1",
        "colab_type": "code",
        "colab": {
          "base_uri": "https://localhost:8080/",
          "height": 34
        },
        "outputId": "4dec9dab-4f2a-4637-86c1-2409aaa6698b"
      },
      "cell_type": "code",
      "source": [
        "!ls"
      ],
      "execution_count": 2,
      "outputs": [
        {
          "output_type": "stream",
          "text": [
            "datalab  mnist_test_seq.npy  sample_data\r\n"
          ],
          "name": "stdout"
        }
      ]
    },
    {
      "metadata": {
        "id": "PVhCgXfM-eGd",
        "colab_type": "code",
        "colab": {}
      },
      "cell_type": "code",
      "source": [
        "import numpy as np\n",
        "import matplotlib.pyplot as plt\n",
        "import cv2"
      ],
      "execution_count": 0,
      "outputs": []
    },
    {
      "metadata": {
        "id": "SmqG8iw3AVa_",
        "colab_type": "code",
        "colab": {}
      },
      "cell_type": "code",
      "source": [
        "f = np.load('mnist_test_seq.npy')"
      ],
      "execution_count": 0,
      "outputs": []
    },
    {
      "metadata": {
        "id": "pSEhB-7AAVd3",
        "colab_type": "code",
        "colab": {
          "base_uri": "https://localhost:8080/",
          "height": 34
        },
        "outputId": "12989880-3162-417c-e847-3c60562510d4"
      },
      "cell_type": "code",
      "source": [
        "f.shape"
      ],
      "execution_count": 4,
      "outputs": [
        {
          "output_type": "execute_result",
          "data": {
            "text/plain": [
              "(20, 10000, 64, 64)"
            ]
          },
          "metadata": {
            "tags": []
          },
          "execution_count": 4
        }
      ]
    },
    {
      "metadata": {
        "id": "2tMV8vHfAVgp",
        "colab_type": "code",
        "colab": {}
      },
      "cell_type": "code",
      "source": [
        "f0 = f[0, 0, :, :]\n",
        "f20 = f[19, 0, :, :]"
      ],
      "execution_count": 0,
      "outputs": []
    },
    {
      "metadata": {
        "id": "q1Scf1_aAVjH",
        "colab_type": "code",
        "colab": {
          "base_uri": "https://localhost:8080/",
          "height": 681
        },
        "outputId": "2ae80076-9822-4472-ce95-3cfcaa0ccc66"
      },
      "cell_type": "code",
      "source": [
        "plt.imshow(f0)\n",
        "plt.show()\n",
        "plt.imshow(f20)\n",
        "plt.show()"
      ],
      "execution_count": 6,
      "outputs": [
        {
          "output_type": "display_data",
          "data": {
            "image/png": "[encoded data removed]",
            "text/plain": [
              "<matplotlib.figure.Figure at 0x7fa2da2c9940>"
            ]
          },
          "metadata": {
            "tags": []
          }
        },
        {
          "output_type": "display_data",
          "data": {
            "image/png": "[encoded data removed]",
            "text/plain": [
              "<matplotlib.figure.Figure at 0x7fa2da23eef0>"
            ]
          },
          "metadata": {
            "tags": []
          }
        }
      ]
    },
    {
      "metadata": {
        "id": "OT-cWqPLbHZK",
        "colab_type": "code",
        "colab": {
          "base_uri": "https://localhost:8080/",
          "height": 34
        },
        "outputId": "99c30c2d-1b65-4f60-d555-b65c0b3c6efa"
      },
      "cell_type": "code",
      "source": [
        "np.min(f), np.max(f)"
      ],
      "execution_count": 7,
      "outputs": [
        {
          "output_type": "execute_result",
          "data": {
            "text/plain": [
              "(0, 255)"
            ]
          },
          "metadata": {
            "tags": []
          },
          "execution_count": 7
        }
      ]
    },
    {
      "metadata": {
        "id": "X0GPkQNEbOzZ",
        "colab_type": "code",
        "colab": {}
      },
      "cell_type": "code",
      "source": [
        "# f = f / 255.0"
      ],
      "execution_count": 0,
      "outputs": []
    },
    {
      "metadata": {
        "id": "zqnmHWp0Av0h",
        "colab_type": "code",
        "colab": {}
      },
      "cell_type": "code",
      "source": [
        "x_train = f[:, :7000, :, :]\n",
        "x_test = f[:, 7000:, :, :]"
      ],
      "execution_count": 0,
      "outputs": []
    },
    {
      "metadata": {
        "id": "X9iyhCibA_OR",
        "colab_type": "code",
        "colab": {}
      },
      "cell_type": "code",
      "source": [
        "x_train = np.swapaxes(x_train, 0, 1)\n",
        "x_test = np.swapaxes(x_test, 0, 1)"
      ],
      "execution_count": 0,
      "outputs": []
    },
    {
      "metadata": {
        "id": "QcPiLZUsBevR",
        "colab_type": "code",
        "colab": {
          "base_uri": "https://localhost:8080/",
          "height": 34
        },
        "outputId": "a24144f5-66f7-441a-aa60-ed7dec90112e"
      },
      "cell_type": "code",
      "source": [
        "x_train.shape, x_test.shape"
      ],
      "execution_count": 26,
      "outputs": [
        {
          "output_type": "execute_result",
          "data": {
            "text/plain": [
              "((7000, 20, 64, 64), (3000, 20, 64, 64))"
            ]
          },
          "metadata": {
            "tags": []
          },
          "execution_count": 26
        }
      ]
    },
    {
      "metadata": {
        "id": "o4-5-3NWAe_Y",
        "colab_type": "code",
        "colab": {}
      },
      "cell_type": "code",
      "source": [
        "x_train2 = np.zeros((x_train.shape[0], 20, 32, 32))\n",
        "for i in range(x_train.shape[0]):\n",
        "  frames = x_train[i, :, :, :]\n",
        "  x_train2[i] = list(map(lambda t: cv2.resize(t, (32, 32)), frames))"
      ],
      "execution_count": 0,
      "outputs": []
    },
    {
      "metadata": {
        "id": "mF3sbs2LBuhN",
        "colab_type": "code",
        "colab": {}
      },
      "cell_type": "code",
      "source": [
        "x_test2 = np.zeros((x_test.shape[0], 20, 32, 32))\n",
        "for i in range(x_test.shape[0]):\n",
        "  frames = x_test[i, :, :, :]\n",
        "  x_test2[i] = list(map(lambda t: cv2.resize(t, (32, 32)), frames))"
      ],
      "execution_count": 0,
      "outputs": []
    },
    {
      "metadata": {
        "id": "ScJKBaEIAfCz",
        "colab_type": "code",
        "colab": {
          "base_uri": "https://localhost:8080/",
          "height": 34
        },
        "outputId": "5ab0ea7a-0189-40f4-dc04-48c776861095"
      },
      "cell_type": "code",
      "source": [
        "x_train2.shape, x_test2.shape"
      ],
      "execution_count": 12,
      "outputs": [
        {
          "output_type": "execute_result",
          "data": {
            "text/plain": [
              "((7000, 20, 32, 32), (3000, 20, 32, 32))"
            ]
          },
          "metadata": {
            "tags": []
          },
          "execution_count": 12
        }
      ]
    },
    {
      "metadata": {
        "id": "oOu4sJueB23f",
        "colab_type": "code",
        "colab": {}
      },
      "cell_type": "code",
      "source": [
        "x_train = x_train2\n",
        "x_test = x_test2\n",
        "del x_train2\n",
        "del x_test2"
      ],
      "execution_count": 0,
      "outputs": []
    },
    {
      "metadata": {
        "id": "bYI_7newB_fQ",
        "colab_type": "code",
        "colab": {}
      },
      "cell_type": "code",
      "source": [
        "x_train = x_train / 255\n",
        "x_test = x_test / 255"
      ],
      "execution_count": 0,
      "outputs": []
    },
    {
      "metadata": {
        "id": "oVnIx1DEBiL7",
        "colab_type": "code",
        "colab": {}
      },
      "cell_type": "code",
      "source": [
        "#without cnn\n",
        "x_train = x_train.reshape((x_train.shape[0], 20, 32*32))\n",
        "x_test = x_test.reshape((x_test.shape[0], 20, 32*32))"
      ],
      "execution_count": 0,
      "outputs": []
    },
    {
      "metadata": {
        "id": "yGZPZkqa-a08",
        "colab_type": "code",
        "colab": {}
      },
      "cell_type": "code",
      "source": [
        "#without cnn\n",
        "x_train_split1 = x_train[:, :10, :]\n",
        "x_train_split2 = x_train[:, 10:, :]\n",
        "\n",
        "x_test_split1 = x_test[:, :10, :]\n",
        "x_test_split2 = x_test[:, 10:, :]"
      ],
      "execution_count": 0,
      "outputs": []
    },
    {
      "metadata": {
        "id": "TYml3TBaB3AP",
        "colab_type": "code",
        "colab": {
          "base_uri": "https://localhost:8080/",
          "height": 34
        },
        "outputId": "a59d0e21-97fe-48f1-9415-8a5f43dc26d9"
      },
      "cell_type": "code",
      "source": [
        "x_train.shape, x_test.shape"
      ],
      "execution_count": 49,
      "outputs": [
        {
          "output_type": "execute_result",
          "data": {
            "text/plain": [
              "((7000, 20, 32, 32), (3000, 20, 32, 32))"
            ]
          },
          "metadata": {
            "tags": []
          },
          "execution_count": 49
        }
      ]
    },
    {
      "metadata": {
        "id": "F0EhZh4lzDX1",
        "colab_type": "code",
        "colab": {}
      },
      "cell_type": "code",
      "source": [
        "# with cnn\n",
        "\n",
        "x_train = x_train.reshape((x_train.shape[0], 20, 32, 32, 1))\n",
        "x_test = x_test.reshape((x_test.shape[0], 20, 32, 32, 1))\n",
        "\n",
        "x_train_split1 = x_train[:, :10, :, :, :]\n",
        "x_train_split2 = x_train[:, 10:, :, :, :]\n",
        "\n",
        "x_test_split1 = x_test[:, :10, :, :, :]\n",
        "x_test_split2 = x_test[:, 10:, :, :, :]"
      ],
      "execution_count": 0,
      "outputs": []
    },
    {
      "metadata": {
        "id": "GdO4hjNE0uuo",
        "colab_type": "code",
        "colab": {}
      },
      "cell_type": "code",
      "source": [
        "x_train_split2 = x_train_split2.reshape((x_train_split2.shape[0], 10, 32*32))\n",
        "x_test_split2 = x_test_split2.reshape((x_test_split2.shape[0], 10, 32*32))"
      ],
      "execution_count": 0,
      "outputs": []
    },
    {
      "metadata": {
        "id": "9Zpkc2DKztw2",
        "colab_type": "code",
        "colab": {}
      },
      "cell_type": "code",
      "source": [
        ""
      ],
      "execution_count": 0,
      "outputs": []
    },
    {
      "metadata": {
        "id": "AShuii64-tEN",
        "colab_type": "code",
        "colab": {}
      },
      "cell_type": "code",
      "source": [
        "x_train_dec = np.zeros((x_train.shape[0], 10 , 32*32))\n",
        "x_test_dec = np.zeros((x_test.shape[0], 10 , 32*32))"
      ],
      "execution_count": 0,
      "outputs": []
    },
    {
      "metadata": {
        "id": "vZh5TFjLJ1rc",
        "colab_type": "code",
        "colab": {}
      },
      "cell_type": "code",
      "source": [
        "#composite\n",
        "x_train_dec2 = np.zeros((x_train.shape[0], 10 , 32*32))\n",
        "x_test_dec2 = np.zeros((x_test.shape[0], 10 , 32*32))"
      ],
      "execution_count": 0,
      "outputs": []
    },
    {
      "metadata": {
        "id": "NEighofzTTdP",
        "colab_type": "code",
        "colab": {
          "base_uri": "https://localhost:8080/",
          "height": 364
        },
        "outputId": "f4ef9e60-7b61-4d95-ddd7-188ec4bfceb5"
      },
      "cell_type": "code",
      "source": [
        "plt.imshow(x_train[0][0].reshape((32, 32)))"
      ],
      "execution_count": 19,
      "outputs": [
        {
          "output_type": "execute_result",
          "data": {
            "text/plain": [
              "<matplotlib.image.AxesImage at 0x7fbc8eb8bd30>"
            ]
          },
          "metadata": {
            "tags": []
          },
          "execution_count": 19
        },
        {
          "output_type": "display_data",
          "data": {
            "image/png": "[encoded data removed]",
            "text/plain": [
              "<matplotlib.figure.Figure at 0x7fbc8ebc8128>"
            ]
          },
          "metadata": {
            "tags": []
          }
        }
      ]
    },
    {
      "metadata": {
        "id": "9qu_AEWVe4Zv",
        "colab_type": "code",
        "colab": {
          "base_uri": "https://localhost:8080/",
          "height": 34
        },
        "outputId": "c79a2111-a47f-4714-e72d-fefdf139da2f"
      },
      "cell_type": "code",
      "source": [
        "import keras\n",
        "from keras.models import Sequential, Model, Input\n",
        "from keras.layers import Conv2D, LSTM, MaxPool2D, Dense, Dropout, Activation, UpSampling2D, Flatten, TimeDistributed, Reshape\n",
        "from keras.optimizers import SGD, Adam, RMSprop\n",
        "from keras import losses"
      ],
      "execution_count": 14,
      "outputs": [
        {
          "output_type": "stream",
          "text": [
            "Using TensorFlow backend.\n"
          ],
          "name": "stderr"
        }
      ]
    },
    {
      "metadata": {
        "id": "t3hcO-7Oy9d4",
        "colab_type": "code",
        "colab": {}
      },
      "cell_type": "code",
      "source": [
        ""
      ],
      "execution_count": 0,
      "outputs": []
    },
    {
      "metadata": {
        "id": "TBF0VFSlruQY",
        "colab_type": "text"
      },
      "cell_type": "markdown",
      "source": [
        "**Unconditional decoder**"
      ]
    },
    {
      "metadata": {
        "id": "09cgJb4zI9yg",
        "colab_type": "text"
      },
      "cell_type": "markdown",
      "source": [
        "# One layer"
      ]
    },
    {
      "metadata": {
        "id": "6jTfTKSieLGa",
        "colab_type": "code",
        "colab": {
          "base_uri": "https://localhost:8080/",
          "height": 34
        },
        "outputId": "81383dcb-02b9-408a-e6d6-31bad0e1756f"
      },
      "cell_type": "code",
      "source": [
        "#encoder\n",
        "\n",
        "# num_cells = 4096\n",
        "\n",
        "num_input = 32 * 32\n",
        "\n",
        "num_cells = 32 * 32\n",
        "\n",
        "in_encoder = Input(shape=(10, num_input))\n",
        "\n",
        "encoder_lstm = LSTM(num_cells, return_state=True)\n",
        "\n",
        "out_encoder, h_encoder, c_encoder = encoder_lstm(in_encoder)\n",
        "\n",
        "encoder_states = [h_encoder, c_encoder]\n",
        "\n",
        "print(h_encoder.shape, c_encoder.shape)\n",
        "\n",
        "\n",
        "#decoder\n",
        "\n",
        "in_decoder = Input(shape=(10,num_cells))\n",
        "\n",
        "decoder_lstm = LSTM(num_input, return_sequences=True, return_state=True, activation='sigmoid')\n",
        "\n",
        "out_decoder, _, _ = decoder_lstm(in_decoder, initial_state=encoder_states)\n",
        "\n",
        "\n",
        "model = Model([in_encoder, in_decoder], [out_decoder])\n",
        "\n"
      ],
      "execution_count": 138,
      "outputs": [
        {
          "output_type": "stream",
          "text": [
            "(?, 1024) (?, 1024)\n"
          ],
          "name": "stdout"
        }
      ]
    },
    {
      "metadata": {
        "id": "SzBXtjwAu87U",
        "colab_type": "code",
        "colab": {
          "base_uri": "https://localhost:8080/",
          "height": 306
        },
        "outputId": "022f8142-7201-4b37-9224-a8633f1b39bc"
      },
      "cell_type": "code",
      "source": [
        "model.summary()"
      ],
      "execution_count": 84,
      "outputs": [
        {
          "output_type": "stream",
          "text": [
            "__________________________________________________________________________________________________\n",
            "Layer (type)                    Output Shape         Param #     Connected to                     \n",
            "==================================================================================================\n",
            "input_17 (InputLayer)           (None, 10, 1024)     0                                            \n",
            "__________________________________________________________________________________________________\n",
            "input_18 (InputLayer)           (None, 10, 1024)     0                                            \n",
            "__________________________________________________________________________________________________\n",
            "lstm_17 (LSTM)                  [(None, 1024), (None 8392704     input_17[0][0]                   \n",
            "__________________________________________________________________________________________________\n",
            "lstm_18 (LSTM)                  [(None, 10, 1024), ( 8392704     input_18[0][0]                   \n",
            "                                                                 lstm_17[0][1]                    \n",
            "                                                                 lstm_17[0][2]                    \n",
            "==================================================================================================\n",
            "Total params: 16,785,408\n",
            "Trainable params: 16,785,408\n",
            "Non-trainable params: 0\n",
            "__________________________________________________________________________________________________\n"
          ],
          "name": "stdout"
        }
      ]
    },
    {
      "metadata": {
        "id": "hC4yK6Y2zTG3",
        "colab_type": "code",
        "colab": {}
      },
      "cell_type": "code",
      "source": [
        "# op = keras.optimizers.SGD(lr=0.0001, momentum=0.9, nesterov=True)\n",
        "op = keras.optimizers.Adam(lr=0.001)\n",
        "\n",
        "reduce_lr = keras.callbacks.ReduceLROnPlateau(monitor='loss', factor=0.2,\n",
        "                              patience=5, min_lr=0.0001)\n",
        "\n",
        "model.compile(optimizer=op,\n",
        "              loss='binary_crossentropy',\n",
        "              metrics=['accuracy'])"
      ],
      "execution_count": 0,
      "outputs": []
    },
    {
      "metadata": {
        "id": "Jfcbr2VBu8-D",
        "colab_type": "code",
        "colab": {
          "base_uri": "https://localhost:8080/",
          "height": 3434
        },
        "outputId": "6339d7e3-0f84-460b-e4aa-17065f5eaabd"
      },
      "cell_type": "code",
      "source": [
        "model.fit([x_train_split1, x_train_dec], [x_train_split2], epochs=100, batch_size=16, callbacks=[reduce_lr])"
      ],
      "execution_count": 141,
      "outputs": [
        {
          "output_type": "stream",
          "text": [
            "Epoch 1/100\n",
            "7000/7000 [==============================] - 58s 8ms/step - loss: 0.1754 - acc: 0.9068\n",
            "Epoch 2/100\n",
            "7000/7000 [==============================] - 52s 7ms/step - loss: 0.1576 - acc: 0.9067\n",
            "Epoch 3/100\n",
            "7000/7000 [==============================] - 52s 7ms/step - loss: 0.1526 - acc: 0.9067\n",
            "Epoch 4/100\n",
            "7000/7000 [==============================] - 52s 7ms/step - loss: 0.1524 - acc: 0.9067\n",
            "Epoch 5/100\n",
            "7000/7000 [==============================] - 52s 7ms/step - loss: 0.1477 - acc: 0.9066\n",
            "Epoch 6/100\n",
            "7000/7000 [==============================] - 52s 7ms/step - loss: 0.1450 - acc: 0.9066\n",
            "Epoch 7/100\n",
            "7000/7000 [==============================] - 52s 7ms/step - loss: 0.1436 - acc: 0.9066\n",
            "Epoch 8/100\n",
            "7000/7000 [==============================] - 52s 7ms/step - loss: 0.1467 - acc: 0.9066\n",
            "Epoch 9/100\n",
            "7000/7000 [==============================] - 52s 7ms/step - loss: 0.1441 - acc: 0.9066\n",
            "Epoch 10/100\n",
            "7000/7000 [==============================] - 52s 7ms/step - loss: 0.1569 - acc: 0.9066\n",
            "Epoch 11/100\n",
            "7000/7000 [==============================] - 53s 8ms/step - loss: 0.1503 - acc: 0.9066\n",
            "Epoch 12/100\n",
            "7000/7000 [==============================] - 53s 8ms/step - loss: 0.1479 - acc: 0.9065\n",
            "Epoch 13/100\n",
            "7000/7000 [==============================] - 52s 7ms/step - loss: 0.1412 - acc: 0.9065\n",
            "Epoch 14/100\n",
            "7000/7000 [==============================] - 52s 7ms/step - loss: 0.1391 - acc: 0.9065\n",
            "Epoch 15/100\n",
            "7000/7000 [==============================] - 52s 7ms/step - loss: 0.1371 - acc: 0.9065\n",
            "Epoch 16/100\n",
            "7000/7000 [==============================] - 52s 7ms/step - loss: 0.1358 - acc: 0.9065\n",
            "Epoch 17/100\n",
            "7000/7000 [==============================] - 52s 7ms/step - loss: 0.1358 - acc: 0.9065\n",
            "Epoch 18/100\n",
            "7000/7000 [==============================] - 52s 7ms/step - loss: 0.1357 - acc: 0.9065\n",
            "Epoch 19/100\n",
            "7000/7000 [==============================] - 52s 7ms/step - loss: 0.1347 - acc: 0.9065\n",
            "Epoch 20/100\n",
            "7000/7000 [==============================] - 52s 7ms/step - loss: 0.1339 - acc: 0.9065\n",
            "Epoch 21/100\n",
            "7000/7000 [==============================] - 53s 8ms/step - loss: 0.1328 - acc: 0.9064\n",
            "Epoch 22/100\n",
            "7000/7000 [==============================] - 52s 7ms/step - loss: 0.1325 - acc: 0.9064\n",
            "Epoch 23/100\n",
            "7000/7000 [==============================] - 52s 7ms/step - loss: 0.1321 - acc: 0.9064\n",
            "Epoch 24/100\n",
            "7000/7000 [==============================] - 52s 7ms/step - loss: 0.1313 - acc: 0.9064\n",
            "Epoch 25/100\n",
            "7000/7000 [==============================] - 53s 8ms/step - loss: 0.1304 - acc: 0.9064\n",
            "Epoch 26/100\n",
            "7000/7000 [==============================] - 53s 8ms/step - loss: 0.1297 - acc: 0.9064\n",
            "Epoch 27/100\n",
            "7000/7000 [==============================] - 53s 8ms/step - loss: 0.1300 - acc: 0.9064\n",
            "Epoch 28/100\n",
            "7000/7000 [==============================] - 52s 7ms/step - loss: 0.1291 - acc: 0.9063\n",
            "Epoch 29/100\n",
            "7000/7000 [==============================] - 53s 8ms/step - loss: 0.1285 - acc: 0.9063\n",
            "Epoch 30/100\n",
            "7000/7000 [==============================] - 53s 8ms/step - loss: 0.1283 - acc: 0.9063\n",
            "Epoch 31/100\n",
            "7000/7000 [==============================] - 52s 7ms/step - loss: 0.1271 - acc: 0.9063\n",
            "Epoch 32/100\n",
            "7000/7000 [==============================] - 52s 7ms/step - loss: 0.1264 - acc: 0.9062\n",
            "Epoch 33/100\n",
            "7000/7000 [==============================] - 52s 7ms/step - loss: 0.1263 - acc: 0.9062\n",
            "Epoch 34/100\n",
            "7000/7000 [==============================] - 52s 7ms/step - loss: 0.1257 - acc: 0.9062\n",
            "Epoch 35/100\n",
            "7000/7000 [==============================] - 52s 7ms/step - loss: 0.1247 - acc: 0.9061\n",
            "Epoch 36/100\n",
            "7000/7000 [==============================] - 52s 7ms/step - loss: 0.1242 - acc: 0.9061\n",
            "Epoch 37/100\n",
            "7000/7000 [==============================] - 52s 7ms/step - loss: 0.1239 - acc: 0.9061\n",
            "Epoch 38/100\n",
            "7000/7000 [==============================] - 52s 7ms/step - loss: 0.1244 - acc: 0.9062\n",
            "Epoch 39/100\n",
            "7000/7000 [==============================] - 52s 7ms/step - loss: 0.1238 - acc: 0.9061\n",
            "Epoch 40/100\n",
            "7000/7000 [==============================] - 52s 7ms/step - loss: 0.1230 - acc: 0.9061\n",
            "Epoch 41/100\n",
            "7000/7000 [==============================] - 52s 7ms/step - loss: 0.1230 - acc: 0.9061\n",
            "Epoch 42/100\n",
            "7000/7000 [==============================] - 52s 7ms/step - loss: 0.1220 - acc: 0.9061\n",
            "Epoch 43/100\n",
            "7000/7000 [==============================] - 52s 7ms/step - loss: 0.1220 - acc: 0.9061\n",
            "Epoch 44/100\n",
            "7000/7000 [==============================] - 53s 8ms/step - loss: 0.1216 - acc: 0.9061\n",
            "Epoch 45/100\n",
            "7000/7000 [==============================] - 52s 7ms/step - loss: 0.1208 - acc: 0.9060\n",
            "Epoch 46/100\n",
            "7000/7000 [==============================] - 52s 7ms/step - loss: 0.1197 - acc: 0.9060\n",
            "Epoch 47/100\n",
            "7000/7000 [==============================] - 52s 7ms/step - loss: 0.1205 - acc: 0.9060\n",
            "Epoch 48/100\n",
            "7000/7000 [==============================] - 52s 7ms/step - loss: 0.1221 - acc: 0.9062\n",
            "Epoch 49/100\n",
            "7000/7000 [==============================] - 53s 8ms/step - loss: 0.1224 - acc: 0.9062\n",
            "Epoch 50/100\n",
            "7000/7000 [==============================] - 53s 8ms/step - loss: 0.1205 - acc: 0.9061\n",
            "Epoch 51/100\n",
            "7000/7000 [==============================] - 52s 7ms/step - loss: 0.1193 - acc: 0.9060\n",
            "Epoch 52/100\n",
            "7000/7000 [==============================] - 52s 7ms/step - loss: 0.1195 - acc: 0.9060\n",
            "Epoch 53/100\n",
            "7000/7000 [==============================] - 53s 8ms/step - loss: 0.1187 - acc: 0.9060\n",
            "Epoch 54/100\n",
            "7000/7000 [==============================] - 52s 7ms/step - loss: 0.1193 - acc: 0.9061\n",
            "Epoch 55/100\n",
            "7000/7000 [==============================] - 53s 8ms/step - loss: 0.1185 - acc: 0.9060\n",
            "Epoch 56/100\n",
            "7000/7000 [==============================] - 52s 7ms/step - loss: 0.1205 - acc: 0.9061\n",
            "Epoch 57/100\n",
            "7000/7000 [==============================] - 52s 7ms/step - loss: 0.1202 - acc: 0.9061\n",
            "Epoch 58/100\n",
            "7000/7000 [==============================] - 52s 7ms/step - loss: 0.1203 - acc: 0.9061\n",
            "Epoch 59/100\n",
            "7000/7000 [==============================] - 52s 7ms/step - loss: 0.1183 - acc: 0.9060\n",
            "Epoch 60/100\n",
            "7000/7000 [==============================] - 52s 7ms/step - loss: 0.1174 - acc: 0.9060\n",
            "Epoch 61/100\n",
            "7000/7000 [==============================] - 52s 7ms/step - loss: 0.1167 - acc: 0.9059\n",
            "Epoch 62/100\n",
            "7000/7000 [==============================] - 53s 8ms/step - loss: 0.1165 - acc: 0.9059\n",
            "Epoch 63/100\n",
            "7000/7000 [==============================] - 52s 7ms/step - loss: 0.1171 - acc: 0.9059\n",
            "Epoch 64/100\n",
            "7000/7000 [==============================] - 52s 7ms/step - loss: 0.1180 - acc: 0.9059\n",
            "Epoch 65/100\n",
            "7000/7000 [==============================] - 52s 7ms/step - loss: 0.1171 - acc: 0.9059\n",
            "Epoch 66/100\n",
            "7000/7000 [==============================] - 52s 7ms/step - loss: 0.1162 - acc: 0.9059\n",
            "Epoch 67/100\n",
            "7000/7000 [==============================] - 52s 7ms/step - loss: 0.1157 - acc: 0.9058\n",
            "Epoch 68/100\n",
            "7000/7000 [==============================] - 52s 7ms/step - loss: 0.1161 - acc: 0.9059\n",
            "Epoch 69/100\n",
            "7000/7000 [==============================] - 52s 7ms/step - loss: 0.1156 - acc: 0.9059\n",
            "Epoch 70/100\n",
            "7000/7000 [==============================] - 52s 7ms/step - loss: 0.1180 - acc: 0.9060\n",
            "Epoch 71/100\n",
            "7000/7000 [==============================] - 52s 7ms/step - loss: 0.1159 - acc: 0.9059\n",
            "Epoch 72/100\n",
            "7000/7000 [==============================] - 52s 7ms/step - loss: 0.1156 - acc: 0.9058\n",
            "Epoch 73/100\n",
            "7000/7000 [==============================] - 52s 7ms/step - loss: 0.1144 - acc: 0.9058\n",
            "Epoch 74/100\n",
            "7000/7000 [==============================] - 52s 7ms/step - loss: 0.1151 - acc: 0.9058\n",
            "Epoch 75/100\n",
            "7000/7000 [==============================] - 53s 8ms/step - loss: 0.1142 - acc: 0.9058\n",
            "Epoch 76/100\n",
            "7000/7000 [==============================] - 52s 7ms/step - loss: 0.1139 - acc: 0.9058\n",
            "Epoch 77/100\n",
            "7000/7000 [==============================] - 53s 8ms/step - loss: 0.1139 - acc: 0.9058\n",
            "Epoch 78/100\n",
            "7000/7000 [==============================] - 52s 7ms/step - loss: 0.1135 - acc: 0.9058\n",
            "Epoch 79/100\n",
            "7000/7000 [==============================] - 52s 7ms/step - loss: 0.1136 - acc: 0.9058\n",
            "Epoch 80/100\n",
            "7000/7000 [==============================] - 53s 8ms/step - loss: 0.1132 - acc: 0.9058\n",
            "Epoch 81/100\n",
            "7000/7000 [==============================] - 52s 7ms/step - loss: 0.1131 - acc: 0.9057\n",
            "Epoch 82/100\n",
            "7000/7000 [==============================] - 52s 7ms/step - loss: 0.1131 - acc: 0.9057\n",
            "Epoch 83/100\n",
            "7000/7000 [==============================] - 52s 7ms/step - loss: 0.1127 - acc: 0.9057\n",
            "Epoch 84/100\n",
            "7000/7000 [==============================] - 52s 7ms/step - loss: 0.1158 - acc: 0.9058\n",
            "Epoch 85/100\n",
            "7000/7000 [==============================] - 52s 7ms/step - loss: 0.1137 - acc: 0.9058\n",
            "Epoch 86/100\n",
            "7000/7000 [==============================] - 52s 7ms/step - loss: 0.1131 - acc: 0.9058\n",
            "Epoch 87/100\n",
            "7000/7000 [==============================] - 52s 7ms/step - loss: 0.1127 - acc: 0.9058\n",
            "Epoch 88/100\n",
            "7000/7000 [==============================] - 52s 7ms/step - loss: 0.1125 - acc: 0.9057\n",
            "Epoch 89/100\n",
            "7000/7000 [==============================] - 53s 8ms/step - loss: 0.1124 - acc: 0.9057\n",
            "Epoch 90/100\n",
            "7000/7000 [==============================] - 52s 7ms/step - loss: 0.1121 - acc: 0.9057\n",
            "Epoch 91/100\n",
            "7000/7000 [==============================] - 52s 7ms/step - loss: 0.1119 - acc: 0.9057\n",
            "Epoch 92/100\n",
            "7000/7000 [==============================] - 52s 7ms/step - loss: 0.1117 - acc: 0.9056\n",
            "Epoch 93/100\n",
            "7000/7000 [==============================] - 52s 7ms/step - loss: 0.1116 - acc: 0.9056\n",
            "Epoch 94/100\n",
            "7000/7000 [==============================] - 52s 7ms/step - loss: 0.1120 - acc: 0.9057\n",
            "Epoch 95/100\n",
            "7000/7000 [==============================] - 52s 7ms/step - loss: 0.1116 - acc: 0.9057\n",
            "Epoch 96/100\n",
            "7000/7000 [==============================] - 52s 7ms/step - loss: 0.1120 - acc: 0.9057\n",
            "Epoch 97/100\n",
            "7000/7000 [==============================] - 52s 7ms/step - loss: 0.1117 - acc: 0.9057\n",
            "Epoch 98/100\n",
            "7000/7000 [==============================] - 52s 7ms/step - loss: 0.1123 - acc: 0.9057\n",
            "Epoch 99/100\n",
            "7000/7000 [==============================] - 52s 7ms/step - loss: 0.1117 - acc: 0.9057\n",
            "Epoch 100/100\n",
            "7000/7000 [==============================] - 52s 7ms/step - loss: 0.1116 - acc: 0.9057\n"
          ],
          "name": "stdout"
        },
        {
          "output_type": "execute_result",
          "data": {
            "text/plain": [
              "<keras.callbacks.History at 0x7f7e5af6f2e8>"
            ]
          },
          "metadata": {
            "tags": []
          },
          "execution_count": 141
        }
      ]
    },
    {
      "metadata": {
        "id": "MUHG12PUu9Ds",
        "colab_type": "code",
        "colab": {}
      },
      "cell_type": "code",
      "source": [
        "frames_pred = model.predict([x_test_split1, x_test_dec])"
      ],
      "execution_count": 0,
      "outputs": []
    },
    {
      "metadata": {
        "id": "0DWnCinneLI7",
        "colab_type": "code",
        "colab": {}
      },
      "cell_type": "code",
      "source": [
        "frames_pred = frames_pred.reshape(3000, 10, 32, 32)"
      ],
      "execution_count": 0,
      "outputs": []
    },
    {
      "metadata": {
        "id": "voA-8zzJ3qMK",
        "colab_type": "code",
        "colab": {
          "base_uri": "https://localhost:8080/",
          "height": 364
        },
        "outputId": "ce9216ba-cad2-4697-9659-c05d2bbd0fd8"
      },
      "cell_type": "code",
      "source": [
        "plt.imshow(x_test_split2.reshape(3000, 10, 32, 32)[0, 0, :, :])"
      ],
      "execution_count": 144,
      "outputs": [
        {
          "output_type": "execute_result",
          "data": {
            "text/plain": [
              "<matplotlib.image.AxesImage at 0x7f7e59bb5eb8>"
            ]
          },
          "metadata": {
            "tags": []
          },
          "execution_count": 144
        },
        {
          "output_type": "display_data",
          "data": {
            "image/png": "[encoded data removed]",
            "text/plain": [
              "<matplotlib.figure.Figure at 0x7f7e59c08978>"
            ]
          },
          "metadata": {
            "tags": []
          }
        }
      ]
    },
    {
      "metadata": {
        "id": "1HODAivE-eI8",
        "colab_type": "code",
        "colab": {
          "base_uri": "https://localhost:8080/",
          "height": 364
        },
        "outputId": "b480770d-313c-4f30-c974-f471d144c4c6"
      },
      "cell_type": "code",
      "source": [
        "plt.imshow(frames_pred[0, 0, :, :])"
      ],
      "execution_count": 145,
      "outputs": [
        {
          "output_type": "execute_result",
          "data": {
            "text/plain": [
              "<matplotlib.image.AxesImage at 0x7f7e59c3e2e8>"
            ]
          },
          "metadata": {
            "tags": []
          },
          "execution_count": 145
        },
        {
          "output_type": "display_data",
          "data": {
            "image/png": "[encoded data removed]",
            "text/plain": [
              "<matplotlib.figure.Figure at 0x7f7e59bc9e48>"
            ]
          },
          "metadata": {
            "tags": []
          }
        }
      ]
    },
    {
      "metadata": {
        "id": "HNRgYmf2-eL0",
        "colab_type": "code",
        "colab": {
          "base_uri": "https://localhost:8080/",
          "height": 364
        },
        "outputId": "1d6020b5-68af-4c8d-bf2e-db47609b8a37"
      },
      "cell_type": "code",
      "source": [
        "plt.imshow(x_test_split2.reshape(3000, 10, 32, 32)[0, 9, :, :])"
      ],
      "execution_count": 146,
      "outputs": [
        {
          "output_type": "execute_result",
          "data": {
            "text/plain": [
              "<matplotlib.image.AxesImage at 0x7f7e59b4c748>"
            ]
          },
          "metadata": {
            "tags": []
          },
          "execution_count": 146
        },
        {
          "output_type": "display_data",
          "data": {
            "image/png": "[encoded data removed]",
            "text/plain": [
              "<matplotlib.figure.Figure at 0x7f7e5b052860>"
            ]
          },
          "metadata": {
            "tags": []
          }
        }
      ]
    },
    {
      "metadata": {
        "id": "fj5bMlOu-eOP",
        "colab_type": "code",
        "colab": {
          "base_uri": "https://localhost:8080/",
          "height": 364
        },
        "outputId": "6a3eca4f-1ef9-4001-ddb6-86c09579f3f4"
      },
      "cell_type": "code",
      "source": [
        "plt.imshow(frames_pred[0, 9, :, :])"
      ],
      "execution_count": 148,
      "outputs": [
        {
          "output_type": "execute_result",
          "data": {
            "text/plain": [
              "<matplotlib.image.AxesImage at 0x7f7e59a8cac8>"
            ]
          },
          "metadata": {
            "tags": []
          },
          "execution_count": 148
        },
        {
          "output_type": "display_data",
          "data": {
            "image/png": "[encoded data removed]",
            "text/plain": [
              "<matplotlib.figure.Figure at 0x7f7e5af8d7f0>"
            ]
          },
          "metadata": {
            "tags": []
          }
        }
      ]
    },
    {
      "metadata": {
        "id": "TuSySnJLCjrg",
        "colab_type": "code",
        "colab": {
          "base_uri": "https://localhost:8080/",
          "height": 34
        },
        "outputId": "5233c0bd-a7da-4f63-af17-6d86aafb81b4"
      },
      "cell_type": "code",
      "source": [
        "np.min(x_test_split2.reshape(3000, 10, 32, 32)[0, 9, :, :]), np.max(x_test_split2.reshape(3000, 10, 32, 32)[0, 9, :, :])"
      ],
      "execution_count": 149,
      "outputs": [
        {
          "output_type": "execute_result",
          "data": {
            "text/plain": [
              "(0.0, 0.9921568627450981)"
            ]
          },
          "metadata": {
            "tags": []
          },
          "execution_count": 149
        }
      ]
    },
    {
      "metadata": {
        "id": "yyNWUPOP-eQx",
        "colab_type": "code",
        "colab": {
          "base_uri": "https://localhost:8080/",
          "height": 34
        },
        "outputId": "c5c25c3b-9f3f-4fab-cbf7-983896d5e697"
      },
      "cell_type": "code",
      "source": [
        "np.min(frames_pred[0, 9, :, :]), np.max(frames_pred[0, 9, :, :])"
      ],
      "execution_count": 150,
      "outputs": [
        {
          "output_type": "execute_result",
          "data": {
            "text/plain": [
              "(0.0, 0.45250553)"
            ]
          },
          "metadata": {
            "tags": []
          },
          "execution_count": 150
        }
      ]
    },
    {
      "metadata": {
        "id": "wNvL_qVo-eTj",
        "colab_type": "code",
        "colab": {
          "base_uri": "https://localhost:8080/",
          "height": 71
        },
        "outputId": "79d4d6bf-ddcb-4e7b-df5a-7a6e8443a7a9"
      },
      "cell_type": "code",
      "source": [
        "model.save('model1.h5')"
      ],
      "execution_count": 151,
      "outputs": [
        {
          "output_type": "stream",
          "text": [
            "/usr/local/lib/python3.6/dist-packages/keras/engine/topology.py:2379: UserWarning: Layer lstm_32 was passed non-serializable keyword arguments: {'initial_state': [<tf.Tensor 'lstm_31/while/Exit_2:0' shape=(?, 1024) dtype=float32>, <tf.Tensor 'lstm_31/while/Exit_3:0' shape=(?, 1024) dtype=float32>]}. They will not be included in the serialized model (and thus will be missing at deserialization time).\n",
            "  str(node.arguments) + '. They will not be included '\n"
          ],
          "name": "stderr"
        }
      ]
    },
    {
      "metadata": {
        "id": "PIgnL5hIYwF0",
        "colab_type": "code",
        "colab": {}
      },
      "cell_type": "code",
      "source": [
        ""
      ],
      "execution_count": 0,
      "outputs": []
    },
    {
      "metadata": {
        "id": "TgH1Iqj2JC6H",
        "colab_type": "text"
      },
      "cell_type": "markdown",
      "source": [
        "# Two layers"
      ]
    },
    {
      "metadata": {
        "id": "P2KcPPkyNNiD",
        "colab_type": "code",
        "colab": {
          "base_uri": "https://localhost:8080/",
          "height": 34
        },
        "outputId": "c08456e9-959f-49bc-cf79-6e80ef144d08"
      },
      "cell_type": "code",
      "source": [
        "x_train_split1.shape, x_train_dec.shape, x_train_split2.shape"
      ],
      "execution_count": 66,
      "outputs": [
        {
          "output_type": "execute_result",
          "data": {
            "text/plain": [
              "((7000, 10, 1024), (7000, 10, 1024), (7000, 10, 1024))"
            ]
          },
          "metadata": {
            "tags": []
          },
          "execution_count": 66
        }
      ]
    },
    {
      "metadata": {
        "id": "f8gSgMckZYho",
        "colab_type": "code",
        "colab": {
          "base_uri": "https://localhost:8080/",
          "height": 68
        },
        "outputId": "f33a3c96-c1fb-4989-a376-2f37b74bd2ba"
      },
      "cell_type": "code",
      "source": [
        "#encoder\n",
        "\n",
        "# num_cells = 4096\n",
        "\n",
        "num_input = 32 * 32\n",
        "\n",
        "num_cells = 32 * 32\n",
        "\n",
        "in_encoder = Input(shape=(10, num_input))\n",
        "\n",
        "encoder_lstm = LSTM(num_cells, return_sequences=True, name='lstm1')\n",
        "\n",
        "out_encoder1 = encoder_lstm(in_encoder)\n",
        "\n",
        "print(out_encoder1)\n",
        "\n",
        "encoder_lstm2 = LSTM(num_input, return_sequences=True, return_state=True, name='lstm2')\n",
        "\n",
        "out_encoder, h_encoder, c_encoder = encoder_lstm2(out_encoder1)\n",
        "\n",
        "encoder_states = [h_encoder, c_encoder]\n",
        "\n",
        "print(h_encoder.shape, c_encoder.shape)\n",
        "\n",
        "\n",
        "#decoder\n",
        "\n",
        "in_decoder = Input(shape=(10,num_input))\n",
        "\n",
        "decoder_lstm = LSTM(num_input, return_sequences=True, name='lstm3')\n",
        "\n",
        "out_decoder1 = decoder_lstm(in_decoder, initial_state=encoder_states)\n",
        "\n",
        "decoder_lstm2 = LSTM(num_input, return_sequences=True, name='lstm4', activation='sigmoid')\n",
        "\n",
        "out_decoder = decoder_lstm2(out_decoder1)\n",
        "\n",
        "print(out_decoder)\n",
        "\n",
        "model = Model([in_encoder, in_decoder], [out_decoder])\n",
        "\n"
      ],
      "execution_count": 86,
      "outputs": [
        {
          "output_type": "stream",
          "text": [
            "Tensor(\"lstm1_11/transpose_1:0\", shape=(?, ?, 1024), dtype=float32)\n",
            "(?, 1024) (?, 1024)\n",
            "Tensor(\"lstm4_6/transpose_1:0\", shape=(?, ?, 1024), dtype=float32)\n"
          ],
          "name": "stdout"
        }
      ]
    },
    {
      "metadata": {
        "id": "UH5Lfc6TiCoe",
        "colab_type": "code",
        "colab": {
          "base_uri": "https://localhost:8080/",
          "height": 374
        },
        "outputId": "488bbca8-204e-4a6e-fff1-793db90e1291"
      },
      "cell_type": "code",
      "source": [
        "model.summary()"
      ],
      "execution_count": 87,
      "outputs": [
        {
          "output_type": "stream",
          "text": [
            "__________________________________________________________________________________________________\n",
            "Layer (type)                    Output Shape         Param #     Connected to                     \n",
            "==================================================================================================\n",
            "input_22 (InputLayer)           (None, 10, 1024)     0                                            \n",
            "__________________________________________________________________________________________________\n",
            "lstm1 (LSTM)                    (None, 10, 1024)     8392704     input_22[0][0]                   \n",
            "__________________________________________________________________________________________________\n",
            "input_23 (InputLayer)           (None, 10, 1024)     0                                            \n",
            "__________________________________________________________________________________________________\n",
            "lstm2 (LSTM)                    [(None, 10, 1024), ( 8392704     lstm1[0][0]                      \n",
            "__________________________________________________________________________________________________\n",
            "lstm3 (LSTM)                    (None, 10, 1024)     8392704     input_23[0][0]                   \n",
            "                                                                 lstm2[0][1]                      \n",
            "                                                                 lstm2[0][2]                      \n",
            "__________________________________________________________________________________________________\n",
            "lstm4 (LSTM)                    (None, 10, 1024)     8392704     lstm3[0][0]                      \n",
            "==================================================================================================\n",
            "Total params: 33,570,816\n",
            "Trainable params: 33,570,816\n",
            "Non-trainable params: 0\n",
            "__________________________________________________________________________________________________\n"
          ],
          "name": "stdout"
        }
      ]
    },
    {
      "metadata": {
        "id": "MfoEhVaTiCrA",
        "colab_type": "code",
        "colab": {}
      },
      "cell_type": "code",
      "source": [
        "# op = keras.optimizers.SGD(lr=0.0001, momentum=0.9, nesterov=True)\n",
        "op = keras.optimizers.Adam(lr=0.01)\n",
        "\n",
        "reduce_lr = keras.callbacks.ReduceLROnPlateau(monitor='loss', factor=0.2,\n",
        "                              patience=5, min_lr=0.0001)\n",
        "\n",
        "model.compile(optimizer='adam',\n",
        "              loss='binary_crossentropy',\n",
        "              metrics=['accuracy'])"
      ],
      "execution_count": 0,
      "outputs": []
    },
    {
      "metadata": {
        "id": "XuMhecl-iCts",
        "colab_type": "code",
        "colab": {
          "base_uri": "https://localhost:8080/",
          "height": 3434
        },
        "outputId": "971ca6be-5973-4a2c-e07b-a9e8f066b7ed"
      },
      "cell_type": "code",
      "source": [
        "model.fit([x_train_split1, x_train_dec], [x_train_split2], epochs=100, batch_size=16, callbacks=[reduce_lr])"
      ],
      "execution_count": 89,
      "outputs": [
        {
          "output_type": "stream",
          "text": [
            "Epoch 1/100\n",
            "7000/7000 [==============================] - 107s 15ms/step - loss: 0.2132 - acc: 0.9068\n",
            "Epoch 2/100\n",
            "7000/7000 [==============================] - 101s 14ms/step - loss: 0.1949 - acc: 0.9068\n",
            "Epoch 3/100\n",
            "7000/7000 [==============================] - 100s 14ms/step - loss: 0.1975 - acc: 0.9068\n",
            "Epoch 4/100\n",
            "7000/7000 [==============================] - 100s 14ms/step - loss: 0.1930 - acc: 0.9068\n",
            "Epoch 5/100\n",
            "7000/7000 [==============================] - 101s 14ms/step - loss: 0.1898 - acc: 0.9067\n",
            "Epoch 6/100\n",
            "7000/7000 [==============================] - 100s 14ms/step - loss: 0.1797 - acc: 0.9068\n",
            "Epoch 7/100\n",
            "7000/7000 [==============================] - 101s 14ms/step - loss: 0.1784 - acc: 0.9068\n",
            "Epoch 8/100\n",
            "7000/7000 [==============================] - 101s 14ms/step - loss: 0.1776 - acc: 0.9068\n",
            "Epoch 9/100\n",
            "7000/7000 [==============================] - 100s 14ms/step - loss: 0.1772 - acc: 0.9068\n",
            "Epoch 10/100\n",
            "7000/7000 [==============================] - 100s 14ms/step - loss: 0.1888 - acc: 0.9068\n",
            "Epoch 11/100\n",
            "7000/7000 [==============================] - 100s 14ms/step - loss: 0.2005 - acc: 0.9068\n",
            "Epoch 12/100\n",
            "7000/7000 [==============================] - 100s 14ms/step - loss: 0.1986 - acc: 0.9068\n",
            "Epoch 13/100\n",
            "7000/7000 [==============================] - 101s 14ms/step - loss: 0.1907 - acc: 0.9068\n",
            "Epoch 14/100\n",
            "7000/7000 [==============================] - 101s 14ms/step - loss: 0.1852 - acc: 0.9068\n",
            "Epoch 15/100\n",
            "7000/7000 [==============================] - 100s 14ms/step - loss: 0.1798 - acc: 0.9068\n",
            "Epoch 16/100\n",
            "7000/7000 [==============================] - 100s 14ms/step - loss: 0.1782 - acc: 0.9068\n",
            "Epoch 17/100\n",
            "7000/7000 [==============================] - 100s 14ms/step - loss: 0.1768 - acc: 0.9068\n",
            "Epoch 18/100\n",
            "7000/7000 [==============================] - 100s 14ms/step - loss: 0.1746 - acc: 0.9068\n",
            "Epoch 19/100\n",
            "7000/7000 [==============================] - 100s 14ms/step - loss: 0.1728 - acc: 0.9068\n",
            "Epoch 20/100\n",
            "7000/7000 [==============================] - 100s 14ms/step - loss: 0.1691 - acc: 0.9068\n",
            "Epoch 21/100\n",
            "7000/7000 [==============================] - 100s 14ms/step - loss: 0.1667 - acc: 0.9068\n",
            "Epoch 22/100\n",
            "7000/7000 [==============================] - 100s 14ms/step - loss: 0.1660 - acc: 0.9068\n",
            "Epoch 23/100\n",
            "7000/7000 [==============================] - 100s 14ms/step - loss: 0.1641 - acc: 0.9068\n",
            "Epoch 24/100\n",
            "7000/7000 [==============================] - 100s 14ms/step - loss: 0.1601 - acc: 0.9068\n",
            "Epoch 25/100\n",
            "7000/7000 [==============================] - 100s 14ms/step - loss: 0.1590 - acc: 0.9068\n",
            "Epoch 26/100\n",
            "7000/7000 [==============================] - 100s 14ms/step - loss: 0.1602 - acc: 0.9068\n",
            "Epoch 27/100\n",
            "7000/7000 [==============================] - 100s 14ms/step - loss: 0.1579 - acc: 0.9068\n",
            "Epoch 28/100\n",
            "7000/7000 [==============================] - 100s 14ms/step - loss: 0.1594 - acc: 0.9068\n",
            "Epoch 29/100\n",
            "7000/7000 [==============================] - 100s 14ms/step - loss: 0.1545 - acc: 0.9068\n",
            "Epoch 30/100\n",
            "7000/7000 [==============================] - 100s 14ms/step - loss: 0.1581 - acc: 0.9068\n",
            "Epoch 31/100\n",
            "7000/7000 [==============================] - 100s 14ms/step - loss: 0.1549 - acc: 0.9068\n",
            "Epoch 32/100\n",
            "7000/7000 [==============================] - 100s 14ms/step - loss: 0.1533 - acc: 0.9068\n",
            "Epoch 33/100\n",
            "7000/7000 [==============================] - 100s 14ms/step - loss: 0.1523 - acc: 0.9068\n",
            "Epoch 34/100\n",
            "7000/7000 [==============================] - 100s 14ms/step - loss: 0.1548 - acc: 0.9068\n",
            "Epoch 35/100\n",
            "7000/7000 [==============================] - 100s 14ms/step - loss: 0.1530 - acc: 0.9068\n",
            "Epoch 36/100\n",
            "7000/7000 [==============================] - 100s 14ms/step - loss: 0.1523 - acc: 0.9068\n",
            "Epoch 37/100\n",
            "7000/7000 [==============================] - 100s 14ms/step - loss: 0.1505 - acc: 0.9068\n",
            "Epoch 38/100\n",
            "7000/7000 [==============================] - 100s 14ms/step - loss: 0.1488 - acc: 0.9067\n",
            "Epoch 39/100\n",
            "7000/7000 [==============================] - 100s 14ms/step - loss: 0.1518 - acc: 0.9067\n",
            "Epoch 40/100\n",
            "7000/7000 [==============================] - 100s 14ms/step - loss: 0.1558 - acc: 0.9067\n",
            "Epoch 41/100\n",
            "7000/7000 [==============================] - 105s 15ms/step - loss: 0.1534 - acc: 0.9068\n",
            "Epoch 42/100\n",
            "7000/7000 [==============================] - 104s 15ms/step - loss: 0.1487 - acc: 0.9067\n",
            "Epoch 43/100\n",
            "7000/7000 [==============================] - 101s 14ms/step - loss: 0.1456 - acc: 0.9067\n",
            "Epoch 44/100\n",
            "7000/7000 [==============================] - 101s 14ms/step - loss: 0.1463 - acc: 0.9067\n",
            "Epoch 45/100\n",
            "7000/7000 [==============================] - 101s 14ms/step - loss: 0.1484 - acc: 0.9068\n",
            "Epoch 46/100\n",
            "7000/7000 [==============================] - 101s 14ms/step - loss: 0.1457 - acc: 0.9067\n",
            "Epoch 47/100\n",
            "7000/7000 [==============================] - 101s 14ms/step - loss: 0.1483 - acc: 0.9068\n",
            "Epoch 48/100\n",
            "7000/7000 [==============================] - 101s 14ms/step - loss: 0.1465 - acc: 0.9067\n",
            "Epoch 49/100\n",
            "7000/7000 [==============================] - 101s 14ms/step - loss: 0.1427 - acc: 0.9067\n",
            "Epoch 50/100\n",
            "7000/7000 [==============================] - 101s 14ms/step - loss: 0.1412 - acc: 0.9067\n",
            "Epoch 51/100\n",
            "7000/7000 [==============================] - 101s 14ms/step - loss: 0.1401 - acc: 0.9066\n",
            "Epoch 52/100\n",
            "7000/7000 [==============================] - 101s 14ms/step - loss: 0.1398 - acc: 0.9066\n",
            "Epoch 53/100\n",
            "7000/7000 [==============================] - 101s 14ms/step - loss: 0.1416 - acc: 0.9067\n",
            "Epoch 54/100\n",
            "7000/7000 [==============================] - 101s 14ms/step - loss: 0.1393 - acc: 0.9067\n",
            "Epoch 55/100\n",
            "7000/7000 [==============================] - 101s 14ms/step - loss: 0.1384 - acc: 0.9066\n",
            "Epoch 56/100\n",
            "7000/7000 [==============================] - 101s 14ms/step - loss: 0.1372 - acc: 0.9066\n",
            "Epoch 57/100\n",
            "7000/7000 [==============================] - 101s 14ms/step - loss: 0.1395 - acc: 0.9066\n",
            "Epoch 58/100\n",
            "7000/7000 [==============================] - 101s 14ms/step - loss: 0.1420 - acc: 0.9066\n",
            "Epoch 59/100\n",
            "7000/7000 [==============================] - 101s 14ms/step - loss: 0.1383 - acc: 0.9067\n",
            "Epoch 60/100\n",
            "7000/7000 [==============================] - 101s 14ms/step - loss: 0.1371 - acc: 0.9066\n",
            "Epoch 61/100\n",
            "7000/7000 [==============================] - 101s 14ms/step - loss: 0.1361 - acc: 0.9066\n",
            "Epoch 62/100\n",
            "7000/7000 [==============================] - 101s 14ms/step - loss: 0.1350 - acc: 0.9065\n",
            "Epoch 63/100\n",
            "7000/7000 [==============================] - 101s 14ms/step - loss: 0.1339 - acc: 0.9065\n",
            "Epoch 64/100\n",
            "7000/7000 [==============================] - 101s 14ms/step - loss: 0.1354 - acc: 0.9065\n",
            "Epoch 65/100\n",
            "7000/7000 [==============================] - 101s 14ms/step - loss: 0.1353 - acc: 0.9066\n",
            "Epoch 66/100\n",
            "7000/7000 [==============================] - 101s 14ms/step - loss: 0.1348 - acc: 0.9065\n",
            "Epoch 67/100\n",
            "7000/7000 [==============================] - 101s 14ms/step - loss: 0.1329 - acc: 0.9064\n",
            "Epoch 68/100\n",
            "7000/7000 [==============================] - 101s 14ms/step - loss: 0.1367 - acc: 0.9066\n",
            "Epoch 69/100\n",
            "7000/7000 [==============================] - 101s 14ms/step - loss: 0.1331 - acc: 0.9065\n",
            "Epoch 70/100\n",
            "7000/7000 [==============================] - 101s 14ms/step - loss: 0.1339 - acc: 0.9065\n",
            "Epoch 71/100\n",
            "7000/7000 [==============================] - 101s 14ms/step - loss: 0.1326 - acc: 0.9065\n",
            "Epoch 72/100\n",
            "7000/7000 [==============================] - 101s 14ms/step - loss: 0.1358 - acc: 0.9066\n",
            "Epoch 73/100\n",
            "7000/7000 [==============================] - 101s 14ms/step - loss: 0.1320 - acc: 0.9065\n",
            "Epoch 74/100\n",
            "7000/7000 [==============================] - 101s 14ms/step - loss: 0.1355 - acc: 0.9065\n",
            "Epoch 75/100\n",
            "7000/7000 [==============================] - 101s 14ms/step - loss: 0.1320 - acc: 0.9066\n",
            "Epoch 76/100\n",
            "7000/7000 [==============================] - 101s 14ms/step - loss: 0.1302 - acc: 0.9065\n",
            "Epoch 77/100\n",
            "7000/7000 [==============================] - 101s 14ms/step - loss: 0.1299 - acc: 0.9064\n",
            "Epoch 78/100\n",
            "7000/7000 [==============================] - 101s 14ms/step - loss: 0.1314 - acc: 0.9065\n",
            "Epoch 79/100\n",
            "7000/7000 [==============================] - 101s 14ms/step - loss: 0.1326 - acc: 0.9065\n",
            "Epoch 80/100\n",
            "7000/7000 [==============================] - 101s 14ms/step - loss: 0.1324 - acc: 0.9066\n",
            "Epoch 81/100\n",
            "7000/7000 [==============================] - 101s 14ms/step - loss: 0.1326 - acc: 0.9066\n",
            "Epoch 82/100\n",
            "7000/7000 [==============================] - 101s 14ms/step - loss: 0.1317 - acc: 0.9065\n",
            "Epoch 83/100\n",
            "7000/7000 [==============================] - 101s 14ms/step - loss: 0.1296 - acc: 0.9064\n",
            "Epoch 84/100\n",
            "7000/7000 [==============================] - 101s 14ms/step - loss: 0.1280 - acc: 0.9064\n",
            "Epoch 85/100\n",
            "7000/7000 [==============================] - 100s 14ms/step - loss: 0.1269 - acc: 0.9063\n",
            "Epoch 86/100\n",
            "7000/7000 [==============================] - 100s 14ms/step - loss: 0.1278 - acc: 0.9063\n",
            "Epoch 87/100\n",
            "7000/7000 [==============================] - 101s 14ms/step - loss: 0.1268 - acc: 0.9063\n",
            "Epoch 88/100\n",
            "7000/7000 [==============================] - 108s 15ms/step - loss: 0.1317 - acc: 0.9063\n",
            "Epoch 89/100\n",
            "7000/7000 [==============================] - 101s 14ms/step - loss: 0.1319 - acc: 0.9064\n",
            "Epoch 90/100\n",
            "7000/7000 [==============================] - 101s 14ms/step - loss: 0.1285 - acc: 0.9065\n",
            "Epoch 91/100\n",
            "7000/7000 [==============================] - 102s 15ms/step - loss: 0.1261 - acc: 0.9063\n",
            "Epoch 92/100\n",
            "7000/7000 [==============================] - 101s 14ms/step - loss: 0.1288 - acc: 0.9064\n",
            "Epoch 93/100\n",
            "7000/7000 [==============================] - 101s 14ms/step - loss: 0.1293 - acc: 0.9065\n",
            "Epoch 94/100\n",
            "7000/7000 [==============================] - 101s 14ms/step - loss: 0.1252 - acc: 0.9062\n",
            "Epoch 95/100\n",
            "7000/7000 [==============================] - 101s 14ms/step - loss: 0.1283 - acc: 0.9063\n",
            "Epoch 96/100\n",
            "7000/7000 [==============================] - 101s 14ms/step - loss: 0.1268 - acc: 0.9064\n",
            "Epoch 97/100\n",
            "7000/7000 [==============================] - 101s 14ms/step - loss: 0.1258 - acc: 0.9063\n",
            "Epoch 98/100\n",
            "7000/7000 [==============================] - 101s 14ms/step - loss: 0.1281 - acc: 0.9063\n",
            "Epoch 99/100\n",
            "7000/7000 [==============================] - 101s 14ms/step - loss: 0.1251 - acc: 0.9063\n",
            "Epoch 100/100\n",
            "7000/7000 [==============================] - 101s 14ms/step - loss: 0.1291 - acc: 0.9065\n"
          ],
          "name": "stdout"
        },
        {
          "output_type": "execute_result",
          "data": {
            "text/plain": [
              "<keras.callbacks.History at 0x7f0f586efe48>"
            ]
          },
          "metadata": {
            "tags": []
          },
          "execution_count": 89
        }
      ]
    },
    {
      "metadata": {
        "id": "VH6apxgLiCwQ",
        "colab_type": "code",
        "colab": {}
      },
      "cell_type": "code",
      "source": [
        "frames_pred = model.predict([x_test_split1, x_test_dec])"
      ],
      "execution_count": 0,
      "outputs": []
    },
    {
      "metadata": {
        "id": "ZCwho_IJiCzA",
        "colab_type": "code",
        "colab": {}
      },
      "cell_type": "code",
      "source": [
        "frames_pred = frames_pred.reshape(3000, 10, 32, 32)"
      ],
      "execution_count": 0,
      "outputs": []
    },
    {
      "metadata": {
        "id": "HWALMyXNJI6U",
        "colab_type": "code",
        "colab": {
          "base_uri": "https://localhost:8080/",
          "height": 34
        },
        "outputId": "b60ae70a-6d61-4771-b516-4c0f96a6b8e6"
      },
      "cell_type": "code",
      "source": [
        "np.min(frames_pred), np.max(frames_pred)"
      ],
      "execution_count": 92,
      "outputs": [
        {
          "output_type": "execute_result",
          "data": {
            "text/plain": [
              "(0.0, 0.96190315)"
            ]
          },
          "metadata": {
            "tags": []
          },
          "execution_count": 92
        }
      ]
    },
    {
      "metadata": {
        "id": "TPdtZ7euJQsg",
        "colab_type": "code",
        "colab": {
          "base_uri": "https://localhost:8080/",
          "height": 364
        },
        "outputId": "addc38df-2642-4dac-f78c-4ccc3808a3bb"
      },
      "cell_type": "code",
      "source": [
        "plt.imshow(x_test_split2.reshape(3000, 10, 32, 32)[0, 0, :, :])"
      ],
      "execution_count": 93,
      "outputs": [
        {
          "output_type": "execute_result",
          "data": {
            "text/plain": [
              "<matplotlib.image.AxesImage at 0x7f0f56a24cc0>"
            ]
          },
          "metadata": {
            "tags": []
          },
          "execution_count": 93
        },
        {
          "output_type": "display_data",
          "data": {
            "image/png": "[encoded data removed]",
            "text/plain": [
              "<matplotlib.figure.Figure at 0x7f0f569deba8>"
            ]
          },
          "metadata": {
            "tags": []
          }
        }
      ]
    },
    {
      "metadata": {
        "id": "YsNo8OviZaWI",
        "colab_type": "code",
        "colab": {
          "base_uri": "https://localhost:8080/",
          "height": 364
        },
        "outputId": "1605d28d-7bf2-4bce-b690-7cc7e88e3ef9"
      },
      "cell_type": "code",
      "source": [
        "plt.imshow(frames_pred[0, 0, :, :])"
      ],
      "execution_count": 94,
      "outputs": [
        {
          "output_type": "execute_result",
          "data": {
            "text/plain": [
              "<matplotlib.image.AxesImage at 0x7f0f569acb70>"
            ]
          },
          "metadata": {
            "tags": []
          },
          "execution_count": 94
        },
        {
          "output_type": "display_data",
          "data": {
            "image/png": "[encoded data removed]",
            "text/plain": [
              "<matplotlib.figure.Figure at 0x7f0f569de4e0>"
            ]
          },
          "metadata": {
            "tags": []
          }
        }
      ]
    },
    {
      "metadata": {
        "id": "CTSJjgiAIZKm",
        "colab_type": "code",
        "colab": {
          "base_uri": "https://localhost:8080/",
          "height": 364
        },
        "outputId": "4f181d26-2521-4e7a-913e-7b054842612a"
      },
      "cell_type": "code",
      "source": [
        "plt.imshow(x_test_split2.reshape(3000, 10, 32, 32)[0, 9, :, :])"
      ],
      "execution_count": 96,
      "outputs": [
        {
          "output_type": "execute_result",
          "data": {
            "text/plain": [
              "<matplotlib.image.AxesImage at 0x7f0f568f6240>"
            ]
          },
          "metadata": {
            "tags": []
          },
          "execution_count": 96
        },
        {
          "output_type": "display_data",
          "data": {
            "image/png": "[encoded data removed]",
            "text/plain": [
              "<matplotlib.figure.Figure at 0x7f0f569bfcf8>"
            ]
          },
          "metadata": {
            "tags": []
          }
        }
      ]
    },
    {
      "metadata": {
        "id": "1vEcbhQmIZIb",
        "colab_type": "code",
        "colab": {
          "base_uri": "https://localhost:8080/",
          "height": 364
        },
        "outputId": "75125f6b-3ab5-483e-ad6e-e222b34669bd"
      },
      "cell_type": "code",
      "source": [
        "plt.imshow(frames_pred[0, 9, :, :])"
      ],
      "execution_count": 97,
      "outputs": [
        {
          "output_type": "execute_result",
          "data": {
            "text/plain": [
              "<matplotlib.image.AxesImage at 0x7f0f56858390>"
            ]
          },
          "metadata": {
            "tags": []
          },
          "execution_count": 97
        },
        {
          "output_type": "display_data",
          "data": {
            "image/png": "[encoded data removed]",
            "text/plain": [
              "<matplotlib.figure.Figure at 0x7f0f568e36d8>"
            ]
          },
          "metadata": {
            "tags": []
          }
        }
      ]
    },
    {
      "metadata": {
        "id": "SLjVHjPciC1x",
        "colab_type": "code",
        "colab": {}
      },
      "cell_type": "code",
      "source": [
        ""
      ],
      "execution_count": 0,
      "outputs": []
    },
    {
      "metadata": {
        "id": "ExCf_f8f9O5_",
        "colab_type": "text"
      },
      "cell_type": "markdown",
      "source": [
        "# composite one layer"
      ]
    },
    {
      "metadata": {
        "id": "7ZUXjcvrK873",
        "colab_type": "code",
        "colab": {}
      },
      "cell_type": "code",
      "source": [
        ""
      ],
      "execution_count": 0,
      "outputs": []
    },
    {
      "metadata": {
        "id": "N4PWBmQV9Umk",
        "colab_type": "code",
        "colab": {
          "base_uri": "https://localhost:8080/",
          "height": 34
        },
        "outputId": "ed0efcbe-17f1-4d54-eceb-d35a4f07f66c"
      },
      "cell_type": "code",
      "source": [
        "#encoder\n",
        "\n",
        "# num_cells = 4096\n",
        "\n",
        "num_input = 32 * 32\n",
        "\n",
        "num_cells = 32 * 32\n",
        "\n",
        "in_encoder = Input(shape=(10, num_input))\n",
        "\n",
        "encoder_lstm = LSTM(num_cells, return_state=True)\n",
        "\n",
        "out_encoder, h_encoder, c_encoder = encoder_lstm(in_encoder)\n",
        "\n",
        "encoder_states = [h_encoder, c_encoder]\n",
        "\n",
        "print(h_encoder.shape, c_encoder.shape)\n",
        "\n",
        "\n",
        "#decoder\n",
        "\n",
        "#predictor\n",
        "in_decoder = Input(shape=(10,num_cells))\n",
        "\n",
        "decoder_lstm = LSTM(num_input, return_sequences=True, return_state=True, activation='sigmoid')\n",
        "\n",
        "out_decoder, _, _ = decoder_lstm(in_decoder, initial_state=encoder_states)\n",
        "\n",
        "#reconstruction\n",
        "in_decoder2 = Input(shape=(10,num_cells))\n",
        "\n",
        "decoder_lstm2 = LSTM(num_input, return_sequences=True, return_state=True, activation='sigmoid')\n",
        "\n",
        "out_decoder2, _, _ = decoder_lstm2(in_decoder2, initial_state=encoder_states)\n",
        "\n",
        "\n",
        "model = Model([in_encoder, in_decoder, in_decoder2], [out_decoder, out_decoder2])\n",
        "\n"
      ],
      "execution_count": 99,
      "outputs": [
        {
          "output_type": "stream",
          "text": [
            "(?, 1024) (?, 1024)\n"
          ],
          "name": "stdout"
        }
      ]
    },
    {
      "metadata": {
        "id": "bmwp42SxKGAt",
        "colab_type": "code",
        "colab": {
          "base_uri": "https://localhost:8080/",
          "height": 408
        },
        "outputId": "bcaa09c3-2f84-4375-b8f4-ddb68ffc42d5"
      },
      "cell_type": "code",
      "source": [
        "model.summary()"
      ],
      "execution_count": 101,
      "outputs": [
        {
          "output_type": "stream",
          "text": [
            "__________________________________________________________________________________________________\n",
            "Layer (type)                    Output Shape         Param #     Connected to                     \n",
            "==================================================================================================\n",
            "input_24 (InputLayer)           (None, 10, 1024)     0                                            \n",
            "__________________________________________________________________________________________________\n",
            "input_25 (InputLayer)           (None, 10, 1024)     0                                            \n",
            "__________________________________________________________________________________________________\n",
            "lstm_1 (LSTM)                   [(None, 1024), (None 8392704     input_24[0][0]                   \n",
            "__________________________________________________________________________________________________\n",
            "input_26 (InputLayer)           (None, 10, 1024)     0                                            \n",
            "__________________________________________________________________________________________________\n",
            "lstm_2 (LSTM)                   [(None, 10, 1024), ( 8392704     input_25[0][0]                   \n",
            "                                                                 lstm_1[0][1]                     \n",
            "                                                                 lstm_1[0][2]                     \n",
            "__________________________________________________________________________________________________\n",
            "lstm_3 (LSTM)                   [(None, 10, 1024), ( 8392704     input_26[0][0]                   \n",
            "                                                                 lstm_1[0][1]                     \n",
            "                                                                 lstm_1[0][2]                     \n",
            "==================================================================================================\n",
            "Total params: 25,178,112\n",
            "Trainable params: 25,178,112\n",
            "Non-trainable params: 0\n",
            "__________________________________________________________________________________________________\n"
          ],
          "name": "stdout"
        }
      ]
    },
    {
      "metadata": {
        "id": "9DoDMAzaI3cT",
        "colab_type": "code",
        "colab": {}
      },
      "cell_type": "code",
      "source": [
        "# op = keras.optimizers.SGD(lr=0.0001, momentum=0.9, nesterov=True)\n",
        "op = keras.optimizers.Adam(lr=0.001)\n",
        "\n",
        "reduce_lr = keras.callbacks.ReduceLROnPlateau(monitor='loss', factor=0.2,\n",
        "                              patience=5, min_lr=0.0001)\n",
        "\n",
        "model.compile(optimizer=op,\n",
        "              loss='binary_crossentropy',\n",
        "              metrics=['accuracy'])"
      ],
      "execution_count": 0,
      "outputs": []
    },
    {
      "metadata": {
        "id": "YgjlTnQfI3hX",
        "colab_type": "code",
        "colab": {
          "base_uri": "https://localhost:8080/",
          "height": 3454
        },
        "outputId": "d5937bbf-d3cd-40b1-b0d8-743f0b285ac1"
      },
      "cell_type": "code",
      "source": [
        "model.fit([x_train_split1, x_train_dec, x_train_dec2], [x_train_split2, x_train_split1], epochs=100, batch_size=16, callbacks=[reduce_lr])"
      ],
      "execution_count": 102,
      "outputs": [
        {
          "output_type": "stream",
          "text": [
            "Epoch 1/100\n",
            "7000/7000 [==============================] - 79s 11ms/step - loss: 0.3152 - lstm_2_loss: 0.1669 - lstm_3_loss: 0.1483 - lstm_2_acc: 0.9067 - lstm_3_acc: 0.9065\n",
            "Epoch 2/100\n",
            "7000/7000 [==============================] - 74s 11ms/step - loss: 0.2796 - lstm_2_loss: 0.1524 - lstm_3_loss: 0.1271 - lstm_2_acc: 0.9067 - lstm_3_acc: 0.9062\n",
            "Epoch 3/100\n",
            "7000/7000 [==============================] - 74s 11ms/step - loss: 0.2720 - lstm_2_loss: 0.1499 - lstm_3_loss: 0.1221 - lstm_2_acc: 0.9067 - lstm_3_acc: 0.9060\n",
            "Epoch 4/100\n",
            "7000/7000 [==============================] - 73s 10ms/step - loss: 0.2692 - lstm_2_loss: 0.1475 - lstm_3_loss: 0.1217 - lstm_2_acc: 0.9066 - lstm_3_acc: 0.9059\n",
            "Epoch 5/100\n",
            "7000/7000 [==============================] - 74s 11ms/step - loss: 0.2656 - lstm_2_loss: 0.1446 - lstm_3_loss: 0.1210 - lstm_2_acc: 0.9066 - lstm_3_acc: 0.9060\n",
            "Epoch 6/100\n",
            "7000/7000 [==============================] - 73s 10ms/step - loss: 0.2732 - lstm_2_loss: 0.1477 - lstm_3_loss: 0.1255 - lstm_2_acc: 0.9066 - lstm_3_acc: 0.9059\n",
            "Epoch 7/100\n",
            "7000/7000 [==============================] - 73s 10ms/step - loss: 0.2658 - lstm_2_loss: 0.1449 - lstm_3_loss: 0.1209 - lstm_2_acc: 0.9065 - lstm_3_acc: 0.9060\n",
            "Epoch 8/100\n",
            "7000/7000 [==============================] - 73s 10ms/step - loss: 0.2581 - lstm_2_loss: 0.1404 - lstm_3_loss: 0.1177 - lstm_2_acc: 0.9065 - lstm_3_acc: 0.9059\n",
            "Epoch 9/100\n",
            "7000/7000 [==============================] - 73s 10ms/step - loss: 0.2553 - lstm_2_loss: 0.1406 - lstm_3_loss: 0.1146 - lstm_2_acc: 0.9065 - lstm_3_acc: 0.9057\n",
            "Epoch 10/100\n",
            "7000/7000 [==============================] - 73s 10ms/step - loss: 0.2546 - lstm_2_loss: 0.1366 - lstm_3_loss: 0.1180 - lstm_2_acc: 0.9065 - lstm_3_acc: 0.9056\n",
            "Epoch 11/100\n",
            "7000/7000 [==============================] - 74s 11ms/step - loss: 0.2542 - lstm_2_loss: 0.1360 - lstm_3_loss: 0.1182 - lstm_2_acc: 0.9064 - lstm_3_acc: 0.9058\n",
            "Epoch 12/100\n",
            "7000/7000 [==============================] - 73s 10ms/step - loss: 0.2629 - lstm_2_loss: 0.1482 - lstm_3_loss: 0.1146 - lstm_2_acc: 0.9062 - lstm_3_acc: 0.9057\n",
            "Epoch 13/100\n",
            "7000/7000 [==============================] - 73s 10ms/step - loss: 0.2718 - lstm_2_loss: 0.1483 - lstm_3_loss: 0.1234 - lstm_2_acc: 0.9058 - lstm_3_acc: 0.9058\n",
            "Epoch 14/100\n",
            "7000/7000 [==============================] - 73s 10ms/step - loss: 0.2543 - lstm_2_loss: 0.1382 - lstm_3_loss: 0.1161 - lstm_2_acc: 0.9062 - lstm_3_acc: 0.9057\n",
            "Epoch 15/100\n",
            "7000/7000 [==============================] - 75s 11ms/step - loss: 0.2566 - lstm_2_loss: 0.1362 - lstm_3_loss: 0.1204 - lstm_2_acc: 0.9064 - lstm_3_acc: 0.9058\n",
            "Epoch 16/100\n",
            "7000/7000 [==============================] - 74s 11ms/step - loss: 0.2496 - lstm_2_loss: 0.1349 - lstm_3_loss: 0.1147 - lstm_2_acc: 0.9064 - lstm_3_acc: 0.9057\n",
            "Epoch 17/100\n",
            "7000/7000 [==============================] - 74s 11ms/step - loss: 0.2448 - lstm_2_loss: 0.1325 - lstm_3_loss: 0.1123 - lstm_2_acc: 0.9063 - lstm_3_acc: 0.9056\n",
            "Epoch 18/100\n",
            "7000/7000 [==============================] - 74s 11ms/step - loss: 0.2419 - lstm_2_loss: 0.1304 - lstm_3_loss: 0.1115 - lstm_2_acc: 0.9063 - lstm_3_acc: 0.9055\n",
            "Epoch 19/100\n",
            "7000/7000 [==============================] - 74s 11ms/step - loss: 0.2423 - lstm_2_loss: 0.1295 - lstm_3_loss: 0.1128 - lstm_2_acc: 0.9063 - lstm_3_acc: 0.9055\n",
            "Epoch 20/100\n",
            "7000/7000 [==============================] - 74s 11ms/step - loss: 0.2418 - lstm_2_loss: 0.1301 - lstm_3_loss: 0.1116 - lstm_2_acc: 0.9063 - lstm_3_acc: 0.9055\n",
            "Epoch 21/100\n",
            "7000/7000 [==============================] - 74s 11ms/step - loss: 0.2457 - lstm_2_loss: 0.1335 - lstm_3_loss: 0.1122 - lstm_2_acc: 0.9062 - lstm_3_acc: 0.9055\n",
            "Epoch 22/100\n",
            "7000/7000 [==============================] - 75s 11ms/step - loss: 0.2558 - lstm_2_loss: 0.1415 - lstm_3_loss: 0.1143 - lstm_2_acc: 0.9064 - lstm_3_acc: 0.9057\n",
            "Epoch 23/100\n",
            "7000/7000 [==============================] - 74s 11ms/step - loss: 0.2486 - lstm_2_loss: 0.1350 - lstm_3_loss: 0.1136 - lstm_2_acc: 0.9064 - lstm_3_acc: 0.9056\n",
            "Epoch 24/100\n",
            "7000/7000 [==============================] - 74s 11ms/step - loss: 0.2450 - lstm_2_loss: 0.1317 - lstm_3_loss: 0.1132 - lstm_2_acc: 0.9063 - lstm_3_acc: 0.9055\n",
            "Epoch 25/100\n",
            "7000/7000 [==============================] - 74s 11ms/step - loss: 0.2419 - lstm_2_loss: 0.1298 - lstm_3_loss: 0.1121 - lstm_2_acc: 0.9063 - lstm_3_acc: 0.9055\n",
            "Epoch 26/100\n",
            "7000/7000 [==============================] - 74s 11ms/step - loss: 0.2346 - lstm_2_loss: 0.1255 - lstm_3_loss: 0.1091 - lstm_2_acc: 0.9062 - lstm_3_acc: 0.9054\n",
            "Epoch 27/100\n",
            "7000/7000 [==============================] - 74s 11ms/step - loss: 0.2324 - lstm_2_loss: 0.1242 - lstm_3_loss: 0.1082 - lstm_2_acc: 0.9061 - lstm_3_acc: 0.9054\n",
            "Epoch 28/100\n",
            "7000/7000 [==============================] - 74s 11ms/step - loss: 0.2313 - lstm_2_loss: 0.1236 - lstm_3_loss: 0.1077 - lstm_2_acc: 0.9061 - lstm_3_acc: 0.9054\n",
            "Epoch 29/100\n",
            "7000/7000 [==============================] - 74s 11ms/step - loss: 0.2300 - lstm_2_loss: 0.1227 - lstm_3_loss: 0.1073 - lstm_2_acc: 0.9061 - lstm_3_acc: 0.9053\n",
            "Epoch 30/100\n",
            "7000/7000 [==============================] - 74s 11ms/step - loss: 0.2291 - lstm_2_loss: 0.1218 - lstm_3_loss: 0.1073 - lstm_2_acc: 0.9060 - lstm_3_acc: 0.9053\n",
            "Epoch 31/100\n",
            "7000/7000 [==============================] - 74s 11ms/step - loss: 0.2276 - lstm_2_loss: 0.1210 - lstm_3_loss: 0.1065 - lstm_2_acc: 0.9060 - lstm_3_acc: 0.9053\n",
            "Epoch 32/100\n",
            "7000/7000 [==============================] - 74s 11ms/step - loss: 0.2284 - lstm_2_loss: 0.1208 - lstm_3_loss: 0.1076 - lstm_2_acc: 0.9060 - lstm_3_acc: 0.9054\n",
            "Epoch 33/100\n",
            "7000/7000 [==============================] - 74s 11ms/step - loss: 0.2265 - lstm_2_loss: 0.1203 - lstm_3_loss: 0.1062 - lstm_2_acc: 0.9060 - lstm_3_acc: 0.9054\n",
            "Epoch 34/100\n",
            "7000/7000 [==============================] - 74s 11ms/step - loss: 0.2254 - lstm_2_loss: 0.1196 - lstm_3_loss: 0.1058 - lstm_2_acc: 0.9060 - lstm_3_acc: 0.9053\n",
            "Epoch 35/100\n",
            "7000/7000 [==============================] - 74s 11ms/step - loss: 0.2244 - lstm_2_loss: 0.1190 - lstm_3_loss: 0.1054 - lstm_2_acc: 0.9059 - lstm_3_acc: 0.9053\n",
            "Epoch 36/100\n",
            "7000/7000 [==============================] - 77s 11ms/step - loss: 0.2244 - lstm_2_loss: 0.1193 - lstm_3_loss: 0.1051 - lstm_2_acc: 0.9059 - lstm_3_acc: 0.9052\n",
            "Epoch 37/100\n",
            "7000/7000 [==============================] - 74s 11ms/step - loss: 0.2235 - lstm_2_loss: 0.1180 - lstm_3_loss: 0.1055 - lstm_2_acc: 0.9059 - lstm_3_acc: 0.9052\n",
            "Epoch 38/100\n",
            "7000/7000 [==============================] - 73s 10ms/step - loss: 0.2231 - lstm_2_loss: 0.1180 - lstm_3_loss: 0.1052 - lstm_2_acc: 0.9059 - lstm_3_acc: 0.9053\n",
            "Epoch 39/100\n",
            "7000/7000 [==============================] - 76s 11ms/step - loss: 0.2218 - lstm_2_loss: 0.1171 - lstm_3_loss: 0.1047 - lstm_2_acc: 0.9058 - lstm_3_acc: 0.9052\n",
            "Epoch 40/100\n",
            "7000/7000 [==============================] - 74s 11ms/step - loss: 0.2211 - lstm_2_loss: 0.1165 - lstm_3_loss: 0.1045 - lstm_2_acc: 0.9058 - lstm_3_acc: 0.9052\n",
            "Epoch 41/100\n",
            "7000/7000 [==============================] - 74s 11ms/step - loss: 0.2209 - lstm_2_loss: 0.1162 - lstm_3_loss: 0.1047 - lstm_2_acc: 0.9058 - lstm_3_acc: 0.9053\n",
            "Epoch 42/100\n",
            "7000/7000 [==============================] - 74s 11ms/step - loss: 0.2206 - lstm_2_loss: 0.1158 - lstm_3_loss: 0.1048 - lstm_2_acc: 0.9058 - lstm_3_acc: 0.9053\n",
            "Epoch 43/100\n",
            "7000/7000 [==============================] - 74s 11ms/step - loss: 0.2209 - lstm_2_loss: 0.1159 - lstm_3_loss: 0.1050 - lstm_2_acc: 0.9058 - lstm_3_acc: 0.9054\n",
            "Epoch 44/100\n",
            "7000/7000 [==============================] - 74s 11ms/step - loss: 0.2206 - lstm_2_loss: 0.1155 - lstm_3_loss: 0.1051 - lstm_2_acc: 0.9058 - lstm_3_acc: 0.9054\n",
            "Epoch 45/100\n",
            "7000/7000 [==============================] - 74s 11ms/step - loss: 0.2194 - lstm_2_loss: 0.1152 - lstm_3_loss: 0.1042 - lstm_2_acc: 0.9058 - lstm_3_acc: 0.9054\n",
            "Epoch 46/100\n",
            "7000/7000 [==============================] - 74s 11ms/step - loss: 0.2199 - lstm_2_loss: 0.1159 - lstm_3_loss: 0.1039 - lstm_2_acc: 0.9058 - lstm_3_acc: 0.9053\n",
            "Epoch 47/100\n",
            "7000/7000 [==============================] - 74s 11ms/step - loss: 0.2185 - lstm_2_loss: 0.1149 - lstm_3_loss: 0.1036 - lstm_2_acc: 0.9058 - lstm_3_acc: 0.9053\n",
            "Epoch 48/100\n",
            "7000/7000 [==============================] - 74s 11ms/step - loss: 0.2187 - lstm_2_loss: 0.1154 - lstm_3_loss: 0.1033 - lstm_2_acc: 0.9058 - lstm_3_acc: 0.9052\n",
            "Epoch 49/100\n",
            "7000/7000 [==============================] - 74s 11ms/step - loss: 0.2184 - lstm_2_loss: 0.1149 - lstm_3_loss: 0.1035 - lstm_2_acc: 0.9058 - lstm_3_acc: 0.9052\n",
            "Epoch 50/100\n",
            "7000/7000 [==============================] - 74s 11ms/step - loss: 0.2171 - lstm_2_loss: 0.1140 - lstm_3_loss: 0.1031 - lstm_2_acc: 0.9058 - lstm_3_acc: 0.9052\n",
            "Epoch 51/100\n",
            "7000/7000 [==============================] - 74s 11ms/step - loss: 0.2177 - lstm_2_loss: 0.1148 - lstm_3_loss: 0.1029 - lstm_2_acc: 0.9057 - lstm_3_acc: 0.9051\n",
            "Epoch 52/100\n",
            "7000/7000 [==============================] - 74s 11ms/step - loss: 0.2184 - lstm_2_loss: 0.1148 - lstm_3_loss: 0.1035 - lstm_2_acc: 0.9058 - lstm_3_acc: 0.9052\n",
            "Epoch 53/100\n",
            "7000/7000 [==============================] - 74s 11ms/step - loss: 0.2177 - lstm_2_loss: 0.1145 - lstm_3_loss: 0.1032 - lstm_2_acc: 0.9058 - lstm_3_acc: 0.9052\n",
            "Epoch 54/100\n",
            "7000/7000 [==============================] - 73s 10ms/step - loss: 0.2172 - lstm_2_loss: 0.1144 - lstm_3_loss: 0.1028 - lstm_2_acc: 0.9058 - lstm_3_acc: 0.9052\n",
            "Epoch 55/100\n",
            "7000/7000 [==============================] - 73s 10ms/step - loss: 0.2165 - lstm_2_loss: 0.1140 - lstm_3_loss: 0.1025 - lstm_2_acc: 0.9058 - lstm_3_acc: 0.9051\n",
            "Epoch 56/100\n",
            "7000/7000 [==============================] - 73s 10ms/step - loss: 0.2159 - lstm_2_loss: 0.1135 - lstm_3_loss: 0.1024 - lstm_2_acc: 0.9058 - lstm_3_acc: 0.9051\n",
            "Epoch 57/100\n",
            "7000/7000 [==============================] - 73s 10ms/step - loss: 0.2168 - lstm_2_loss: 0.1140 - lstm_3_loss: 0.1028 - lstm_2_acc: 0.9059 - lstm_3_acc: 0.9051\n",
            "Epoch 58/100\n",
            "7000/7000 [==============================] - 73s 10ms/step - loss: 0.2159 - lstm_2_loss: 0.1133 - lstm_3_loss: 0.1025 - lstm_2_acc: 0.9058 - lstm_3_acc: 0.9052\n",
            "Epoch 59/100\n",
            "7000/7000 [==============================] - 73s 10ms/step - loss: 0.2149 - lstm_2_loss: 0.1128 - lstm_3_loss: 0.1021 - lstm_2_acc: 0.9057 - lstm_3_acc: 0.9051\n",
            "Epoch 60/100\n",
            "7000/7000 [==============================] - 73s 10ms/step - loss: 0.2148 - lstm_2_loss: 0.1126 - lstm_3_loss: 0.1022 - lstm_2_acc: 0.9057 - lstm_3_acc: 0.9051\n",
            "Epoch 61/100\n",
            "7000/7000 [==============================] - 73s 10ms/step - loss: 0.2150 - lstm_2_loss: 0.1127 - lstm_3_loss: 0.1023 - lstm_2_acc: 0.9057 - lstm_3_acc: 0.9052\n",
            "Epoch 62/100\n",
            "7000/7000 [==============================] - 73s 10ms/step - loss: 0.2140 - lstm_2_loss: 0.1122 - lstm_3_loss: 0.1018 - lstm_2_acc: 0.9057 - lstm_3_acc: 0.9051\n",
            "Epoch 63/100\n",
            "7000/7000 [==============================] - 73s 10ms/step - loss: 0.2135 - lstm_2_loss: 0.1120 - lstm_3_loss: 0.1015 - lstm_2_acc: 0.9057 - lstm_3_acc: 0.9051\n",
            "Epoch 64/100\n",
            "7000/7000 [==============================] - 73s 10ms/step - loss: 0.2134 - lstm_2_loss: 0.1120 - lstm_3_loss: 0.1014 - lstm_2_acc: 0.9057 - lstm_3_acc: 0.9051\n",
            "Epoch 65/100\n",
            "7000/7000 [==============================] - 73s 10ms/step - loss: 0.2135 - lstm_2_loss: 0.1121 - lstm_3_loss: 0.1014 - lstm_2_acc: 0.9057 - lstm_3_acc: 0.9051\n",
            "Epoch 66/100\n",
            "7000/7000 [==============================] - 77s 11ms/step - loss: 0.2140 - lstm_2_loss: 0.1116 - lstm_3_loss: 0.1024 - lstm_2_acc: 0.9057 - lstm_3_acc: 0.9051\n",
            "Epoch 67/100\n",
            "7000/7000 [==============================] - 74s 11ms/step - loss: 0.2129 - lstm_2_loss: 0.1113 - lstm_3_loss: 0.1016 - lstm_2_acc: 0.9056 - lstm_3_acc: 0.9052\n",
            "Epoch 68/100\n",
            "7000/7000 [==============================] - 74s 11ms/step - loss: 0.2127 - lstm_2_loss: 0.1113 - lstm_3_loss: 0.1014 - lstm_2_acc: 0.9056 - lstm_3_acc: 0.9051\n",
            "Epoch 69/100\n",
            "7000/7000 [==============================] - 74s 11ms/step - loss: 0.2126 - lstm_2_loss: 0.1112 - lstm_3_loss: 0.1013 - lstm_2_acc: 0.9056 - lstm_3_acc: 0.9051\n",
            "Epoch 70/100\n",
            "7000/7000 [==============================] - 74s 11ms/step - loss: 0.2122 - lstm_2_loss: 0.1109 - lstm_3_loss: 0.1013 - lstm_2_acc: 0.9056 - lstm_3_acc: 0.9051\n",
            "Epoch 71/100\n",
            "7000/7000 [==============================] - 74s 11ms/step - loss: 0.2118 - lstm_2_loss: 0.1110 - lstm_3_loss: 0.1009 - lstm_2_acc: 0.9056 - lstm_3_acc: 0.9051\n",
            "Epoch 72/100\n",
            "7000/7000 [==============================] - 74s 11ms/step - loss: 0.2138 - lstm_2_loss: 0.1114 - lstm_3_loss: 0.1024 - lstm_2_acc: 0.9056 - lstm_3_acc: 0.9051\n",
            "Epoch 73/100\n",
            "7000/7000 [==============================] - 74s 11ms/step - loss: 0.2136 - lstm_2_loss: 0.1118 - lstm_3_loss: 0.1019 - lstm_2_acc: 0.9057 - lstm_3_acc: 0.9051\n",
            "Epoch 74/100\n",
            "7000/7000 [==============================] - 74s 11ms/step - loss: 0.2137 - lstm_2_loss: 0.1111 - lstm_3_loss: 0.1025 - lstm_2_acc: 0.9056 - lstm_3_acc: 0.9051\n",
            "Epoch 75/100\n",
            "7000/7000 [==============================] - 74s 11ms/step - loss: 0.2124 - lstm_2_loss: 0.1106 - lstm_3_loss: 0.1017 - lstm_2_acc: 0.9056 - lstm_3_acc: 0.9052\n",
            "Epoch 76/100\n",
            "7000/7000 [==============================] - 74s 11ms/step - loss: 0.2117 - lstm_2_loss: 0.1107 - lstm_3_loss: 0.1010 - lstm_2_acc: 0.9056 - lstm_3_acc: 0.9051\n",
            "Epoch 77/100\n",
            "7000/7000 [==============================] - 73s 10ms/step - loss: 0.2108 - lstm_2_loss: 0.1102 - lstm_3_loss: 0.1006 - lstm_2_acc: 0.9056 - lstm_3_acc: 0.9051\n",
            "Epoch 78/100\n",
            "7000/7000 [==============================] - 73s 10ms/step - loss: 0.2110 - lstm_2_loss: 0.1102 - lstm_3_loss: 0.1008 - lstm_2_acc: 0.9056 - lstm_3_acc: 0.9050\n",
            "Epoch 79/100\n",
            "7000/7000 [==============================] - 78s 11ms/step - loss: 0.2110 - lstm_2_loss: 0.1104 - lstm_3_loss: 0.1006 - lstm_2_acc: 0.9056 - lstm_3_acc: 0.9051\n",
            "Epoch 80/100\n",
            "7000/7000 [==============================] - 74s 11ms/step - loss: 0.2104 - lstm_2_loss: 0.1101 - lstm_3_loss: 0.1002 - lstm_2_acc: 0.9056 - lstm_3_acc: 0.9050\n",
            "Epoch 81/100\n",
            "7000/7000 [==============================] - 74s 11ms/step - loss: 0.2103 - lstm_2_loss: 0.1103 - lstm_3_loss: 0.1001 - lstm_2_acc: 0.9056 - lstm_3_acc: 0.9050\n",
            "Epoch 82/100\n",
            "7000/7000 [==============================] - 74s 11ms/step - loss: 0.2097 - lstm_2_loss: 0.1097 - lstm_3_loss: 0.1000 - lstm_2_acc: 0.9056 - lstm_3_acc: 0.9050\n",
            "Epoch 83/100\n",
            "7000/7000 [==============================] - 74s 11ms/step - loss: 0.2093 - lstm_2_loss: 0.1094 - lstm_3_loss: 0.0999 - lstm_2_acc: 0.9055 - lstm_3_acc: 0.9050\n",
            "Epoch 84/100\n",
            "7000/7000 [==============================] - 74s 11ms/step - loss: 0.2100 - lstm_2_loss: 0.1093 - lstm_3_loss: 0.1007 - lstm_2_acc: 0.9055 - lstm_3_acc: 0.9050\n",
            "Epoch 85/100\n",
            "7000/7000 [==============================] - 75s 11ms/step - loss: 0.2097 - lstm_2_loss: 0.1091 - lstm_3_loss: 0.1006 - lstm_2_acc: 0.9055 - lstm_3_acc: 0.9051\n",
            "Epoch 86/100\n",
            "7000/7000 [==============================] - 74s 11ms/step - loss: 0.2103 - lstm_2_loss: 0.1100 - lstm_3_loss: 0.1003 - lstm_2_acc: 0.9055 - lstm_3_acc: 0.9051\n",
            "Epoch 87/100\n",
            "7000/7000 [==============================] - 74s 11ms/step - loss: 0.2088 - lstm_2_loss: 0.1088 - lstm_3_loss: 0.1000 - lstm_2_acc: 0.9055 - lstm_3_acc: 0.9051\n",
            "Epoch 88/100\n",
            "7000/7000 [==============================] - 74s 11ms/step - loss: 0.2095 - lstm_2_loss: 0.1099 - lstm_3_loss: 0.0997 - lstm_2_acc: 0.9056 - lstm_3_acc: 0.9050\n",
            "Epoch 89/100\n",
            "7000/7000 [==============================] - 74s 11ms/step - loss: 0.2084 - lstm_2_loss: 0.1090 - lstm_3_loss: 0.0995 - lstm_2_acc: 0.9055 - lstm_3_acc: 0.9049\n",
            "Epoch 90/100\n",
            "7000/7000 [==============================] - 74s 11ms/step - loss: 0.2083 - lstm_2_loss: 0.1087 - lstm_3_loss: 0.0996 - lstm_2_acc: 0.9055 - lstm_3_acc: 0.9050\n",
            "Epoch 91/100\n",
            "7000/7000 [==============================] - 74s 11ms/step - loss: 0.2085 - lstm_2_loss: 0.1089 - lstm_3_loss: 0.0997 - lstm_2_acc: 0.9055 - lstm_3_acc: 0.9050\n",
            "Epoch 92/100\n",
            "7000/7000 [==============================] - 74s 11ms/step - loss: 0.2085 - lstm_2_loss: 0.1087 - lstm_3_loss: 0.0998 - lstm_2_acc: 0.9055 - lstm_3_acc: 0.9050\n",
            "Epoch 93/100\n",
            "7000/7000 [==============================] - 74s 11ms/step - loss: 0.2088 - lstm_2_loss: 0.1093 - lstm_3_loss: 0.0995 - lstm_2_acc: 0.9055 - lstm_3_acc: 0.9050\n",
            "Epoch 94/100\n",
            "7000/7000 [==============================] - 74s 11ms/step - loss: 0.2084 - lstm_2_loss: 0.1092 - lstm_3_loss: 0.0992 - lstm_2_acc: 0.9055 - lstm_3_acc: 0.9050\n",
            "Epoch 95/100\n",
            "7000/7000 [==============================] - 75s 11ms/step - loss: 0.2077 - lstm_2_loss: 0.1087 - lstm_3_loss: 0.0990 - lstm_2_acc: 0.9056 - lstm_3_acc: 0.9049\n",
            "Epoch 96/100\n",
            "7000/7000 [==============================] - 74s 11ms/step - loss: 0.2071 - lstm_2_loss: 0.1082 - lstm_3_loss: 0.0989 - lstm_2_acc: 0.9055 - lstm_3_acc: 0.9049\n",
            "Epoch 97/100\n",
            "7000/7000 [==============================] - 74s 11ms/step - loss: 0.2069 - lstm_2_loss: 0.1079 - lstm_3_loss: 0.0989 - lstm_2_acc: 0.9055 - lstm_3_acc: 0.9049\n",
            "Epoch 98/100\n",
            "7000/7000 [==============================] - 74s 11ms/step - loss: 0.2078 - lstm_2_loss: 0.1079 - lstm_3_loss: 0.0999 - lstm_2_acc: 0.9055 - lstm_3_acc: 0.9049\n",
            "Epoch 99/100\n",
            "7000/7000 [==============================] - 74s 11ms/step - loss: 0.2075 - lstm_2_loss: 0.1083 - lstm_3_loss: 0.0992 - lstm_2_acc: 0.9055 - lstm_3_acc: 0.9049\n",
            "Epoch 100/100\n",
            "7000/7000 [==============================] - 74s 11ms/step - loss: 0.2083 - lstm_2_loss: 0.1094 - lstm_3_loss: 0.0989 - lstm_2_acc: 0.9055 - lstm_3_acc: 0.9049\n"
          ],
          "name": "stdout"
        },
        {
          "output_type": "execute_result",
          "data": {
            "text/plain": [
              "<keras.callbacks.History at 0x7f0f5681ab70>"
            ]
          },
          "metadata": {
            "tags": []
          },
          "execution_count": 102
        }
      ]
    },
    {
      "metadata": {
        "id": "AF22xxiLI3fV",
        "colab_type": "code",
        "colab": {}
      },
      "cell_type": "code",
      "source": [
        "frames_pred = model.predict([x_test_split1, x_test_dec, x_test_dec2])"
      ],
      "execution_count": 0,
      "outputs": []
    },
    {
      "metadata": {
        "id": "beY2t1dUps5Z",
        "colab_type": "code",
        "colab": {
          "base_uri": "https://localhost:8080/",
          "height": 34
        },
        "outputId": "d1349a62-8d2b-4f2a-e9d8-87527c3517cd"
      },
      "cell_type": "code",
      "source": [
        "len(frames_pred)"
      ],
      "execution_count": 106,
      "outputs": [
        {
          "output_type": "execute_result",
          "data": {
            "text/plain": [
              "2"
            ]
          },
          "metadata": {
            "tags": []
          },
          "execution_count": 106
        }
      ]
    },
    {
      "metadata": {
        "id": "Zm3dBuVtpm2D",
        "colab_type": "code",
        "colab": {}
      },
      "cell_type": "code",
      "source": [
        "frames_pred_future = frames_pred[0]\n",
        "frames_pred_reconstruction = frames_pred[1]"
      ],
      "execution_count": 0,
      "outputs": []
    },
    {
      "metadata": {
        "id": "Q969wgyr9U3e",
        "colab_type": "code",
        "colab": {}
      },
      "cell_type": "code",
      "source": [
        "frames_pred_future = frames_pred_future.reshape(3000, 10, 32, 32)\n",
        "frames_pred_reconstruction = frames_pred_reconstruction.reshape(3000, 10, 32, 32)"
      ],
      "execution_count": 0,
      "outputs": []
    },
    {
      "metadata": {
        "id": "VuBdLAGXp6Lw",
        "colab_type": "code",
        "colab": {
          "base_uri": "https://localhost:8080/",
          "height": 364
        },
        "outputId": "78c37ca4-c73a-4d33-b75a-601ff838f867"
      },
      "cell_type": "code",
      "source": [
        "plt.imshow(x_test_split2.reshape(3000, 10, 32, 32)[0, 0, :, :])"
      ],
      "execution_count": 109,
      "outputs": [
        {
          "output_type": "execute_result",
          "data": {
            "text/plain": [
              "<matplotlib.image.AxesImage at 0x7f0f54b973c8>"
            ]
          },
          "metadata": {
            "tags": []
          },
          "execution_count": 109
        },
        {
          "output_type": "display_data",
          "data": {
            "image/png": "[encoded data removed]",
            "text/plain": [
              "<matplotlib.figure.Figure at 0x7f0f54b5ca90>"
            ]
          },
          "metadata": {
            "tags": []
          }
        }
      ]
    },
    {
      "metadata": {
        "id": "HugkvQw1p6PV",
        "colab_type": "code",
        "colab": {
          "base_uri": "https://localhost:8080/",
          "height": 364
        },
        "outputId": "feb5c7af-b6a4-49b1-894d-8c7fd75f180c"
      },
      "cell_type": "code",
      "source": [
        "plt.imshow(frames_pred_future[0, 0, :, :])"
      ],
      "execution_count": 110,
      "outputs": [
        {
          "output_type": "execute_result",
          "data": {
            "text/plain": [
              "<matplotlib.image.AxesImage at 0x7f0f54af1978>"
            ]
          },
          "metadata": {
            "tags": []
          },
          "execution_count": 110
        },
        {
          "output_type": "display_data",
          "data": {
            "image/png": "[encoded data removed]",
            "text/plain": [
              "<matplotlib.figure.Figure at 0x7f0f54b26b00>"
            ]
          },
          "metadata": {
            "tags": []
          }
        }
      ]
    },
    {
      "metadata": {
        "id": "kQFTDG2SqILw",
        "colab_type": "code",
        "colab": {
          "base_uri": "https://localhost:8080/",
          "height": 364
        },
        "outputId": "67e2d586-4747-4a5c-a764-650b8661b703"
      },
      "cell_type": "code",
      "source": [
        "plt.imshow(x_test_split1.reshape(3000, 10, 32, 32)[0, 0, :, :])"
      ],
      "execution_count": 112,
      "outputs": [
        {
          "output_type": "execute_result",
          "data": {
            "text/plain": [
              "<matplotlib.image.AxesImage at 0x7f0f54a5c5f8>"
            ]
          },
          "metadata": {
            "tags": []
          },
          "execution_count": 112
        },
        {
          "output_type": "display_data",
          "data": {
            "image/png": "[encoded data removed]",
            "text/plain": [
              "<matplotlib.figure.Figure at 0x7f0f568bb240>"
            ]
          },
          "metadata": {
            "tags": []
          }
        }
      ]
    },
    {
      "metadata": {
        "id": "afGkL2XY9U6K",
        "colab_type": "code",
        "colab": {
          "base_uri": "https://localhost:8080/",
          "height": 364
        },
        "outputId": "67f5739c-06ea-48f2-c23d-5e284cf327ea"
      },
      "cell_type": "code",
      "source": [
        "plt.imshow(frames_pred_reconstruction[0, 0, :, :])"
      ],
      "execution_count": 113,
      "outputs": [
        {
          "output_type": "execute_result",
          "data": {
            "text/plain": [
              "<matplotlib.image.AxesImage at 0x7f0f54a3d400>"
            ]
          },
          "metadata": {
            "tags": []
          },
          "execution_count": 113
        },
        {
          "output_type": "display_data",
          "data": {
            "image/png": "[encoded data removed]",
            "text/plain": [
              "<matplotlib.figure.Figure at 0x7f0fa675a080>"
            ]
          },
          "metadata": {
            "tags": []
          }
        }
      ]
    },
    {
      "metadata": {
        "id": "PBJuEE6e9U_s",
        "colab_type": "code",
        "colab": {}
      },
      "cell_type": "code",
      "source": [
        ""
      ],
      "execution_count": 0,
      "outputs": []
    },
    {
      "metadata": {
        "id": "4mQp3K_7vX3N",
        "colab_type": "text"
      },
      "cell_type": "markdown",
      "source": [
        "# CNN then LSTM"
      ]
    },
    {
      "metadata": {
        "id": "psjwp_N2vcXn",
        "colab_type": "code",
        "colab": {
          "base_uri": "https://localhost:8080/",
          "height": 85
        },
        "outputId": "46b5494a-0440-49f7-c25e-e21dd8ee4668"
      },
      "cell_type": "code",
      "source": [
        "#encoder\n",
        "\n",
        "# num_cells = 4096\n",
        "\n",
        "num_input = 32 * 32\n",
        "\n",
        "num_cells = 32 * 32\n",
        "\n",
        "in_encoder = Input(shape=(10, 32, 32, 1))\n",
        "\n",
        "conv1 = TimeDistributed(Conv2D(32, (3, 3)))(in_encoder)\n",
        "\n",
        "conv2 = TimeDistributed(Conv2D(64, (3, 3)))(conv1)\n",
        "\n",
        "print(conv2)\n",
        "\n",
        "flat1 = TimeDistributed(Flatten())(conv2)\n",
        "\n",
        "print(flat1)\n",
        "\n",
        "encoder_lstm = LSTM(num_cells, return_state=True)\n",
        "\n",
        "out_encoder, h_encoder, c_encoder = encoder_lstm(flat1)\n",
        "\n",
        "encoder_states = [h_encoder, c_encoder]\n",
        "\n",
        "print(h_encoder.shape, c_encoder.shape)\n",
        "\n",
        "\n",
        "# #decoder\n",
        "\n",
        "# #predictor\n",
        "in_decoder = Input(shape=(10,num_cells))\n",
        "\n",
        "decoder_lstm = LSTM(num_input, return_sequences=True, return_state=True, activation='sigmoid')\n",
        "\n",
        "out_decoder, _, _ = decoder_lstm(in_decoder, initial_state=encoder_states)\n",
        "\n",
        "print(out_decoder)\n",
        "\n",
        "# resh = TimeDistributed(Reshape((32, 32)))(out_decoder)\n",
        "\n",
        "model = Model([in_encoder, in_decoder], [out_decoder])\n",
        "\n"
      ],
      "execution_count": 19,
      "outputs": [
        {
          "output_type": "stream",
          "text": [
            "Tensor(\"time_distributed_2/Reshape_1:0\", shape=(?, 10, 28, 28, 64), dtype=float32)\n",
            "Tensor(\"time_distributed_3/Reshape_2:0\", shape=(?, 10, 50176), dtype=float32)\n",
            "(?, 1024) (?, 1024)\n",
            "Tensor(\"lstm_2/transpose_1:0\", shape=(?, ?, 1024), dtype=float32)\n"
          ],
          "name": "stdout"
        }
      ]
    },
    {
      "metadata": {
        "id": "VfQDsQtmzm9v",
        "colab_type": "code",
        "colab": {
          "base_uri": "https://localhost:8080/",
          "height": 408
        },
        "outputId": "b65459bf-4b2f-4d6a-a190-88306874e99b"
      },
      "cell_type": "code",
      "source": [
        "model.summary()"
      ],
      "execution_count": 20,
      "outputs": [
        {
          "output_type": "stream",
          "text": [
            "__________________________________________________________________________________________________\n",
            "Layer (type)                    Output Shape         Param #     Connected to                     \n",
            "==================================================================================================\n",
            "input_1 (InputLayer)            (None, 10, 32, 32, 1 0                                            \n",
            "__________________________________________________________________________________________________\n",
            "time_distributed_1 (TimeDistrib (None, 10, 30, 30, 3 320         input_1[0][0]                    \n",
            "__________________________________________________________________________________________________\n",
            "time_distributed_2 (TimeDistrib (None, 10, 28, 28, 6 18496       time_distributed_1[0][0]         \n",
            "__________________________________________________________________________________________________\n",
            "time_distributed_3 (TimeDistrib (None, 10, 50176)    0           time_distributed_2[0][0]         \n",
            "__________________________________________________________________________________________________\n",
            "input_2 (InputLayer)            (None, 10, 1024)     0                                            \n",
            "__________________________________________________________________________________________________\n",
            "lstm_1 (LSTM)                   [(None, 1024), (None 209719296   time_distributed_3[0][0]         \n",
            "__________________________________________________________________________________________________\n",
            "lstm_2 (LSTM)                   [(None, 10, 1024), ( 8392704     input_2[0][0]                    \n",
            "                                                                 lstm_1[0][1]                     \n",
            "                                                                 lstm_1[0][2]                     \n",
            "==================================================================================================\n",
            "Total params: 218,130,816\n",
            "Trainable params: 218,130,816\n",
            "Non-trainable params: 0\n",
            "__________________________________________________________________________________________________\n"
          ],
          "name": "stdout"
        }
      ]
    },
    {
      "metadata": {
        "id": "cii3pDjyvcjW",
        "colab_type": "code",
        "colab": {}
      },
      "cell_type": "code",
      "source": [
        "# op = keras.optimizers.SGD(lr=0.0001, momentum=0.9, nesterov=True)\n",
        "op = keras.optimizers.Adam(lr=0.001)\n",
        "\n",
        "reduce_lr = keras.callbacks.ReduceLROnPlateau(monitor='loss', factor=0.2,\n",
        "                              patience=5, min_lr=0.0001)\n",
        "\n",
        "model.compile(optimizer=op,\n",
        "              loss='binary_crossentropy',\n",
        "              metrics=['accuracy'])"
      ],
      "execution_count": 0,
      "outputs": []
    },
    {
      "metadata": {
        "id": "QtUrfKnvvcmp",
        "colab_type": "code",
        "colab": {
          "base_uri": "https://localhost:8080/",
          "height": 1459
        },
        "outputId": "32551c34-f566-40a0-db02-de3d5a3b2a05"
      },
      "cell_type": "code",
      "source": [
        "model.fit([x_train_split1, x_train_dec], [x_train_split2], epochs=100, batch_size=16, callbacks=[reduce_lr])"
      ],
      "execution_count": 22,
      "outputs": [
        {
          "output_type": "stream",
          "text": [
            "Epoch 1/100\n",
            "7000/7000 [==============================] - 545s 78ms/step - loss: 0.1625 - acc: 0.9067\n",
            "Epoch 2/100\n",
            "7000/7000 [==============================] - 528s 75ms/step - loss: 0.1496 - acc: 0.9065\n",
            "Epoch 3/100\n",
            "7000/7000 [==============================] - 528s 75ms/step - loss: 0.1475 - acc: 0.9065\n",
            "Epoch 4/100\n",
            "7000/7000 [==============================] - 527s 75ms/step - loss: 0.1451 - acc: 0.9065\n",
            "Epoch 5/100\n",
            "7000/7000 [==============================] - 528s 75ms/step - loss: 0.1449 - acc: 0.9064\n",
            "Epoch 6/100\n",
            "2112/7000 [========>.....................] - ETA: 6:08 - loss: 0.1423 - acc: 0.9069"
          ],
          "name": "stdout"
        },
        {
          "output_type": "error",
          "ename": "KeyboardInterrupt",
          "evalue": "ignored",
          "traceback": [
            "\u001b[0;31m---------------------------------------------------------------------------\u001b[0m",
            "\u001b[0;31mKeyboardInterrupt\u001b[0m                         Traceback (most recent call last)",
            "\u001b[0;32m<ipython-input-22-d746f53b4d5b>\u001b[0m in \u001b[0;36m<module>\u001b[0;34m()\u001b[0m\n\u001b[0;32m----> 1\u001b[0;31m \u001b[0mmodel\u001b[0m\u001b[0;34m.\u001b[0m\u001b[0mfit\u001b[0m\u001b[0;34m(\u001b[0m\u001b[0;34m[\u001b[0m\u001b[0mx_train_split1\u001b[0m\u001b[0;34m,\u001b[0m \u001b[0mx_train_dec\u001b[0m\u001b[0;34m]\u001b[0m\u001b[0;34m,\u001b[0m \u001b[0;34m[\u001b[0m\u001b[0mx_train_split2\u001b[0m\u001b[0;34m]\u001b[0m\u001b[0;34m,\u001b[0m \u001b[0mepochs\u001b[0m\u001b[0;34m=\u001b[0m\u001b[0;36m100\u001b[0m\u001b[0;34m,\u001b[0m \u001b[0mbatch_size\u001b[0m\u001b[0;34m=\u001b[0m\u001b[0;36m16\u001b[0m\u001b[0;34m,\u001b[0m \u001b[0mcallbacks\u001b[0m\u001b[0;34m=\u001b[0m\u001b[0;34m[\u001b[0m\u001b[0mreduce_lr\u001b[0m\u001b[0;34m]\u001b[0m\u001b[0;34m)\u001b[0m\u001b[0;34m\u001b[0m\u001b[0m\n\u001b[0m",
            "\u001b[0;32m/usr/local/lib/python3.6/dist-packages/keras/engine/training.py\u001b[0m in \u001b[0;36mfit\u001b[0;34m(self, x, y, batch_size, epochs, verbose, callbacks, validation_split, validation_data, shuffle, class_weight, sample_weight, initial_epoch, steps_per_epoch, validation_steps, **kwargs)\u001b[0m\n\u001b[1;32m   1703\u001b[0m                               \u001b[0minitial_epoch\u001b[0m\u001b[0;34m=\u001b[0m\u001b[0minitial_epoch\u001b[0m\u001b[0;34m,\u001b[0m\u001b[0;34m\u001b[0m\u001b[0m\n\u001b[1;32m   1704\u001b[0m                               \u001b[0msteps_per_epoch\u001b[0m\u001b[0;34m=\u001b[0m\u001b[0msteps_per_epoch\u001b[0m\u001b[0;34m,\u001b[0m\u001b[0;34m\u001b[0m\u001b[0m\n\u001b[0;32m-> 1705\u001b[0;31m                               validation_steps=validation_steps)\n\u001b[0m\u001b[1;32m   1706\u001b[0m \u001b[0;34m\u001b[0m\u001b[0m\n\u001b[1;32m   1707\u001b[0m     def evaluate(self, x=None, y=None,\n",
            "\u001b[0;32m/usr/local/lib/python3.6/dist-packages/keras/engine/training.py\u001b[0m in \u001b[0;36m_fit_loop\u001b[0;34m(self, f, ins, out_labels, batch_size, epochs, verbose, callbacks, val_f, val_ins, shuffle, callback_metrics, initial_epoch, steps_per_epoch, validation_steps)\u001b[0m\n\u001b[1;32m   1234\u001b[0m                         \u001b[0mins_batch\u001b[0m\u001b[0;34m[\u001b[0m\u001b[0mi\u001b[0m\u001b[0;34m]\u001b[0m \u001b[0;34m=\u001b[0m \u001b[0mins_batch\u001b[0m\u001b[0;34m[\u001b[0m\u001b[0mi\u001b[0m\u001b[0;34m]\u001b[0m\u001b[0;34m.\u001b[0m\u001b[0mtoarray\u001b[0m\u001b[0;34m(\u001b[0m\u001b[0;34m)\u001b[0m\u001b[0;34m\u001b[0m\u001b[0m\n\u001b[1;32m   1235\u001b[0m \u001b[0;34m\u001b[0m\u001b[0m\n\u001b[0;32m-> 1236\u001b[0;31m                     \u001b[0mouts\u001b[0m \u001b[0;34m=\u001b[0m \u001b[0mf\u001b[0m\u001b[0;34m(\u001b[0m\u001b[0mins_batch\u001b[0m\u001b[0;34m)\u001b[0m\u001b[0;34m\u001b[0m\u001b[0m\n\u001b[0m\u001b[1;32m   1237\u001b[0m                     \u001b[0;32mif\u001b[0m \u001b[0;32mnot\u001b[0m \u001b[0misinstance\u001b[0m\u001b[0;34m(\u001b[0m\u001b[0mouts\u001b[0m\u001b[0;34m,\u001b[0m \u001b[0mlist\u001b[0m\u001b[0;34m)\u001b[0m\u001b[0;34m:\u001b[0m\u001b[0;34m\u001b[0m\u001b[0m\n\u001b[1;32m   1238\u001b[0m                         \u001b[0mouts\u001b[0m \u001b[0;34m=\u001b[0m \u001b[0;34m[\u001b[0m\u001b[0mouts\u001b[0m\u001b[0;34m]\u001b[0m\u001b[0;34m\u001b[0m\u001b[0m\n",
            "\u001b[0;32m/usr/local/lib/python3.6/dist-packages/keras/backend/tensorflow_backend.py\u001b[0m in \u001b[0;36m__call__\u001b[0;34m(self, inputs)\u001b[0m\n\u001b[1;32m   2480\u001b[0m         \u001b[0msession\u001b[0m \u001b[0;34m=\u001b[0m \u001b[0mget_session\u001b[0m\u001b[0;34m(\u001b[0m\u001b[0;34m)\u001b[0m\u001b[0;34m\u001b[0m\u001b[0m\n\u001b[1;32m   2481\u001b[0m         updated = session.run(fetches=fetches, feed_dict=feed_dict,\n\u001b[0;32m-> 2482\u001b[0;31m                               **self.session_kwargs)\n\u001b[0m\u001b[1;32m   2483\u001b[0m         \u001b[0;32mreturn\u001b[0m \u001b[0mupdated\u001b[0m\u001b[0;34m[\u001b[0m\u001b[0;34m:\u001b[0m\u001b[0mlen\u001b[0m\u001b[0;34m(\u001b[0m\u001b[0mself\u001b[0m\u001b[0;34m.\u001b[0m\u001b[0moutputs\u001b[0m\u001b[0;34m)\u001b[0m\u001b[0;34m]\u001b[0m\u001b[0;34m\u001b[0m\u001b[0m\n\u001b[1;32m   2484\u001b[0m \u001b[0;34m\u001b[0m\u001b[0m\n",
            "\u001b[0;32m/usr/local/lib/python3.6/dist-packages/tensorflow/python/client/session.py\u001b[0m in \u001b[0;36mrun\u001b[0;34m(self, fetches, feed_dict, options, run_metadata)\u001b[0m\n\u001b[1;32m    875\u001b[0m     \u001b[0;32mtry\u001b[0m\u001b[0;34m:\u001b[0m\u001b[0;34m\u001b[0m\u001b[0m\n\u001b[1;32m    876\u001b[0m       result = self._run(None, fetches, feed_dict, options_ptr,\n\u001b[0;32m--> 877\u001b[0;31m                          run_metadata_ptr)\n\u001b[0m\u001b[1;32m    878\u001b[0m       \u001b[0;32mif\u001b[0m \u001b[0mrun_metadata\u001b[0m\u001b[0;34m:\u001b[0m\u001b[0;34m\u001b[0m\u001b[0m\n\u001b[1;32m    879\u001b[0m         \u001b[0mproto_data\u001b[0m \u001b[0;34m=\u001b[0m \u001b[0mtf_session\u001b[0m\u001b[0;34m.\u001b[0m\u001b[0mTF_GetBuffer\u001b[0m\u001b[0;34m(\u001b[0m\u001b[0mrun_metadata_ptr\u001b[0m\u001b[0;34m)\u001b[0m\u001b[0;34m\u001b[0m\u001b[0m\n",
            "\u001b[0;32m/usr/local/lib/python3.6/dist-packages/tensorflow/python/client/session.py\u001b[0m in \u001b[0;36m_run\u001b[0;34m(self, handle, fetches, feed_dict, options, run_metadata)\u001b[0m\n\u001b[1;32m   1098\u001b[0m     \u001b[0;32mif\u001b[0m \u001b[0mfinal_fetches\u001b[0m \u001b[0;32mor\u001b[0m \u001b[0mfinal_targets\u001b[0m \u001b[0;32mor\u001b[0m \u001b[0;34m(\u001b[0m\u001b[0mhandle\u001b[0m \u001b[0;32mand\u001b[0m \u001b[0mfeed_dict_tensor\u001b[0m\u001b[0;34m)\u001b[0m\u001b[0;34m:\u001b[0m\u001b[0;34m\u001b[0m\u001b[0m\n\u001b[1;32m   1099\u001b[0m       results = self._do_run(handle, final_targets, final_fetches,\n\u001b[0;32m-> 1100\u001b[0;31m                              feed_dict_tensor, options, run_metadata)\n\u001b[0m\u001b[1;32m   1101\u001b[0m     \u001b[0;32melse\u001b[0m\u001b[0;34m:\u001b[0m\u001b[0;34m\u001b[0m\u001b[0m\n\u001b[1;32m   1102\u001b[0m       \u001b[0mresults\u001b[0m \u001b[0;34m=\u001b[0m \u001b[0;34m[\u001b[0m\u001b[0;34m]\u001b[0m\u001b[0;34m\u001b[0m\u001b[0m\n",
            "\u001b[0;32m/usr/local/lib/python3.6/dist-packages/tensorflow/python/client/session.py\u001b[0m in \u001b[0;36m_do_run\u001b[0;34m(self, handle, target_list, fetch_list, feed_dict, options, run_metadata)\u001b[0m\n\u001b[1;32m   1270\u001b[0m     \u001b[0;32mif\u001b[0m \u001b[0mhandle\u001b[0m \u001b[0;32mis\u001b[0m \u001b[0;32mNone\u001b[0m\u001b[0;34m:\u001b[0m\u001b[0;34m\u001b[0m\u001b[0m\n\u001b[1;32m   1271\u001b[0m       return self._do_call(_run_fn, feeds, fetches, targets, options,\n\u001b[0;32m-> 1272\u001b[0;31m                            run_metadata)\n\u001b[0m\u001b[1;32m   1273\u001b[0m     \u001b[0;32melse\u001b[0m\u001b[0;34m:\u001b[0m\u001b[0;34m\u001b[0m\u001b[0m\n\u001b[1;32m   1274\u001b[0m       \u001b[0;32mreturn\u001b[0m \u001b[0mself\u001b[0m\u001b[0;34m.\u001b[0m\u001b[0m_do_call\u001b[0m\u001b[0;34m(\u001b[0m\u001b[0m_prun_fn\u001b[0m\u001b[0;34m,\u001b[0m \u001b[0mhandle\u001b[0m\u001b[0;34m,\u001b[0m \u001b[0mfeeds\u001b[0m\u001b[0;34m,\u001b[0m \u001b[0mfetches\u001b[0m\u001b[0;34m)\u001b[0m\u001b[0;34m\u001b[0m\u001b[0m\n",
            "\u001b[0;32m/usr/local/lib/python3.6/dist-packages/tensorflow/python/client/session.py\u001b[0m in \u001b[0;36m_do_call\u001b[0;34m(self, fn, *args)\u001b[0m\n\u001b[1;32m   1276\u001b[0m   \u001b[0;32mdef\u001b[0m \u001b[0m_do_call\u001b[0m\u001b[0;34m(\u001b[0m\u001b[0mself\u001b[0m\u001b[0;34m,\u001b[0m \u001b[0mfn\u001b[0m\u001b[0;34m,\u001b[0m \u001b[0;34m*\u001b[0m\u001b[0margs\u001b[0m\u001b[0;34m)\u001b[0m\u001b[0;34m:\u001b[0m\u001b[0;34m\u001b[0m\u001b[0m\n\u001b[1;32m   1277\u001b[0m     \u001b[0;32mtry\u001b[0m\u001b[0;34m:\u001b[0m\u001b[0;34m\u001b[0m\u001b[0m\n\u001b[0;32m-> 1278\u001b[0;31m       \u001b[0;32mreturn\u001b[0m \u001b[0mfn\u001b[0m\u001b[0;34m(\u001b[0m\u001b[0;34m*\u001b[0m\u001b[0margs\u001b[0m\u001b[0;34m)\u001b[0m\u001b[0;34m\u001b[0m\u001b[0m\n\u001b[0m\u001b[1;32m   1279\u001b[0m     \u001b[0;32mexcept\u001b[0m \u001b[0merrors\u001b[0m\u001b[0;34m.\u001b[0m\u001b[0mOpError\u001b[0m \u001b[0;32mas\u001b[0m \u001b[0me\u001b[0m\u001b[0;34m:\u001b[0m\u001b[0;34m\u001b[0m\u001b[0m\n\u001b[1;32m   1280\u001b[0m       \u001b[0mmessage\u001b[0m \u001b[0;34m=\u001b[0m \u001b[0mcompat\u001b[0m\u001b[0;34m.\u001b[0m\u001b[0mas_text\u001b[0m\u001b[0;34m(\u001b[0m\u001b[0me\u001b[0m\u001b[0;34m.\u001b[0m\u001b[0mmessage\u001b[0m\u001b[0;34m)\u001b[0m\u001b[0;34m\u001b[0m\u001b[0m\n",
            "\u001b[0;32m/usr/local/lib/python3.6/dist-packages/tensorflow/python/client/session.py\u001b[0m in \u001b[0;36m_run_fn\u001b[0;34m(feed_dict, fetch_list, target_list, options, run_metadata)\u001b[0m\n\u001b[1;32m   1261\u001b[0m       \u001b[0mself\u001b[0m\u001b[0;34m.\u001b[0m\u001b[0m_extend_graph\u001b[0m\u001b[0;34m(\u001b[0m\u001b[0;34m)\u001b[0m\u001b[0;34m\u001b[0m\u001b[0m\n\u001b[1;32m   1262\u001b[0m       return self._call_tf_sessionrun(\n\u001b[0;32m-> 1263\u001b[0;31m           options, feed_dict, fetch_list, target_list, run_metadata)\n\u001b[0m\u001b[1;32m   1264\u001b[0m \u001b[0;34m\u001b[0m\u001b[0m\n\u001b[1;32m   1265\u001b[0m     \u001b[0;32mdef\u001b[0m \u001b[0m_prun_fn\u001b[0m\u001b[0;34m(\u001b[0m\u001b[0mhandle\u001b[0m\u001b[0;34m,\u001b[0m \u001b[0mfeed_dict\u001b[0m\u001b[0;34m,\u001b[0m \u001b[0mfetch_list\u001b[0m\u001b[0;34m)\u001b[0m\u001b[0;34m:\u001b[0m\u001b[0;34m\u001b[0m\u001b[0m\n",
            "\u001b[0;32m/usr/local/lib/python3.6/dist-packages/tensorflow/python/client/session.py\u001b[0m in \u001b[0;36m_call_tf_sessionrun\u001b[0;34m(self, options, feed_dict, fetch_list, target_list, run_metadata)\u001b[0m\n\u001b[1;32m   1348\u001b[0m     return tf_session.TF_SessionRun_wrapper(\n\u001b[1;32m   1349\u001b[0m         \u001b[0mself\u001b[0m\u001b[0;34m.\u001b[0m\u001b[0m_session\u001b[0m\u001b[0;34m,\u001b[0m \u001b[0moptions\u001b[0m\u001b[0;34m,\u001b[0m \u001b[0mfeed_dict\u001b[0m\u001b[0;34m,\u001b[0m \u001b[0mfetch_list\u001b[0m\u001b[0;34m,\u001b[0m \u001b[0mtarget_list\u001b[0m\u001b[0;34m,\u001b[0m\u001b[0;34m\u001b[0m\u001b[0m\n\u001b[0;32m-> 1350\u001b[0;31m         run_metadata)\n\u001b[0m\u001b[1;32m   1351\u001b[0m \u001b[0;34m\u001b[0m\u001b[0m\n\u001b[1;32m   1352\u001b[0m   \u001b[0;32mdef\u001b[0m \u001b[0m_call_tf_sessionprun\u001b[0m\u001b[0;34m(\u001b[0m\u001b[0mself\u001b[0m\u001b[0;34m,\u001b[0m \u001b[0mhandle\u001b[0m\u001b[0;34m,\u001b[0m \u001b[0mfeed_dict\u001b[0m\u001b[0;34m,\u001b[0m \u001b[0mfetch_list\u001b[0m\u001b[0;34m)\u001b[0m\u001b[0;34m:\u001b[0m\u001b[0;34m\u001b[0m\u001b[0m\n",
            "\u001b[0;31mKeyboardInterrupt\u001b[0m: "
          ]
        }
      ]
    },
    {
      "metadata": {
        "id": "X51hjIfNCUUR",
        "colab_type": "text"
      },
      "cell_type": "markdown",
      "source": [
        "**too slow**"
      ]
    },
    {
      "metadata": {
        "id": "Rjj2UufhvcqI",
        "colab_type": "code",
        "colab": {}
      },
      "cell_type": "code",
      "source": [
        "frames_pred = model.predict([x_test_split1, x_test_dec])"
      ],
      "execution_count": 0,
      "outputs": []
    },
    {
      "metadata": {
        "id": "jx_KjE6qA2hh",
        "colab_type": "code",
        "colab": {
          "base_uri": "https://localhost:8080/",
          "height": 34
        },
        "outputId": "b526c006-5e00-49f7-aa71-f5518ad9ce90"
      },
      "cell_type": "code",
      "source": [
        "frames_pred.shape"
      ],
      "execution_count": 24,
      "outputs": [
        {
          "output_type": "execute_result",
          "data": {
            "text/plain": [
              "(3000, 10, 1024)"
            ]
          },
          "metadata": {
            "tags": []
          },
          "execution_count": 24
        }
      ]
    },
    {
      "metadata": {
        "id": "jhnCJj_jBb2O",
        "colab_type": "code",
        "colab": {}
      },
      "cell_type": "code",
      "source": [
        "frames_pred = frames_pred.reshape(3000, 10, 32, 32)"
      ],
      "execution_count": 0,
      "outputs": []
    },
    {
      "metadata": {
        "id": "TzHnI29vA2ns",
        "colab_type": "code",
        "colab": {
          "base_uri": "https://localhost:8080/",
          "height": 364
        },
        "outputId": "e0b85466-b5ac-4b74-8cf3-2b0a467d1bc2"
      },
      "cell_type": "code",
      "source": [
        "plt.imshow(x_test_split2.reshape(3000, 10, 32, 32)[0, 0, :, :])"
      ],
      "execution_count": 25,
      "outputs": [
        {
          "output_type": "execute_result",
          "data": {
            "text/plain": [
              "<matplotlib.image.AxesImage at 0x7f7f1920b470>"
            ]
          },
          "metadata": {
            "tags": []
          },
          "execution_count": 25
        },
        {
          "output_type": "display_data",
          "data": {
            "image/png": "[encoded data removed]",
            "text/plain": [
              "<matplotlib.figure.Figure at 0x7f7f84675a58>"
            ]
          },
          "metadata": {
            "tags": []
          }
        }
      ]
    },
    {
      "metadata": {
        "id": "0OwwRla5A2rm",
        "colab_type": "code",
        "colab": {
          "base_uri": "https://localhost:8080/",
          "height": 364
        },
        "outputId": "cd551da8-b066-4bd4-c90e-ad4e5647f177"
      },
      "cell_type": "code",
      "source": [
        "plt.imshow(frames_pred[0, 0, :, :])"
      ],
      "execution_count": 29,
      "outputs": [
        {
          "output_type": "execute_result",
          "data": {
            "text/plain": [
              "<matplotlib.image.AxesImage at 0x7f7f1916ba20>"
            ]
          },
          "metadata": {
            "tags": []
          },
          "execution_count": 29
        },
        {
          "output_type": "display_data",
          "data": {
            "image/png": "[encoded data removed]",
            "text/plain": [
              "<matplotlib.figure.Figure at 0x7f7f1920b7b8>"
            ]
          },
          "metadata": {
            "tags": []
          }
        }
      ]
    },
    {
      "metadata": {
        "id": "JNni2fgQDZyl",
        "colab_type": "code",
        "colab": {}
      },
      "cell_type": "code",
      "source": [
        ""
      ],
      "execution_count": 0,
      "outputs": []
    },
    {
      "metadata": {
        "id": "_zfp3xIiDZ45",
        "colab_type": "code",
        "colab": {}
      },
      "cell_type": "code",
      "source": [
        ""
      ],
      "execution_count": 0,
      "outputs": []
    },
    {
      "metadata": {
        "id": "_qI3vvtYDaPS",
        "colab_type": "text"
      },
      "cell_type": "markdown",
      "source": [
        "# separate autoencoder"
      ]
    },
    {
      "metadata": {
        "id": "oCcVOmToDZ2s",
        "colab_type": "code",
        "colab": {}
      },
      "cell_type": "code",
      "source": [
        "#https://blog.keras.io/building-autoencoders-in-keras.html\n",
        "  \n",
        "from keras.layers import Input, Dense, Conv2D, MaxPooling2D, UpSampling2D\n",
        "from keras.models import Model\n",
        "from keras import backend as K\n",
        "\n",
        "input_img = Input(shape=(32, 32, 1))  # adapt this if using `channels_first` image data format\n",
        "\n",
        "x = Conv2D(32, (3, 3), activation='relu', padding='same')(input_img)\n",
        "x = MaxPooling2D((2, 2), padding='same')(x)\n",
        "x = Conv2D(16, (3, 3), activation='relu', padding='same')(x)\n",
        "x = MaxPooling2D((2, 2), padding='same')(x)\n",
        "x = Conv2D(8, (3, 3), activation='relu', padding='same')(x)\n",
        "encoded = MaxPooling2D((2, 2), padding='same')(x)\n",
        "\n",
        "# at this point the representation is (4, 4, 8) i.e. 128-dimensional\n",
        "\n",
        "x = Conv2D(8, (3, 3), activation='relu', padding='same')(encoded)\n",
        "x = UpSampling2D((2, 2))(x)\n",
        "x = Conv2D(16, (3, 3), activation='relu', padding='same')(x)\n",
        "x = UpSampling2D((2, 2))(x)\n",
        "x = Conv2D(32, (3, 3), activation='relu', padding='same')(x)\n",
        "x = UpSampling2D((2, 2))(x)\n",
        "decoded = Conv2D(1, (3, 3), activation='sigmoid', padding='same')(x)\n",
        "\n",
        "autoencoder = Model(input_img, decoded)\n",
        "autoencoder.compile(optimizer='adadelta', loss='binary_crossentropy')"
      ],
      "execution_count": 0,
      "outputs": []
    },
    {
      "metadata": {
        "id": "ZHiWutYQA2ld",
        "colab_type": "code",
        "colab": {
          "base_uri": "https://localhost:8080/",
          "height": 612
        },
        "outputId": "293521c5-13b2-49e6-a218-70c27926987c"
      },
      "cell_type": "code",
      "source": [
        "autoencoder.summary()"
      ],
      "execution_count": 16,
      "outputs": [
        {
          "output_type": "stream",
          "text": [
            "_________________________________________________________________\n",
            "Layer (type)                 Output Shape              Param #   \n",
            "=================================================================\n",
            "input_1 (InputLayer)         (None, 32, 32, 1)         0         \n",
            "_________________________________________________________________\n",
            "conv2d_1 (Conv2D)            (None, 32, 32, 32)        320       \n",
            "_________________________________________________________________\n",
            "max_pooling2d_1 (MaxPooling2 (None, 16, 16, 32)        0         \n",
            "_________________________________________________________________\n",
            "conv2d_2 (Conv2D)            (None, 16, 16, 16)        4624      \n",
            "_________________________________________________________________\n",
            "max_pooling2d_2 (MaxPooling2 (None, 8, 8, 16)          0         \n",
            "_________________________________________________________________\n",
            "conv2d_3 (Conv2D)            (None, 8, 8, 8)           1160      \n",
            "_________________________________________________________________\n",
            "max_pooling2d_3 (MaxPooling2 (None, 4, 4, 8)           0         \n",
            "_________________________________________________________________\n",
            "conv2d_4 (Conv2D)            (None, 4, 4, 8)           584       \n",
            "_________________________________________________________________\n",
            "up_sampling2d_1 (UpSampling2 (None, 8, 8, 8)           0         \n",
            "_________________________________________________________________\n",
            "conv2d_5 (Conv2D)            (None, 8, 8, 16)          1168      \n",
            "_________________________________________________________________\n",
            "up_sampling2d_2 (UpSampling2 (None, 16, 16, 16)        0         \n",
            "_________________________________________________________________\n",
            "conv2d_6 (Conv2D)            (None, 16, 16, 32)        4640      \n",
            "_________________________________________________________________\n",
            "up_sampling2d_3 (UpSampling2 (None, 32, 32, 32)        0         \n",
            "_________________________________________________________________\n",
            "conv2d_7 (Conv2D)            (None, 32, 32, 1)         289       \n",
            "=================================================================\n",
            "Total params: 12,785\n",
            "Trainable params: 12,785\n",
            "Non-trainable params: 0\n",
            "_________________________________________________________________\n"
          ],
          "name": "stdout"
        }
      ]
    },
    {
      "metadata": {
        "id": "nXYYQc_aDmj1",
        "colab_type": "code",
        "colab": {
          "base_uri": "https://localhost:8080/",
          "height": 34
        },
        "outputId": "88340b74-fc35-4668-ba51-c38d2c0f8fca"
      },
      "cell_type": "code",
      "source": [
        "x_train.shape, x_test.shape"
      ],
      "execution_count": 17,
      "outputs": [
        {
          "output_type": "execute_result",
          "data": {
            "text/plain": [
              "((7000, 20, 32, 32, 1), (3000, 20, 32, 32, 1))"
            ]
          },
          "metadata": {
            "tags": []
          },
          "execution_count": 17
        }
      ]
    },
    {
      "metadata": {
        "id": "LBkP3OgWDmqJ",
        "colab_type": "code",
        "colab": {}
      },
      "cell_type": "code",
      "source": [
        "x_train2 = x_train.reshape((-1, 32, 32, 1))"
      ],
      "execution_count": 0,
      "outputs": []
    },
    {
      "metadata": {
        "id": "p3gsO6U9EYma",
        "colab_type": "code",
        "colab": {}
      },
      "cell_type": "code",
      "source": [
        "x_test2 = x_test.reshape((-1, 32, 32, 1))"
      ],
      "execution_count": 0,
      "outputs": []
    },
    {
      "metadata": {
        "id": "pWIP26hjEYqT",
        "colab_type": "code",
        "colab": {
          "base_uri": "https://localhost:8080/",
          "height": 1751
        },
        "outputId": "7ac4be18-2085-4485-93fc-0f5fc8f1bcaf"
      },
      "cell_type": "code",
      "source": [
        "autoencoder.fit(x_train2, x_train2,\n",
        "                epochs=50,\n",
        "                batch_size=128,\n",
        "                shuffle=True,\n",
        "                validation_data=(x_test2, x_test2))"
      ],
      "execution_count": 20,
      "outputs": [
        {
          "output_type": "stream",
          "text": [
            "Train on 140000 samples, validate on 60000 samples\n",
            "Epoch 1/50\n",
            "140000/140000 [==============================] - 31s 224us/step - loss: 0.1011 - val_loss: 0.0868\n",
            "Epoch 2/50\n",
            "140000/140000 [==============================] - 31s 224us/step - loss: 0.0842 - val_loss: 0.0825\n",
            "Epoch 3/50\n",
            "140000/140000 [==============================] - 28s 201us/step - loss: 0.0806 - val_loss: 0.0791\n",
            "Epoch 4/50\n",
            "140000/140000 [==============================] - 28s 200us/step - loss: 0.0783 - val_loss: 0.0770\n",
            "Epoch 5/50\n",
            "140000/140000 [==============================] - 28s 201us/step - loss: 0.0767 - val_loss: 0.0762\n",
            "Epoch 6/50\n",
            "140000/140000 [==============================] - 27s 193us/step - loss: 0.0754 - val_loss: 0.0740\n",
            "Epoch 7/50\n",
            "140000/140000 [==============================] - 27s 194us/step - loss: 0.0742 - val_loss: 0.0733\n",
            "Epoch 8/50\n",
            "140000/140000 [==============================] - 28s 202us/step - loss: 0.0732 - val_loss: 0.0725\n",
            "Epoch 9/50\n",
            "140000/140000 [==============================] - 28s 201us/step - loss: 0.0723 - val_loss: 0.0718\n",
            "Epoch 10/50\n",
            "140000/140000 [==============================] - 28s 202us/step - loss: 0.0715 - val_loss: 0.0712\n",
            "Epoch 11/50\n",
            "140000/140000 [==============================] - 28s 199us/step - loss: 0.0708 - val_loss: 0.0702\n",
            "Epoch 12/50\n",
            "140000/140000 [==============================] - 29s 209us/step - loss: 0.0701 - val_loss: 0.0696\n",
            "Epoch 13/50\n",
            "140000/140000 [==============================] - 29s 205us/step - loss: 0.0695 - val_loss: 0.0691\n",
            "Epoch 14/50\n",
            "140000/140000 [==============================] - 29s 209us/step - loss: 0.0690 - val_loss: 0.0680\n",
            "Epoch 15/50\n",
            "140000/140000 [==============================] - 29s 208us/step - loss: 0.0685 - val_loss: 0.0679\n",
            "Epoch 16/50\n",
            "140000/140000 [==============================] - 31s 220us/step - loss: 0.0681 - val_loss: 0.0674\n",
            "Epoch 17/50\n",
            "140000/140000 [==============================] - 31s 221us/step - loss: 0.0677 - val_loss: 0.0682\n",
            "Epoch 18/50\n",
            "140000/140000 [==============================] - 32s 229us/step - loss: 0.0674 - val_loss: 0.0665\n",
            "Epoch 19/50\n",
            "140000/140000 [==============================] - 32s 226us/step - loss: 0.0670 - val_loss: 0.0674\n",
            "Epoch 20/50\n",
            "140000/140000 [==============================] - 33s 236us/step - loss: 0.0667 - val_loss: 0.0668\n",
            "Epoch 21/50\n",
            "140000/140000 [==============================] - 33s 233us/step - loss: 0.0664 - val_loss: 0.0666\n",
            "Epoch 22/50\n",
            "140000/140000 [==============================] - 33s 235us/step - loss: 0.0662 - val_loss: 0.0655\n",
            "Epoch 23/50\n",
            "140000/140000 [==============================] - 35s 247us/step - loss: 0.0660 - val_loss: 0.0660\n",
            "Epoch 24/50\n",
            "140000/140000 [==============================] - 34s 245us/step - loss: 0.0657 - val_loss: 0.0656\n",
            "Epoch 25/50\n",
            "140000/140000 [==============================] - 34s 245us/step - loss: 0.0656 - val_loss: 0.0649\n",
            "Epoch 26/50\n",
            "140000/140000 [==============================] - 34s 245us/step - loss: 0.0654 - val_loss: 0.0654\n",
            "Epoch 27/50\n",
            "140000/140000 [==============================] - 35s 247us/step - loss: 0.0652 - val_loss: 0.0647\n",
            "Epoch 28/50\n",
            "140000/140000 [==============================] - 36s 257us/step - loss: 0.0650 - val_loss: 0.0642\n",
            "Epoch 29/50\n",
            "140000/140000 [==============================] - 36s 256us/step - loss: 0.0648 - val_loss: 0.0647\n",
            "Epoch 30/50\n",
            "140000/140000 [==============================] - 36s 256us/step - loss: 0.0647 - val_loss: 0.0643\n",
            "Epoch 31/50\n",
            "140000/140000 [==============================] - 35s 253us/step - loss: 0.0645 - val_loss: 0.0648\n",
            "Epoch 32/50\n",
            "140000/140000 [==============================] - 34s 245us/step - loss: 0.0644 - val_loss: 0.0645\n",
            "Epoch 33/50\n",
            "140000/140000 [==============================] - 34s 244us/step - loss: 0.0642 - val_loss: 0.0634\n",
            "Epoch 34/50\n",
            "140000/140000 [==============================] - 35s 247us/step - loss: 0.0641 - val_loss: 0.0639\n",
            "Epoch 35/50\n",
            "140000/140000 [==============================] - 34s 245us/step - loss: 0.0640 - val_loss: 0.0631\n",
            "Epoch 36/50\n",
            "140000/140000 [==============================] - 34s 242us/step - loss: 0.0639 - val_loss: 0.0640\n",
            "Epoch 37/50\n",
            "140000/140000 [==============================] - 33s 238us/step - loss: 0.0638 - val_loss: 0.0643\n",
            "Epoch 38/50\n",
            "140000/140000 [==============================] - 33s 237us/step - loss: 0.0637 - val_loss: 0.0635\n",
            "Epoch 39/50\n",
            "140000/140000 [==============================] - 34s 243us/step - loss: 0.0636 - val_loss: 0.0636\n",
            "Epoch 40/50\n",
            "140000/140000 [==============================] - 34s 241us/step - loss: 0.0635 - val_loss: 0.0632\n",
            "Epoch 41/50\n",
            "140000/140000 [==============================] - 30s 214us/step - loss: 0.0634 - val_loss: 0.0635\n",
            "Epoch 42/50\n",
            "140000/140000 [==============================] - 29s 205us/step - loss: 0.0633 - val_loss: 0.0631\n",
            "Epoch 43/50\n",
            "140000/140000 [==============================] - 28s 202us/step - loss: 0.0632 - val_loss: 0.0629\n",
            "Epoch 44/50\n",
            "140000/140000 [==============================] - 30s 212us/step - loss: 0.0631 - val_loss: 0.0631\n",
            "Epoch 45/50\n",
            "140000/140000 [==============================] - 29s 205us/step - loss: 0.0631 - val_loss: 0.0636\n",
            "Epoch 46/50\n",
            "140000/140000 [==============================] - 29s 209us/step - loss: 0.0630 - val_loss: 0.0628\n",
            "Epoch 47/50\n",
            "140000/140000 [==============================] - 28s 202us/step - loss: 0.0629 - val_loss: 0.0627\n",
            "Epoch 48/50\n",
            "140000/140000 [==============================] - 28s 198us/step - loss: 0.0629 - val_loss: 0.0634\n",
            "Epoch 49/50\n",
            "140000/140000 [==============================] - 28s 202us/step - loss: 0.0628 - val_loss: 0.0633\n",
            "Epoch 50/50\n",
            "140000/140000 [==============================] - 29s 208us/step - loss: 0.0627 - val_loss: 0.0629\n"
          ],
          "name": "stdout"
        },
        {
          "output_type": "execute_result",
          "data": {
            "text/plain": [
              "<keras.callbacks.History at 0x7fa2918d6358>"
            ]
          },
          "metadata": {
            "tags": []
          },
          "execution_count": 20
        }
      ]
    },
    {
      "metadata": {
        "id": "V9NS3L66DmuG",
        "colab_type": "code",
        "colab": {}
      },
      "cell_type": "code",
      "source": [
        "x_test_pred = autoencoder.predict(x_test2)"
      ],
      "execution_count": 0,
      "outputs": []
    },
    {
      "metadata": {
        "id": "zGA3gqH8LgLp",
        "colab_type": "code",
        "colab": {
          "base_uri": "https://localhost:8080/",
          "height": 34
        },
        "outputId": "c202a4a4-6e75-4c71-b034-75d784a15110"
      },
      "cell_type": "code",
      "source": [
        "x_test_pred.shape"
      ],
      "execution_count": 22,
      "outputs": [
        {
          "output_type": "execute_result",
          "data": {
            "text/plain": [
              "(60000, 32, 32, 1)"
            ]
          },
          "metadata": {
            "tags": []
          },
          "execution_count": 22
        }
      ]
    },
    {
      "metadata": {
        "id": "-q6AsvHnLlUv",
        "colab_type": "code",
        "colab": {
          "base_uri": "https://localhost:8080/",
          "height": 364
        },
        "outputId": "7e792cdd-f2f8-40bb-9a94-f8901cf042af"
      },
      "cell_type": "code",
      "source": [
        "plt.imshow(x_test2[0, :, :, 0])"
      ],
      "execution_count": 23,
      "outputs": [
        {
          "output_type": "execute_result",
          "data": {
            "text/plain": [
              "<matplotlib.image.AxesImage at 0x7fa28b549978>"
            ]
          },
          "metadata": {
            "tags": []
          },
          "execution_count": 23
        },
        {
          "output_type": "display_data",
          "data": {
            "image/png": "[encoded data removed]",
            "text/plain": [
              "<matplotlib.figure.Figure at 0x7fa291351128>"
            ]
          },
          "metadata": {
            "tags": []
          }
        }
      ]
    },
    {
      "metadata": {
        "id": "wzR7aACPLlR1",
        "colab_type": "code",
        "colab": {
          "base_uri": "https://localhost:8080/",
          "height": 364
        },
        "outputId": "a958f1ab-cc48-4bbd-ba72-44d10b231490"
      },
      "cell_type": "code",
      "source": [
        "plt.imshow(x_test_pred[0, :, :, 0])"
      ],
      "execution_count": 24,
      "outputs": [
        {
          "output_type": "execute_result",
          "data": {
            "text/plain": [
              "<matplotlib.image.AxesImage at 0x7fa28b51dd30>"
            ]
          },
          "metadata": {
            "tags": []
          },
          "execution_count": 24
        },
        {
          "output_type": "display_data",
          "data": {
            "image/png": "[encoded data removed]",
            "text/plain": [
              "<matplotlib.figure.Figure at 0x7fa291359978>"
            ]
          },
          "metadata": {
            "tags": []
          }
        }
      ]
    },
    {
      "metadata": {
        "id": "CvyWwOduLlPC",
        "colab_type": "code",
        "colab": {}
      },
      "cell_type": "code",
      "source": [
        "layer_name = 'max_pooling2d_3'\n",
        "intermediate_layer_model = Model(inputs=autoencoder.input,\n",
        "                                 outputs=autoencoder.get_layer(layer_name).output)"
      ],
      "execution_count": 0,
      "outputs": []
    },
    {
      "metadata": {
        "id": "retkDYfgLlMc",
        "colab_type": "code",
        "colab": {}
      },
      "cell_type": "code",
      "source": [
        "x_train3 = intermediate_layer_model.predict(x_train2)"
      ],
      "execution_count": 0,
      "outputs": []
    },
    {
      "metadata": {
        "id": "XzfbtZVHWk1H",
        "colab_type": "code",
        "colab": {
          "base_uri": "https://localhost:8080/",
          "height": 34
        },
        "outputId": "75ee429f-7098-4f05-a7a4-e2fbf87f6f55"
      },
      "cell_type": "code",
      "source": [
        "x_train3.shape"
      ],
      "execution_count": 68,
      "outputs": [
        {
          "output_type": "execute_result",
          "data": {
            "text/plain": [
              "(140000, 4, 4, 8)"
            ]
          },
          "metadata": {
            "tags": []
          },
          "execution_count": 68
        }
      ]
    },
    {
      "metadata": {
        "id": "lP5ZQiPUSsF7",
        "colab_type": "code",
        "colab": {}
      },
      "cell_type": "code",
      "source": [
        "layer_dict = dict([(layer.name, layer) for layer in autoencoder.layers])"
      ],
      "execution_count": 0,
      "outputs": []
    },
    {
      "metadata": {
        "id": "AhPhV7P4WkyH",
        "colab_type": "code",
        "colab": {}
      },
      "cell_type": "code",
      "source": [
        "input_decoder = Input(shape=(4, 4, 8))\n",
        "x = Conv2D(8, (3, 3), activation='relu', padding='same')(input_decoder)\n",
        "x = UpSampling2D((2, 2))(x)\n",
        "x = Conv2D(16, (3, 3), activation='relu', padding='same')(x)\n",
        "x = UpSampling2D((2, 2))(x)\n",
        "x = Conv2D(32, (3, 3), activation='relu', padding='same')(x)\n",
        "x = UpSampling2D((2, 2))(x)\n",
        "decoded = Conv2D(1, (3, 3), activation='sigmoid', padding='same')(x)\n",
        "\n",
        "decoder = Model(input_decoder, decoded)\n",
        "decoder.compile(optimizer='adadelta', loss='binary_crossentropy')"
      ],
      "execution_count": 0,
      "outputs": []
    },
    {
      "metadata": {
        "id": "6cpiwsOTLgIz",
        "colab_type": "code",
        "colab": {
          "base_uri": "https://localhost:8080/",
          "height": 408
        },
        "outputId": "82a1d26b-cd08-4c44-d28f-b68b6b0ff804"
      },
      "cell_type": "code",
      "source": [
        "decoder.summary()"
      ],
      "execution_count": 47,
      "outputs": [
        {
          "output_type": "stream",
          "text": [
            "_________________________________________________________________\n",
            "Layer (type)                 Output Shape              Param #   \n",
            "=================================================================\n",
            "input_7 (InputLayer)         (None, 4, 4, 8)           0         \n",
            "_________________________________________________________________\n",
            "conv2d_8 (Conv2D)            (None, 4, 4, 8)           584       \n",
            "_________________________________________________________________\n",
            "up_sampling2d_4 (UpSampling2 (None, 8, 8, 8)           0         \n",
            "_________________________________________________________________\n",
            "conv2d_9 (Conv2D)            (None, 8, 8, 16)          1168      \n",
            "_________________________________________________________________\n",
            "up_sampling2d_5 (UpSampling2 (None, 16, 16, 16)        0         \n",
            "_________________________________________________________________\n",
            "conv2d_10 (Conv2D)           (None, 16, 16, 32)        4640      \n",
            "_________________________________________________________________\n",
            "up_sampling2d_6 (UpSampling2 (None, 32, 32, 32)        0         \n",
            "_________________________________________________________________\n",
            "conv2d_11 (Conv2D)           (None, 32, 32, 1)         289       \n",
            "=================================================================\n",
            "Total params: 6,681\n",
            "Trainable params: 6,681\n",
            "Non-trainable params: 0\n",
            "_________________________________________________________________\n"
          ],
          "name": "stdout"
        }
      ]
    },
    {
      "metadata": {
        "id": "HyrM4MmNUWL3",
        "colab_type": "code",
        "colab": {}
      },
      "cell_type": "code",
      "source": [
        "layer_dict_decoder = dict([(layer.name, layer) for layer in decoder.layers])"
      ],
      "execution_count": 0,
      "outputs": []
    },
    {
      "metadata": {
        "id": "99no3MPpUWQM",
        "colab_type": "code",
        "colab": {
          "base_uri": "https://localhost:8080/",
          "height": 136
        },
        "outputId": "5fece1a5-3101-457f-c19a-9aa4bee040c6"
      },
      "cell_type": "code",
      "source": [
        "layer_decoder_list = list(layer_dict_decoder.keys())[1:]\n",
        "layer_decoder_list"
      ],
      "execution_count": 63,
      "outputs": [
        {
          "output_type": "execute_result",
          "data": {
            "text/plain": [
              "['conv2d_8',\n",
              " 'up_sampling2d_4',\n",
              " 'conv2d_9',\n",
              " 'up_sampling2d_5',\n",
              " 'conv2d_10',\n",
              " 'up_sampling2d_6',\n",
              " 'conv2d_11']"
            ]
          },
          "metadata": {
            "tags": []
          },
          "execution_count": 63
        }
      ]
    },
    {
      "metadata": {
        "id": "5aALF2TPUWJH",
        "colab_type": "code",
        "colab": {
          "base_uri": "https://localhost:8080/",
          "height": 136
        },
        "outputId": "93270b2b-b7af-418e-fea4-f016510639d8"
      },
      "cell_type": "code",
      "source": [
        "layer_autoencoder_list = list(layer_dict.keys())[7:]\n",
        "layer_autoencoder_list"
      ],
      "execution_count": 64,
      "outputs": [
        {
          "output_type": "execute_result",
          "data": {
            "text/plain": [
              "['conv2d_4',\n",
              " 'up_sampling2d_1',\n",
              " 'conv2d_5',\n",
              " 'up_sampling2d_2',\n",
              " 'conv2d_6',\n",
              " 'up_sampling2d_3',\n",
              " 'conv2d_7']"
            ]
          },
          "metadata": {
            "tags": []
          },
          "execution_count": 64
        }
      ]
    },
    {
      "metadata": {
        "id": "E5OzlzlxWWni",
        "colab_type": "code",
        "colab": {}
      },
      "cell_type": "code",
      "source": [
        "for i in range(len(layer_autoencoder_list)):\n",
        "  decoder.get_layer(layer_decoder_list[i]).set_weights(autoencoder.get_layer(layer_autoencoder_list[i]).get_weights())"
      ],
      "execution_count": 0,
      "outputs": []
    },
    {
      "metadata": {
        "id": "5HudvPxJWg-t",
        "colab_type": "code",
        "colab": {}
      },
      "cell_type": "code",
      "source": [
        "x_train4 = decoder.predict(x_train3)"
      ],
      "execution_count": 0,
      "outputs": []
    },
    {
      "metadata": {
        "id": "x5iYaBDaXczD",
        "colab_type": "code",
        "colab": {
          "base_uri": "https://localhost:8080/",
          "height": 34
        },
        "outputId": "b04f71fd-d6c6-4917-ed54-5e07f6868e58"
      },
      "cell_type": "code",
      "source": [
        "x_train4.shape"
      ],
      "execution_count": 70,
      "outputs": [
        {
          "output_type": "execute_result",
          "data": {
            "text/plain": [
              "(140000, 32, 32, 1)"
            ]
          },
          "metadata": {
            "tags": []
          },
          "execution_count": 70
        }
      ]
    },
    {
      "metadata": {
        "id": "EUGyo9MUYWnb",
        "colab_type": "code",
        "colab": {
          "base_uri": "https://localhost:8080/",
          "height": 364
        },
        "outputId": "e20d7592-a928-4968-e075-8a4302119e0d"
      },
      "cell_type": "code",
      "source": [
        "plt.imshow(x_train2[0, :, :, 0])"
      ],
      "execution_count": 73,
      "outputs": [
        {
          "output_type": "execute_result",
          "data": {
            "text/plain": [
              "<matplotlib.image.AxesImage at 0x7fa268f60d30>"
            ]
          },
          "metadata": {
            "tags": []
          },
          "execution_count": 73
        },
        {
          "output_type": "display_data",
          "data": {
            "image/png": "[encoded data removed]",
            "text/plain": [
              "<matplotlib.figure.Figure at 0x7fa291317e80>"
            ]
          },
          "metadata": {
            "tags": []
          }
        }
      ]
    },
    {
      "metadata": {
        "id": "RKIP2WG3Xc9W",
        "colab_type": "code",
        "colab": {
          "base_uri": "https://localhost:8080/",
          "height": 364
        },
        "outputId": "0cf0e54c-27a1-4ce4-ce43-14b2301e7fe1"
      },
      "cell_type": "code",
      "source": [
        "plt.imshow(x_train4[0, :, :, 0])"
      ],
      "execution_count": 72,
      "outputs": [
        {
          "output_type": "execute_result",
          "data": {
            "text/plain": [
              "<matplotlib.image.AxesImage at 0x7fa28b2e3f28>"
            ]
          },
          "metadata": {
            "tags": []
          },
          "execution_count": 72
        },
        {
          "output_type": "display_data",
          "data": {
            "image/png": "[encoded data removed]",
            "text/plain": [
              "<matplotlib.figure.Figure at 0x7fa28caaf1d0>"
            ]
          },
          "metadata": {
            "tags": []
          }
        }
      ]
    },
    {
      "metadata": {
        "id": "32IMstmvYbL6",
        "colab_type": "text"
      },
      "cell_type": "markdown",
      "source": [
        "**weights are transferred successfully**"
      ]
    },
    {
      "metadata": {
        "id": "GJ8Ztv3BWg8K",
        "colab_type": "code",
        "colab": {}
      },
      "cell_type": "code",
      "source": [
        "x_train_split1_enc = intermediate_layer_model.predict(x_train_split1.reshape((-1, 32, 32, 1)))\n",
        "x_train_split2_enc = intermediate_layer_model.predict(x_train_split2.reshape((-1, 32, 32, 1)))\n",
        "\n",
        "x_test_split1_enc = intermediate_layer_model.predict(x_test_split1.reshape((-1, 32, 32, 1)))\n",
        "x_test_split2_enc = intermediate_layer_model.predict(x_test_split2.reshape((-1, 32, 32, 1)))"
      ],
      "execution_count": 0,
      "outputs": []
    },
    {
      "metadata": {
        "id": "5xW_xkGnyWSO",
        "colab_type": "code",
        "colab": {
          "base_uri": "https://localhost:8080/",
          "height": 34
        },
        "outputId": "31419be4-c486-42e6-fa91-ac7335f35e82"
      },
      "cell_type": "code",
      "source": [
        "x_train_split1.shape"
      ],
      "execution_count": 124,
      "outputs": [
        {
          "output_type": "execute_result",
          "data": {
            "text/plain": [
              "(7000, 10, 32, 32, 1)"
            ]
          },
          "metadata": {
            "tags": []
          },
          "execution_count": 124
        }
      ]
    },
    {
      "metadata": {
        "id": "iK3caDy3WWrx",
        "colab_type": "code",
        "colab": {
          "base_uri": "https://localhost:8080/",
          "height": 34
        },
        "outputId": "166ff6fa-ec8d-4540-f7bc-283c92adb189"
      },
      "cell_type": "code",
      "source": [
        "x_train_split1_enc.shape"
      ],
      "execution_count": 93,
      "outputs": [
        {
          "output_type": "execute_result",
          "data": {
            "text/plain": [
              "(70000, 4, 4, 8)"
            ]
          },
          "metadata": {
            "tags": []
          },
          "execution_count": 93
        }
      ]
    },
    {
      "metadata": {
        "id": "8Z7iM15vcess",
        "colab_type": "code",
        "colab": {}
      },
      "cell_type": "code",
      "source": [
        "x_train_split1_enc = x_train_split1_enc.reshape((-1, 10, 128))\n",
        "x_train_split2_enc = x_train_split2_enc.reshape((-1, 10, 128))\n",
        "x_test_split1_enc = x_test_split1_enc.reshape((-1, 10, 128))\n",
        "x_test_split2_enc = x_test_split2_enc.reshape((-1, 10, 128))"
      ],
      "execution_count": 0,
      "outputs": []
    },
    {
      "metadata": {
        "id": "Zt5Lm8TXdD1i",
        "colab_type": "code",
        "colab": {
          "base_uri": "https://localhost:8080/",
          "height": 34
        },
        "outputId": "2ca72d8f-9657-48eb-fc4d-ccfc2b7ab400"
      },
      "cell_type": "code",
      "source": [
        "x_train_split1_enc.shape, x_train_split2_enc.shape"
      ],
      "execution_count": 95,
      "outputs": [
        {
          "output_type": "execute_result",
          "data": {
            "text/plain": [
              "((7000, 10, 128), (7000, 10, 128))"
            ]
          },
          "metadata": {
            "tags": []
          },
          "execution_count": 95
        }
      ]
    },
    {
      "metadata": {
        "id": "ajvuS0k1dRJk",
        "colab_type": "code",
        "colab": {}
      },
      "cell_type": "code",
      "source": [
        "x_train_dec = np.zeros((x_train.shape[0], 10 , 128))\n",
        "x_test_dec = np.zeros((x_test.shape[0], 10 , 128))\n",
        "\n",
        "\n",
        "x_train_dec2 = np.zeros((x_train.shape[0], 10 , 128))\n",
        "x_test_dec2 = np.zeros((x_test.shape[0], 10 , 128))"
      ],
      "execution_count": 0,
      "outputs": []
    },
    {
      "metadata": {
        "id": "JjukMP9obPPV",
        "colab_type": "code",
        "colab": {
          "base_uri": "https://localhost:8080/",
          "height": 34
        },
        "outputId": "920780de-aaca-4291-87cc-8bc955e78c82"
      },
      "cell_type": "code",
      "source": [
        "#encoder\n",
        "\n",
        "# num_cells = 4096\n",
        "\n",
        "num_input = 128\n",
        "\n",
        "num_cells = 128\n",
        "\n",
        "in_encoder = Input(shape=(10, num_input))\n",
        "\n",
        "encoder_lstm = LSTM(num_cells, return_state=True)\n",
        "\n",
        "out_encoder, h_encoder, c_encoder = encoder_lstm(in_encoder)\n",
        "\n",
        "encoder_states = [h_encoder, c_encoder]\n",
        "\n",
        "print(h_encoder.shape, c_encoder.shape)\n",
        "\n",
        "\n",
        "#decoder\n",
        "\n",
        "#predictor\n",
        "in_decoder = Input(shape=(10,num_cells))\n",
        "\n",
        "decoder_lstm = LSTM(num_input, return_sequences=True, return_state=True, activation='sigmoid')\n",
        "\n",
        "out_decoder, _, _ = decoder_lstm(in_decoder, initial_state=encoder_states)\n",
        "\n",
        "#reconstruction\n",
        "in_decoder2 = Input(shape=(10,num_cells))\n",
        "\n",
        "decoder_lstm2 = LSTM(num_input, return_sequences=True, return_state=True, activation='sigmoid')\n",
        "\n",
        "out_decoder2, _, _ = decoder_lstm2(in_decoder2, initial_state=encoder_states)\n",
        "\n",
        "\n",
        "model = Model([in_encoder, in_decoder, in_decoder2], [out_decoder, out_decoder2])\n",
        "\n"
      ],
      "execution_count": 107,
      "outputs": [
        {
          "output_type": "stream",
          "text": [
            "(?, 128) (?, 128)\n"
          ],
          "name": "stdout"
        }
      ]
    },
    {
      "metadata": {
        "id": "XjiOgzmAdZ3E",
        "colab_type": "code",
        "colab": {
          "base_uri": "https://localhost:8080/",
          "height": 408
        },
        "outputId": "4fa0d3d2-bcf8-461f-a60b-a2c7625058a8"
      },
      "cell_type": "code",
      "source": [
        "model.summary()"
      ],
      "execution_count": 98,
      "outputs": [
        {
          "output_type": "stream",
          "text": [
            "__________________________________________________________________________________________________\n",
            "Layer (type)                    Output Shape         Param #     Connected to                     \n",
            "==================================================================================================\n",
            "input_14 (InputLayer)           (None, 10, 128)      0                                            \n",
            "__________________________________________________________________________________________________\n",
            "input_15 (InputLayer)           (None, 10, 128)      0                                            \n",
            "__________________________________________________________________________________________________\n",
            "lstm_7 (LSTM)                   [(None, 128), (None, 131584      input_14[0][0]                   \n",
            "__________________________________________________________________________________________________\n",
            "input_16 (InputLayer)           (None, 10, 128)      0                                            \n",
            "__________________________________________________________________________________________________\n",
            "lstm_8 (LSTM)                   [(None, 10, 128), (N 131584      input_15[0][0]                   \n",
            "                                                                 lstm_7[0][1]                     \n",
            "                                                                 lstm_7[0][2]                     \n",
            "__________________________________________________________________________________________________\n",
            "lstm_9 (LSTM)                   [(None, 10, 128), (N 131584      input_16[0][0]                   \n",
            "                                                                 lstm_7[0][1]                     \n",
            "                                                                 lstm_7[0][2]                     \n",
            "==================================================================================================\n",
            "Total params: 394,752\n",
            "Trainable params: 394,752\n",
            "Non-trainable params: 0\n",
            "__________________________________________________________________________________________________\n"
          ],
          "name": "stdout"
        }
      ]
    },
    {
      "metadata": {
        "id": "vGazzhZUbPMv",
        "colab_type": "code",
        "colab": {}
      },
      "cell_type": "code",
      "source": [
        "# op = keras.optimizers.SGD(lr=0.0001, momentum=0.9, nesterov=True)\n",
        "# op = keras.optimizers.Adam(lr=0.001)\n",
        "\n",
        "reduce_lr = keras.callbacks.ReduceLROnPlateau(monitor='loss', factor=0.2,\n",
        "                              patience=5, min_lr=0.0001)\n",
        "\n",
        "model.compile(optimizer='adagrad',\n",
        "              loss='mse')"
      ],
      "execution_count": 0,
      "outputs": []
    },
    {
      "metadata": {
        "id": "SW9dz2O9bPKS",
        "colab_type": "code",
        "colab": {
          "base_uri": "https://localhost:8080/",
          "height": 3454
        },
        "outputId": "c7f2bb61-e299-4d59-e095-d99f991b75c1"
      },
      "cell_type": "code",
      "source": [
        "model.fit([x_train_split1_enc, x_train_dec, x_train_dec2], [x_train_split2_enc, x_train_split1_enc], epochs=100, batch_size=16, callbacks=[reduce_lr])"
      ],
      "execution_count": 109,
      "outputs": [
        {
          "output_type": "stream",
          "text": [
            "Epoch 1/100\n",
            "7000/7000 [==============================] - 39s 6ms/step - loss: 0.9104 - lstm_17_loss: 0.4964 - lstm_18_loss: 0.4139\n",
            "Epoch 2/100\n",
            "7000/7000 [==============================] - 36s 5ms/step - loss: 0.8606 - lstm_17_loss: 0.4667 - lstm_18_loss: 0.3939\n",
            "Epoch 3/100\n",
            "7000/7000 [==============================] - 36s 5ms/step - loss: 0.8342 - lstm_17_loss: 0.4452 - lstm_18_loss: 0.3890\n",
            "Epoch 4/100\n",
            "7000/7000 [==============================] - 36s 5ms/step - loss: 0.8168 - lstm_17_loss: 0.4325 - lstm_18_loss: 0.3843\n",
            "Epoch 5/100\n",
            "7000/7000 [==============================] - 36s 5ms/step - loss: 0.8044 - lstm_17_loss: 0.4251 - lstm_18_loss: 0.3793\n",
            "Epoch 6/100\n",
            "7000/7000 [==============================] - 36s 5ms/step - loss: 0.7953 - lstm_17_loss: 0.4202 - lstm_18_loss: 0.3751\n",
            "Epoch 7/100\n",
            "7000/7000 [==============================] - 36s 5ms/step - loss: 0.7886 - lstm_17_loss: 0.4168 - lstm_18_loss: 0.3718\n",
            "Epoch 8/100\n",
            "7000/7000 [==============================] - 36s 5ms/step - loss: 0.7834 - lstm_17_loss: 0.4142 - lstm_18_loss: 0.3692\n",
            "Epoch 9/100\n",
            "7000/7000 [==============================] - 36s 5ms/step - loss: 0.7793 - lstm_17_loss: 0.4121 - lstm_18_loss: 0.3671\n",
            "Epoch 10/100\n",
            "7000/7000 [==============================] - 36s 5ms/step - loss: 0.7755 - lstm_17_loss: 0.4102 - lstm_18_loss: 0.3653\n",
            "Epoch 11/100\n",
            "7000/7000 [==============================] - 36s 5ms/step - loss: 0.7724 - lstm_17_loss: 0.4087 - lstm_18_loss: 0.3636\n",
            "Epoch 12/100\n",
            "7000/7000 [==============================] - 36s 5ms/step - loss: 0.7697 - lstm_17_loss: 0.4075 - lstm_18_loss: 0.3622\n",
            "Epoch 13/100\n",
            "7000/7000 [==============================] - 35s 5ms/step - loss: 0.7673 - lstm_17_loss: 0.4063 - lstm_18_loss: 0.3610\n",
            "Epoch 14/100\n",
            "7000/7000 [==============================] - 36s 5ms/step - loss: 0.7653 - lstm_17_loss: 0.4053 - lstm_18_loss: 0.3600\n",
            "Epoch 15/100\n",
            "7000/7000 [==============================] - 36s 5ms/step - loss: 0.7635 - lstm_17_loss: 0.4044 - lstm_18_loss: 0.3591\n",
            "Epoch 16/100\n",
            "7000/7000 [==============================] - 36s 5ms/step - loss: 0.7618 - lstm_17_loss: 0.4035 - lstm_18_loss: 0.3583\n",
            "Epoch 17/100\n",
            "7000/7000 [==============================] - 35s 5ms/step - loss: 0.7605 - lstm_17_loss: 0.4028 - lstm_18_loss: 0.3576\n",
            "Epoch 18/100\n",
            "7000/7000 [==============================] - 35s 5ms/step - loss: 0.7590 - lstm_17_loss: 0.4020 - lstm_18_loss: 0.3570\n",
            "Epoch 19/100\n",
            "7000/7000 [==============================] - 36s 5ms/step - loss: 0.7577 - lstm_17_loss: 0.4014 - lstm_18_loss: 0.3564\n",
            "Epoch 20/100\n",
            "7000/7000 [==============================] - 36s 5ms/step - loss: 0.7565 - lstm_17_loss: 0.4008 - lstm_18_loss: 0.3558\n",
            "Epoch 21/100\n",
            "7000/7000 [==============================] - 35s 5ms/step - loss: 0.7553 - lstm_17_loss: 0.4002 - lstm_18_loss: 0.3551\n",
            "Epoch 22/100\n",
            "7000/7000 [==============================] - 36s 5ms/step - loss: 0.7541 - lstm_17_loss: 0.3996 - lstm_18_loss: 0.3545\n",
            "Epoch 23/100\n",
            "7000/7000 [==============================] - 35s 5ms/step - loss: 0.7531 - lstm_17_loss: 0.3991 - lstm_18_loss: 0.3540\n",
            "Epoch 24/100\n",
            "7000/7000 [==============================] - 35s 5ms/step - loss: 0.7522 - lstm_17_loss: 0.3986 - lstm_18_loss: 0.3536\n",
            "Epoch 25/100\n",
            "7000/7000 [==============================] - 35s 5ms/step - loss: 0.7512 - lstm_17_loss: 0.3980 - lstm_18_loss: 0.3532\n",
            "Epoch 26/100\n",
            "7000/7000 [==============================] - 36s 5ms/step - loss: 0.7504 - lstm_17_loss: 0.3976 - lstm_18_loss: 0.3528\n",
            "Epoch 27/100\n",
            "7000/7000 [==============================] - 35s 5ms/step - loss: 0.7496 - lstm_17_loss: 0.3972 - lstm_18_loss: 0.3524\n",
            "Epoch 28/100\n",
            "7000/7000 [==============================] - 35s 5ms/step - loss: 0.7488 - lstm_17_loss: 0.3968 - lstm_18_loss: 0.3521\n",
            "Epoch 29/100\n",
            "7000/7000 [==============================] - 35s 5ms/step - loss: 0.7481 - lstm_17_loss: 0.3963 - lstm_18_loss: 0.3517\n",
            "Epoch 30/100\n",
            "7000/7000 [==============================] - 35s 5ms/step - loss: 0.7473 - lstm_17_loss: 0.3959 - lstm_18_loss: 0.3514\n",
            "Epoch 31/100\n",
            "7000/7000 [==============================] - 35s 5ms/step - loss: 0.7467 - lstm_17_loss: 0.3955 - lstm_18_loss: 0.3511\n",
            "Epoch 32/100\n",
            "7000/7000 [==============================] - 35s 5ms/step - loss: 0.7460 - lstm_17_loss: 0.3951 - lstm_18_loss: 0.3508\n",
            "Epoch 33/100\n",
            "7000/7000 [==============================] - 35s 5ms/step - loss: 0.7454 - lstm_17_loss: 0.3948 - lstm_18_loss: 0.3506\n",
            "Epoch 34/100\n",
            "7000/7000 [==============================] - 35s 5ms/step - loss: 0.7448 - lstm_17_loss: 0.3945 - lstm_18_loss: 0.3503\n",
            "Epoch 35/100\n",
            "7000/7000 [==============================] - 35s 5ms/step - loss: 0.7442 - lstm_17_loss: 0.3942 - lstm_18_loss: 0.3500\n",
            "Epoch 36/100\n",
            "7000/7000 [==============================] - 35s 5ms/step - loss: 0.7436 - lstm_17_loss: 0.3937 - lstm_18_loss: 0.3498\n",
            "Epoch 37/100\n",
            "7000/7000 [==============================] - 35s 5ms/step - loss: 0.7430 - lstm_17_loss: 0.3934 - lstm_18_loss: 0.3496\n",
            "Epoch 38/100\n",
            "7000/7000 [==============================] - 35s 5ms/step - loss: 0.7425 - lstm_17_loss: 0.3931 - lstm_18_loss: 0.3494\n",
            "Epoch 39/100\n",
            "7000/7000 [==============================] - 35s 5ms/step - loss: 0.7420 - lstm_17_loss: 0.3929 - lstm_18_loss: 0.3491\n",
            "Epoch 40/100\n",
            "7000/7000 [==============================] - 35s 5ms/step - loss: 0.7414 - lstm_17_loss: 0.3925 - lstm_18_loss: 0.3489\n",
            "Epoch 41/100\n",
            "7000/7000 [==============================] - 35s 5ms/step - loss: 0.7410 - lstm_17_loss: 0.3923 - lstm_18_loss: 0.3487\n",
            "Epoch 42/100\n",
            "7000/7000 [==============================] - 35s 5ms/step - loss: 0.7405 - lstm_17_loss: 0.3919 - lstm_18_loss: 0.3485\n",
            "Epoch 43/100\n",
            "7000/7000 [==============================] - 35s 5ms/step - loss: 0.7400 - lstm_17_loss: 0.3917 - lstm_18_loss: 0.3484\n",
            "Epoch 44/100\n",
            "7000/7000 [==============================] - 36s 5ms/step - loss: 0.7396 - lstm_17_loss: 0.3914 - lstm_18_loss: 0.3482\n",
            "Epoch 45/100\n",
            "7000/7000 [==============================] - 35s 5ms/step - loss: 0.7392 - lstm_17_loss: 0.3912 - lstm_18_loss: 0.3480\n",
            "Epoch 46/100\n",
            "7000/7000 [==============================] - 36s 5ms/step - loss: 0.7387 - lstm_17_loss: 0.3908 - lstm_18_loss: 0.3478\n",
            "Epoch 47/100\n",
            "7000/7000 [==============================] - 35s 5ms/step - loss: 0.7382 - lstm_17_loss: 0.3906 - lstm_18_loss: 0.3477\n",
            "Epoch 48/100\n",
            "7000/7000 [==============================] - 36s 5ms/step - loss: 0.7378 - lstm_17_loss: 0.3903 - lstm_18_loss: 0.3475\n",
            "Epoch 49/100\n",
            "7000/7000 [==============================] - 35s 5ms/step - loss: 0.7375 - lstm_17_loss: 0.3901 - lstm_18_loss: 0.3474\n",
            "Epoch 50/100\n",
            "7000/7000 [==============================] - 36s 5ms/step - loss: 0.7370 - lstm_17_loss: 0.3898 - lstm_18_loss: 0.3472\n",
            "Epoch 51/100\n",
            "7000/7000 [==============================] - 36s 5ms/step - loss: 0.7366 - lstm_17_loss: 0.3895 - lstm_18_loss: 0.3470\n",
            "Epoch 52/100\n",
            "7000/7000 [==============================] - 35s 5ms/step - loss: 0.7362 - lstm_17_loss: 0.3893 - lstm_18_loss: 0.3469\n",
            "Epoch 53/100\n",
            "7000/7000 [==============================] - 36s 5ms/step - loss: 0.7358 - lstm_17_loss: 0.3891 - lstm_18_loss: 0.3468\n",
            "Epoch 54/100\n",
            "7000/7000 [==============================] - 35s 5ms/step - loss: 0.7354 - lstm_17_loss: 0.3888 - lstm_18_loss: 0.3466\n",
            "Epoch 55/100\n",
            "7000/7000 [==============================] - 35s 5ms/step - loss: 0.7350 - lstm_17_loss: 0.3885 - lstm_18_loss: 0.3465\n",
            "Epoch 56/100\n",
            "7000/7000 [==============================] - 35s 5ms/step - loss: 0.7347 - lstm_17_loss: 0.3884 - lstm_18_loss: 0.3464\n",
            "Epoch 57/100\n",
            "7000/7000 [==============================] - 35s 5ms/step - loss: 0.7343 - lstm_17_loss: 0.3881 - lstm_18_loss: 0.3462\n",
            "Epoch 58/100\n",
            "7000/7000 [==============================] - 36s 5ms/step - loss: 0.7340 - lstm_17_loss: 0.3879 - lstm_18_loss: 0.3461\n",
            "Epoch 59/100\n",
            "7000/7000 [==============================] - 36s 5ms/step - loss: 0.7336 - lstm_17_loss: 0.3876 - lstm_18_loss: 0.3460\n",
            "Epoch 60/100\n",
            "7000/7000 [==============================] - 36s 5ms/step - loss: 0.7333 - lstm_17_loss: 0.3874 - lstm_18_loss: 0.3459\n",
            "Epoch 61/100\n",
            "7000/7000 [==============================] - 36s 5ms/step - loss: 0.7329 - lstm_17_loss: 0.3872 - lstm_18_loss: 0.3458\n",
            "Epoch 62/100\n",
            "7000/7000 [==============================] - 35s 5ms/step - loss: 0.7326 - lstm_17_loss: 0.3869 - lstm_18_loss: 0.3456\n",
            "Epoch 63/100\n",
            "7000/7000 [==============================] - 36s 5ms/step - loss: 0.7323 - lstm_17_loss: 0.3867 - lstm_18_loss: 0.3455\n",
            "Epoch 64/100\n",
            "7000/7000 [==============================] - 36s 5ms/step - loss: 0.7319 - lstm_17_loss: 0.3865 - lstm_18_loss: 0.3454\n",
            "Epoch 65/100\n",
            "7000/7000 [==============================] - 36s 5ms/step - loss: 0.7316 - lstm_17_loss: 0.3862 - lstm_18_loss: 0.3453\n",
            "Epoch 66/100\n",
            "7000/7000 [==============================] - 36s 5ms/step - loss: 0.7313 - lstm_17_loss: 0.3860 - lstm_18_loss: 0.3452\n",
            "Epoch 67/100\n",
            "7000/7000 [==============================] - 36s 5ms/step - loss: 0.7309 - lstm_17_loss: 0.3858 - lstm_18_loss: 0.3451\n",
            "Epoch 68/100\n",
            "7000/7000 [==============================] - 36s 5ms/step - loss: 0.7306 - lstm_17_loss: 0.3856 - lstm_18_loss: 0.3450\n",
            "Epoch 69/100\n",
            "7000/7000 [==============================] - 36s 5ms/step - loss: 0.7302 - lstm_17_loss: 0.3853 - lstm_18_loss: 0.3449\n",
            "Epoch 70/100\n",
            "7000/7000 [==============================] - 36s 5ms/step - loss: 0.7300 - lstm_17_loss: 0.3852 - lstm_18_loss: 0.3448\n",
            "Epoch 71/100\n",
            "7000/7000 [==============================] - 35s 5ms/step - loss: 0.7296 - lstm_17_loss: 0.3849 - lstm_18_loss: 0.3447\n",
            "Epoch 72/100\n",
            "7000/7000 [==============================] - 36s 5ms/step - loss: 0.7293 - lstm_17_loss: 0.3847 - lstm_18_loss: 0.3446\n",
            "Epoch 73/100\n",
            "7000/7000 [==============================] - 36s 5ms/step - loss: 0.7290 - lstm_17_loss: 0.3844 - lstm_18_loss: 0.3445\n",
            "Epoch 74/100\n",
            "7000/7000 [==============================] - 36s 5ms/step - loss: 0.7287 - lstm_17_loss: 0.3843 - lstm_18_loss: 0.3444\n",
            "Epoch 75/100\n",
            "7000/7000 [==============================] - 36s 5ms/step - loss: 0.7284 - lstm_17_loss: 0.3840 - lstm_18_loss: 0.3444\n",
            "Epoch 76/100\n",
            "7000/7000 [==============================] - 36s 5ms/step - loss: 0.7280 - lstm_17_loss: 0.3838 - lstm_18_loss: 0.3443\n",
            "Epoch 77/100\n",
            "7000/7000 [==============================] - 36s 5ms/step - loss: 0.7277 - lstm_17_loss: 0.3836 - lstm_18_loss: 0.3442\n",
            "Epoch 78/100\n",
            "7000/7000 [==============================] - 36s 5ms/step - loss: 0.7274 - lstm_17_loss: 0.3833 - lstm_18_loss: 0.3441\n",
            "Epoch 79/100\n",
            "7000/7000 [==============================] - 35s 5ms/step - loss: 0.7272 - lstm_17_loss: 0.3831 - lstm_18_loss: 0.3440\n",
            "Epoch 80/100\n",
            "7000/7000 [==============================] - 35s 5ms/step - loss: 0.7269 - lstm_17_loss: 0.3829 - lstm_18_loss: 0.3439\n",
            "Epoch 81/100\n",
            "7000/7000 [==============================] - 35s 5ms/step - loss: 0.7265 - lstm_17_loss: 0.3827 - lstm_18_loss: 0.3439\n",
            "Epoch 82/100\n",
            "7000/7000 [==============================] - 35s 5ms/step - loss: 0.7262 - lstm_17_loss: 0.3825 - lstm_18_loss: 0.3438\n",
            "Epoch 83/100\n",
            "7000/7000 [==============================] - 35s 5ms/step - loss: 0.7260 - lstm_17_loss: 0.3823 - lstm_18_loss: 0.3437\n",
            "Epoch 84/100\n",
            "7000/7000 [==============================] - 35s 5ms/step - loss: 0.7257 - lstm_17_loss: 0.3820 - lstm_18_loss: 0.3436\n",
            "Epoch 85/100\n",
            "7000/7000 [==============================] - 35s 5ms/step - loss: 0.7254 - lstm_17_loss: 0.3819 - lstm_18_loss: 0.3436\n",
            "Epoch 86/100\n",
            "7000/7000 [==============================] - 35s 5ms/step - loss: 0.7251 - lstm_17_loss: 0.3816 - lstm_18_loss: 0.3435\n",
            "Epoch 87/100\n",
            "7000/7000 [==============================] - 35s 5ms/step - loss: 0.7248 - lstm_17_loss: 0.3814 - lstm_18_loss: 0.3434\n",
            "Epoch 88/100\n",
            "7000/7000 [==============================] - 35s 5ms/step - loss: 0.7245 - lstm_17_loss: 0.3812 - lstm_18_loss: 0.3433\n",
            "Epoch 89/100\n",
            "7000/7000 [==============================] - 35s 5ms/step - loss: 0.7242 - lstm_17_loss: 0.3810 - lstm_18_loss: 0.3433\n",
            "Epoch 90/100\n",
            "7000/7000 [==============================] - 35s 5ms/step - loss: 0.7240 - lstm_17_loss: 0.3808 - lstm_18_loss: 0.3432\n",
            "Epoch 91/100\n",
            "7000/7000 [==============================] - 43s 6ms/step - loss: 0.7237 - lstm_17_loss: 0.3806 - lstm_18_loss: 0.3431\n",
            "Epoch 92/100\n",
            "7000/7000 [==============================] - 36s 5ms/step - loss: 0.7234 - lstm_17_loss: 0.3804 - lstm_18_loss: 0.3431\n",
            "Epoch 93/100\n",
            "7000/7000 [==============================] - 36s 5ms/step - loss: 0.7232 - lstm_17_loss: 0.3802 - lstm_18_loss: 0.3430\n",
            "Epoch 94/100\n",
            "7000/7000 [==============================] - 36s 5ms/step - loss: 0.7229 - lstm_17_loss: 0.3800 - lstm_18_loss: 0.3429\n",
            "Epoch 95/100\n",
            "7000/7000 [==============================] - 36s 5ms/step - loss: 0.7226 - lstm_17_loss: 0.3798 - lstm_18_loss: 0.3429\n",
            "Epoch 96/100\n",
            "7000/7000 [==============================] - 36s 5ms/step - loss: 0.7224 - lstm_17_loss: 0.3796 - lstm_18_loss: 0.3428\n",
            "Epoch 97/100\n",
            "7000/7000 [==============================] - 36s 5ms/step - loss: 0.7221 - lstm_17_loss: 0.3794 - lstm_18_loss: 0.3427\n",
            "Epoch 98/100\n",
            "7000/7000 [==============================] - 36s 5ms/step - loss: 0.7219 - lstm_17_loss: 0.3792 - lstm_18_loss: 0.3426\n",
            "Epoch 99/100\n",
            "7000/7000 [==============================] - 36s 5ms/step - loss: 0.7215 - lstm_17_loss: 0.3790 - lstm_18_loss: 0.3425\n",
            "Epoch 100/100\n",
            "7000/7000 [==============================] - 36s 5ms/step - loss: 0.7212 - lstm_17_loss: 0.3788 - lstm_18_loss: 0.3424\n"
          ],
          "name": "stdout"
        },
        {
          "output_type": "execute_result",
          "data": {
            "text/plain": [
              "<keras.callbacks.History at 0x7fa1800e86a0>"
            ]
          },
          "metadata": {
            "tags": []
          },
          "execution_count": 109
        }
      ]
    },
    {
      "metadata": {
        "id": "DAlPboCQbPHY",
        "colab_type": "code",
        "colab": {}
      },
      "cell_type": "code",
      "source": [
        "frames_pred = model.predict([x_test_split1_enc, x_test_dec, x_test_dec2])"
      ],
      "execution_count": 0,
      "outputs": []
    },
    {
      "metadata": {
        "id": "G-jJOCVvbPEm",
        "colab_type": "code",
        "colab": {}
      },
      "cell_type": "code",
      "source": [
        "frames_pred_future_enc = frames_pred[0]\n",
        "frames_pred_reconstruction_enc = frames_pred[1]"
      ],
      "execution_count": 0,
      "outputs": []
    },
    {
      "metadata": {
        "id": "oKr1bb0uw559",
        "colab_type": "code",
        "colab": {
          "base_uri": "https://localhost:8080/",
          "height": 34
        },
        "outputId": "232938e1-21cc-4b49-bd84-0a76b1ee1a41"
      },
      "cell_type": "code",
      "source": [
        "frames_pred_future_enc.shape, frames_pred_reconstruction_enc.shape"
      ],
      "execution_count": 115,
      "outputs": [
        {
          "output_type": "execute_result",
          "data": {
            "text/plain": [
              "((3000, 10, 128), (3000, 10, 128))"
            ]
          },
          "metadata": {
            "tags": []
          },
          "execution_count": 115
        }
      ]
    },
    {
      "metadata": {
        "id": "5IVMQl-cw53F",
        "colab_type": "code",
        "colab": {}
      },
      "cell_type": "code",
      "source": [
        "frames_pred_future_enc = frames_pred_future_enc.reshape((-1, 4, 4, 8))\n",
        "frames_pred_reconstruction_enc = frames_pred_reconstruction_enc.reshape((-1, 4, 4, 8))"
      ],
      "execution_count": 0,
      "outputs": []
    },
    {
      "metadata": {
        "id": "noMOXfepw50M",
        "colab_type": "code",
        "colab": {}
      },
      "cell_type": "code",
      "source": [
        "frames_pred_future = decoder.predict(frames_pred_future_enc)\n",
        "frames_pred_reconstruction = decoder.predict(frames_pred_future_enc)"
      ],
      "execution_count": 0,
      "outputs": []
    },
    {
      "metadata": {
        "id": "XD83S6cUx0e8",
        "colab_type": "code",
        "colab": {
          "base_uri": "https://localhost:8080/",
          "height": 34
        },
        "outputId": "171a886e-8b6b-4e71-ac6c-b6bf7b9f2053"
      },
      "cell_type": "code",
      "source": [
        "frames_pred_future.shape, frames_pred_reconstruction.shape"
      ],
      "execution_count": 119,
      "outputs": [
        {
          "output_type": "execute_result",
          "data": {
            "text/plain": [
              "((30000, 32, 32, 1), (30000, 32, 32, 1))"
            ]
          },
          "metadata": {
            "tags": []
          },
          "execution_count": 119
        }
      ]
    },
    {
      "metadata": {
        "id": "vuA8aNI3x0cJ",
        "colab_type": "code",
        "colab": {}
      },
      "cell_type": "code",
      "source": [
        "frames_pred_future = frames_pred_future.reshape((-1, 10, 32, 32))\n",
        "frames_pred_reconstruction = frames_pred_reconstruction.reshape((-1, 10, 32, 32))"
      ],
      "execution_count": 0,
      "outputs": []
    },
    {
      "metadata": {
        "id": "_Uty-kM8yGIt",
        "colab_type": "code",
        "colab": {
          "base_uri": "https://localhost:8080/",
          "height": 34
        },
        "outputId": "123ace07-02e9-4b24-e365-3d0ed51b4f5b"
      },
      "cell_type": "code",
      "source": [
        "frames_pred_future.shape"
      ],
      "execution_count": 121,
      "outputs": [
        {
          "output_type": "execute_result",
          "data": {
            "text/plain": [
              "(3000, 10, 32, 32)"
            ]
          },
          "metadata": {
            "tags": []
          },
          "execution_count": 121
        }
      ]
    },
    {
      "metadata": {
        "id": "-k24meJ_yR5v",
        "colab_type": "code",
        "colab": {
          "base_uri": "https://localhost:8080/",
          "height": 364
        },
        "outputId": "3a69a600-3e6c-4f7f-f412-3f0d502ce683"
      },
      "cell_type": "code",
      "source": [
        "plt.imshow(x_test_split1[0, 0, :, :, 0])"
      ],
      "execution_count": 125,
      "outputs": [
        {
          "output_type": "execute_result",
          "data": {
            "text/plain": [
              "<matplotlib.image.AxesImage at 0x7fa17e6b98d0>"
            ]
          },
          "metadata": {
            "tags": []
          },
          "execution_count": 125
        },
        {
          "output_type": "display_data",
          "data": {
            "image/png": "[encoded data removed]",
            "text/plain": [
              "<matplotlib.figure.Figure at 0x7fa17e6efef0>"
            ]
          },
          "metadata": {
            "tags": []
          }
        }
      ]
    },
    {
      "metadata": {
        "id": "ufmBqX4ex0ZH",
        "colab_type": "code",
        "colab": {
          "base_uri": "https://localhost:8080/",
          "height": 364
        },
        "outputId": "2f66531b-6e2e-415f-ddf4-219326f27fbe"
      },
      "cell_type": "code",
      "source": [
        "plt.imshow(frames_pred_future[0, 0, :, :])"
      ],
      "execution_count": 122,
      "outputs": [
        {
          "output_type": "execute_result",
          "data": {
            "text/plain": [
              "<matplotlib.image.AxesImage at 0x7fa17e7f6240>"
            ]
          },
          "metadata": {
            "tags": []
          },
          "execution_count": 122
        },
        {
          "output_type": "display_data",
          "data": {
            "image/png": "[encoded data removed]",
            "text/plain": [
              "<matplotlib.figure.Figure at 0x7fa17e73f2e8>"
            ]
          },
          "metadata": {
            "tags": []
          }
        }
      ]
    },
    {
      "metadata": {
        "id": "USUnYW0pyfnW",
        "colab_type": "code",
        "colab": {
          "base_uri": "https://localhost:8080/",
          "height": 364
        },
        "outputId": "bb9c3b64-1270-4162-e5e5-9cc7a847484b"
      },
      "cell_type": "code",
      "source": [
        "plt.imshow(x_test_split1[0, 9, :, :, 0])"
      ],
      "execution_count": 126,
      "outputs": [
        {
          "output_type": "execute_result",
          "data": {
            "text/plain": [
              "<matplotlib.image.AxesImage at 0x7fa17e61ac50>"
            ]
          },
          "metadata": {
            "tags": []
          },
          "execution_count": 126
        },
        {
          "output_type": "display_data",
          "data": {
            "image/png": "[encoded data removed]",
            "text/plain": [
              "<matplotlib.figure.Figure at 0x7fa17e69aa20>"
            ]
          },
          "metadata": {
            "tags": []
          }
        }
      ]
    },
    {
      "metadata": {
        "id": "i7Avv4DcyOHv",
        "colab_type": "code",
        "colab": {
          "base_uri": "https://localhost:8080/",
          "height": 364
        },
        "outputId": "53b299b8-9b5b-4350-abb0-4584c27eb2ad"
      },
      "cell_type": "code",
      "source": [
        "plt.imshow(frames_pred_future[0, 9, :, :])"
      ],
      "execution_count": 123,
      "outputs": [
        {
          "output_type": "execute_result",
          "data": {
            "text/plain": [
              "<matplotlib.image.AxesImage at 0x7fa17e6da470>"
            ]
          },
          "metadata": {
            "tags": []
          },
          "execution_count": 123
        },
        {
          "output_type": "display_data",
          "data": {
            "image/png": "[encoded data removed]",
            "text/plain": [
              "<matplotlib.figure.Figure at 0x7fa17e833dd8>"
            ]
          },
          "metadata": {
            "tags": []
          }
        }
      ]
    },
    {
      "metadata": {
        "id": "Y1j_USVSx0WY",
        "colab_type": "code",
        "colab": {}
      },
      "cell_type": "code",
      "source": [
        ""
      ],
      "execution_count": 0,
      "outputs": []
    },
    {
      "metadata": {
        "id": "Dgyf8UtvDmnm",
        "colab_type": "code",
        "colab": {}
      },
      "cell_type": "code",
      "source": [
        ""
      ],
      "execution_count": 0,
      "outputs": []
    }
  ]
}