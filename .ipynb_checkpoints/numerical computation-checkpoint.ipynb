{
 "cells": [
  {
   "cell_type": "code",
   "execution_count": 1,
   "metadata": {
    "collapsed": true
   },
   "outputs": [],
   "source": [
    "import numpy as np\n",
    "import matplotlib.pyplot as plt\n",
    "import tensorflow as tf\n",
    "\n",
    "%matplotlib inline"
   ]
  },
  {
   "cell_type": "markdown",
   "metadata": {},
   "source": [
    "# Rounding Error"
   ]
  },
  {
   "cell_type": "markdown",
   "metadata": {},
   "source": [
    "##### Float64 does not cause overflow in this case"
   ]
  },
  {
   "cell_type": "code",
   "execution_count": 8,
   "metadata": {
    "collapsed": false
   },
   "outputs": [
    {
     "data": {
      "text/plain": [
       "1"
      ]
     },
     "execution_count": 8,
     "metadata": {},
     "output_type": "execute_result"
    }
   ],
   "source": [
    "a = np.array([0, 1e-8])\n",
    "a.argmax()"
   ]
  },
  {
   "cell_type": "code",
   "execution_count": 9,
   "metadata": {
    "collapsed": false
   },
   "outputs": [
    {
     "data": {
      "text/plain": [
       "1"
      ]
     },
     "execution_count": 9,
     "metadata": {},
     "output_type": "execute_result"
    }
   ],
   "source": [
    "(a + 1).argmax()"
   ]
  },
  {
   "cell_type": "code",
   "execution_count": 11,
   "metadata": {
    "collapsed": false
   },
   "outputs": [
    {
     "data": {
      "text/plain": [
       "dtype('float64')"
      ]
     },
     "execution_count": 11,
     "metadata": {},
     "output_type": "execute_result"
    }
   ],
   "source": [
    "a.dtype"
   ]
  },
  {
   "cell_type": "markdown",
   "metadata": {},
   "source": [
    "##### Force it to be in float32"
   ]
  },
  {
   "cell_type": "code",
   "execution_count": 19,
   "metadata": {
    "collapsed": false
   },
   "outputs": [
    {
     "data": {
      "text/plain": [
       "1"
      ]
     },
     "execution_count": 19,
     "metadata": {},
     "output_type": "execute_result"
    }
   ],
   "source": [
    "a = np.array([0, 1e-7]).astype('float32')\n",
    "a.argmax()"
   ]
  },
  {
   "cell_type": "code",
   "execution_count": 20,
   "metadata": {
    "collapsed": false
   },
   "outputs": [
    {
     "data": {
      "text/plain": [
       "array([  0.00000000e+00,   1.00000001e-07], dtype=float32)"
      ]
     },
     "execution_count": 20,
     "metadata": {},
     "output_type": "execute_result"
    }
   ],
   "source": [
    "a"
   ]
  },
  {
   "cell_type": "code",
   "execution_count": 21,
   "metadata": {
    "collapsed": false
   },
   "outputs": [
    {
     "data": {
      "text/plain": [
       "array([ 1.        ,  1.00000012], dtype=float32)"
      ]
     },
     "execution_count": 21,
     "metadata": {},
     "output_type": "execute_result"
    }
   ],
   "source": [
    "a + 1"
   ]
  },
  {
   "cell_type": "code",
   "execution_count": 22,
   "metadata": {
    "collapsed": false
   },
   "outputs": [
    {
     "data": {
      "text/plain": [
       "1"
      ]
     },
     "execution_count": 22,
     "metadata": {},
     "output_type": "execute_result"
    }
   ],
   "source": [
    "(a+1).argmax()"
   ]
  },
  {
   "cell_type": "markdown",
   "metadata": {},
   "source": [
    "##### Rounding error"
   ]
  },
  {
   "cell_type": "code",
   "execution_count": 26,
   "metadata": {
    "collapsed": false
   },
   "outputs": [
    {
     "data": {
      "text/plain": [
       "1"
      ]
     },
     "execution_count": 26,
     "metadata": {},
     "output_type": "execute_result"
    }
   ],
   "source": [
    "a = np.array([0, 1e-8]).astype('float32')\n",
    "a.argmax()"
   ]
  },
  {
   "cell_type": "code",
   "execution_count": 27,
   "metadata": {
    "collapsed": false
   },
   "outputs": [
    {
     "data": {
      "text/plain": [
       "array([  0.00000000e+00,   9.99999994e-09], dtype=float32)"
      ]
     },
     "execution_count": 27,
     "metadata": {},
     "output_type": "execute_result"
    }
   ],
   "source": [
    "a"
   ]
  },
  {
   "cell_type": "code",
   "execution_count": 28,
   "metadata": {
    "collapsed": false
   },
   "outputs": [
    {
     "data": {
      "text/plain": [
       "array([ 1.,  1.], dtype=float32)"
      ]
     },
     "execution_count": 28,
     "metadata": {},
     "output_type": "execute_result"
    }
   ],
   "source": [
    "a + 1"
   ]
  },
  {
   "cell_type": "code",
   "execution_count": 29,
   "metadata": {
    "collapsed": false
   },
   "outputs": [
    {
     "data": {
      "text/plain": [
       "0"
      ]
     },
     "execution_count": 29,
     "metadata": {},
     "output_type": "execute_result"
    }
   ],
   "source": [
    "(a+1).argmax()"
   ]
  },
  {
   "cell_type": "code",
   "execution_count": null,
   "metadata": {
    "collapsed": true
   },
   "outputs": [],
   "source": []
  },
  {
   "cell_type": "markdown",
   "metadata": {},
   "source": [
    "# Avoid dividing by zero"
   ]
  },
  {
   "cell_type": "code",
   "execution_count": 32,
   "metadata": {
    "collapsed": false
   },
   "outputs": [],
   "source": [
    "x = np.repeat(7, 100)"
   ]
  },
  {
   "cell_type": "code",
   "execution_count": 33,
   "metadata": {
    "collapsed": false
   },
   "outputs": [
    {
     "data": {
      "text/plain": [
       "0.0"
      ]
     },
     "execution_count": 33,
     "metadata": {},
     "output_type": "execute_result"
    }
   ],
   "source": [
    "np.var(x)"
   ]
  },
  {
   "cell_type": "code",
   "execution_count": 34,
   "metadata": {
    "collapsed": false
   },
   "outputs": [
    {
     "data": {
      "text/plain": [
       "0.0"
      ]
     },
     "execution_count": 34,
     "metadata": {},
     "output_type": "execute_result"
    }
   ],
   "source": [
    "np.std(x)"
   ]
  },
  {
   "cell_type": "code",
   "execution_count": 35,
   "metadata": {
    "collapsed": false
   },
   "outputs": [
    {
     "name": "stderr",
     "output_type": "stream",
     "text": [
      "/Users/apple/anaconda/lib/python3.5/site-packages/ipykernel/__main__.py:1: RuntimeWarning: divide by zero encountered in true_divide\n",
      "  if __name__ == '__main__':\n"
     ]
    }
   ],
   "source": [
    "x_normalized = x / np.std(x)"
   ]
  },
  {
   "cell_type": "code",
   "execution_count": 36,
   "metadata": {
    "collapsed": true
   },
   "outputs": [],
   "source": [
    "epsilon = 1e-3\n",
    "std_x = np.sqrt(epsilon + np.var(x))\n",
    "x_normalized = x / std_x"
   ]
  },
  {
   "cell_type": "code",
   "execution_count": null,
   "metadata": {
    "collapsed": true
   },
   "outputs": [],
   "source": []
  },
  {
   "cell_type": "markdown",
   "metadata": {},
   "source": [
    "# Stable versions of functions in tensorflow"
   ]
  },
  {
   "cell_type": "code",
   "execution_count": 37,
   "metadata": {
    "collapsed": true
   },
   "outputs": [],
   "source": [
    "?tf.reduce_sum"
   ]
  },
  {
   "cell_type": "code",
   "execution_count": 46,
   "metadata": {
    "collapsed": false
   },
   "outputs": [
    {
     "name": "stdout",
     "output_type": "stream",
     "text": [
      "inf\n"
     ]
    }
   ],
   "source": [
    "x = tf.exp(100.0)\n",
    "with tf.Session() as sess:\n",
    "    print(sess.run(x))"
   ]
  },
  {
   "cell_type": "code",
   "execution_count": 80,
   "metadata": {
    "collapsed": false
   },
   "outputs": [
    {
     "data": {
      "text/plain": [
       "array([ 929.71792839,  699.14065317,  754.56251787,  597.08504463,\n",
       "        946.33886603,  573.55375926,  632.42230358,  695.13051084,\n",
       "        601.646446  ,  736.98108742,  705.82490663,  556.15260546,\n",
       "        509.42036509,  558.21438847,  611.13353483,  573.00306676,\n",
       "        607.90675323,  818.53343492,  752.92726973,  951.47870841,\n",
       "        983.08798851,  519.67435115,  991.96220831,  526.04131665,\n",
       "        898.48834767,  749.71569333,  743.50875437,  621.927743  ,\n",
       "        696.47217411,  729.08695786,  571.70174491,  638.0670988 ,\n",
       "        895.44532544,  714.23655171,  617.55036926,  529.30753519,\n",
       "        508.56269675,  886.21939643,  842.56035893,  712.33980405,\n",
       "        519.19692633,  504.85712346,  526.57959186,  598.42320452,\n",
       "        775.59412372,  968.23254602,  951.03014089,  558.0757624 ,\n",
       "        878.16527618,  916.93876077,  931.68449256,  644.44132732,\n",
       "        671.25737151,  722.25246458,  884.31385404,  627.00671945,\n",
       "        933.48887652,  659.94593507,  826.93304135,  744.12683196,\n",
       "        731.13014397,  581.66786545,  973.10442798,  535.16953928,\n",
       "        580.29515637,  710.87647846,  853.66675642,  739.54702265,\n",
       "        563.30170734,  826.30596529,  584.37077384,  568.71514629,\n",
       "        743.74786339,  862.09597569,  558.99527336,  554.65541026,\n",
       "        850.81188495,  576.68278468,  810.71152427,  965.72861024,\n",
       "        883.09700119,  927.78320916,  552.13965379,  928.22495527,\n",
       "        871.72259974,  901.02702936,  705.65811763,  984.90803864,\n",
       "        787.51388292,  866.86337592,  724.68389654,  972.83982931,\n",
       "        708.3287196 ,  516.06467668,  879.35234227,  890.03249883,\n",
       "        651.75849061,  569.68958718,  670.84615218,  942.44970239])"
      ]
     },
     "execution_count": 80,
     "metadata": {},
     "output_type": "execute_result"
    }
   ],
   "source": [
    "y = 500 * (np.random.random([100]) + 1)\n",
    "y"
   ]
  },
  {
   "cell_type": "code",
   "execution_count": 73,
   "metadata": {
    "collapsed": false
   },
   "outputs": [
    {
     "name": "stdout",
     "output_type": "stream",
     "text": [
      "[  2.25065883e+238   8.69442193e+232               inf               inf\n",
      "   3.39117332e+293   1.24271007e+281               inf               inf\n",
      "   5.64511302e+221               inf   4.16273640e+284               inf\n",
      "               inf               inf               inf               inf\n",
      "   5.87130144e+266   7.20459797e+289   1.59687414e+224               inf\n",
      "   1.03099315e+250               inf   1.02849451e+264               inf\n",
      "               inf               inf   9.42974050e+231   1.01276603e+222\n",
      "               inf   1.71091361e+280               inf               inf\n",
      "               inf   1.45346076e+224   1.38855963e+245   9.83599895e+224\n",
      "   5.74801179e+258               inf               inf   1.99227068e+284\n",
      "               inf   2.28189247e+242   6.22081115e+219               inf\n",
      "   8.60309975e+259   5.59447182e+276               inf               inf\n",
      "               inf               inf   3.23801316e+231   4.21956045e+219\n",
      "   1.03398802e+226               inf               inf   7.15276502e+269\n",
      "               inf   2.51044788e+253               inf               inf\n",
      "   3.85063425e+275               inf   4.42149933e+252   6.28427287e+289\n",
      "   2.67878522e+286               inf               inf   1.43776838e+227\n",
      "   1.64219668e+298               inf   2.02405805e+284   9.43058420e+284\n",
      "   4.56083399e+249               inf               inf               inf\n",
      "               inf   8.49647916e+295   1.44585088e+278   6.11804801e+295\n",
      "   2.79942461e+304   4.58924895e+253               inf               inf\n",
      "   6.53521146e+277   1.03955371e+251               inf               inf\n",
      "   3.65404676e+261               inf   4.29420839e+259   8.31133636e+226\n",
      "               inf               inf               inf   1.80401247e+262\n",
      "   3.88247508e+247   1.04016965e+274   1.35824019e+293   1.17527458e+305]\n"
     ]
    }
   ],
   "source": [
    "z = tf.exp(y)\n",
    "with tf.Session() as sess:\n",
    "    print(sess.run(z))"
   ]
  },
  {
   "cell_type": "code",
   "execution_count": 75,
   "metadata": {
    "collapsed": false
   },
   "outputs": [
    {
     "name": "stdout",
     "output_type": "stream",
     "text": [
      "inf\n"
     ]
    }
   ],
   "source": [
    "z = tf.log(tf.reduce_sum(tf.exp(y)))\n",
    "with tf.Session() as sess:\n",
    "    print(sess.run(z))"
   ]
  },
  {
   "cell_type": "code",
   "execution_count": 85,
   "metadata": {
    "collapsed": false
   },
   "outputs": [
    {
     "name": "stdout",
     "output_type": "stream",
     "text": [
      "991.963211567\n"
     ]
    }
   ],
   "source": [
    "mx = tf.reduce_max(y)\n",
    "y2 = y - mx\n",
    "z = tf.log(tf.reduce_sum(tf.exp(y2)))\n",
    "with tf.Session() as sess:\n",
    "    mx, z2 = sess.run([mx, z])\n",
    "    print(mx + z2)"
   ]
  },
  {
   "cell_type": "code",
   "execution_count": 87,
   "metadata": {
    "collapsed": false
   },
   "outputs": [
    {
     "name": "stdout",
     "output_type": "stream",
     "text": [
      "991.963211567\n"
     ]
    }
   ],
   "source": [
    "z = tf.reduce_logsumexp(y)\n",
    "with tf.Session() as sess:\n",
    "    z3 = sess.run(z)\n",
    "    print(z3)"
   ]
  },
  {
   "cell_type": "code",
   "execution_count": null,
   "metadata": {
    "collapsed": true
   },
   "outputs": [],
   "source": []
  },
  {
   "cell_type": "code",
   "execution_count": 90,
   "metadata": {
    "collapsed": false
   },
   "outputs": [
    {
     "name": "stdout",
     "output_type": "stream",
     "text": [
      "[  9.27293021e-028   6.74184420e-128   7.91022297e-104   3.21063602e-172\n",
      "   1.53319889e-020   1.93679514e-182   7.13456736e-157   1.22235126e-129\n",
      "   3.07314123e-170   1.83092476e-111   5.39154338e-125   5.36856989e-190\n",
      "   2.71834450e-210   4.21968079e-189   4.05296496e-166   1.11666003e-182\n",
      "   1.60841977e-167   4.79076652e-076   1.54173412e-104   2.61699972e-018\n",
      "   1.39810440e-004   7.71887588e-206   9.98997245e-001   4.49461028e-203\n",
      "   2.53736189e-041   6.21211624e-106   1.25198819e-108   1.97532196e-161\n",
      "   4.67598360e-129   6.82800123e-115   3.03923354e-183   2.01776720e-154\n",
      "   1.21008158e-042   2.42573943e-121   2.48066793e-163   1.17812868e-201\n",
      "   1.15298556e-210   1.19136433e-046   1.30366354e-065   3.63996415e-122\n",
      "   4.78862792e-206   2.83474394e-212   7.69949062e-203   1.22390169e-171\n",
      "   1.07671086e-094   4.94200182e-011   1.67106474e-018   3.67345783e-189\n",
      "   3.78603488e-050   2.61393637e-033   6.62651152e-027   1.18348657e-151\n",
      "   5.23869785e-140   7.34701409e-118   1.77205847e-047   3.17255631e-159\n",
      "   4.02641891e-026   6.40809471e-145   2.12964751e-072   2.32288613e-108\n",
      "   5.26790635e-114   6.47135506e-179   6.45259420e-009   4.14027090e-199\n",
      "   1.63996754e-179   8.42525155e-123   8.68185768e-061   2.38254992e-110\n",
      "   6.83398641e-187   1.13755408e-072   9.65724903e-178   1.53356000e-184\n",
      "   1.59017150e-108   3.97535646e-057   9.21326566e-189   1.20125443e-190\n",
      "   4.99755677e-062   4.42590575e-181   1.92040298e-079   4.04070747e-012\n",
      "   5.24814191e-048   1.33961223e-028   9.70634769e-192   2.08366072e-028\n",
      "   6.02789646e-053   3.21305281e-040   4.56328469e-125   8.62933501e-004\n",
      "   1.61727823e-089   4.67553906e-055   8.35734547e-117   4.95245584e-009\n",
      "   6.59333683e-124   2.08877833e-207   1.24085451e-049   5.39577614e-045\n",
      "   1.78224322e-148   4.06345144e-184   3.47242652e-140   3.13730099e-022]\n"
     ]
    }
   ],
   "source": [
    "z = tf.nn.softmax(y)\n",
    "with tf.Session() as sess:\n",
    "    z3 = sess.run(z)\n",
    "    print(z3)"
   ]
  },
  {
   "cell_type": "code",
   "execution_count": 95,
   "metadata": {
    "collapsed": true
   },
   "outputs": [],
   "source": [
    "?tf.nn.softmax_cross_entropy_with_logits()"
   ]
  },
  {
   "cell_type": "code",
   "execution_count": null,
   "metadata": {
    "collapsed": true
   },
   "outputs": [],
   "source": []
  },
  {
   "cell_type": "code",
   "execution_count": null,
   "metadata": {
    "collapsed": true
   },
   "outputs": [],
   "source": []
  },
  {
   "cell_type": "code",
   "execution_count": null,
   "metadata": {
    "collapsed": true
   },
   "outputs": [],
   "source": []
  },
  {
   "cell_type": "code",
   "execution_count": null,
   "metadata": {
    "collapsed": true
   },
   "outputs": [],
   "source": []
  },
  {
   "cell_type": "code",
   "execution_count": null,
   "metadata": {
    "collapsed": true
   },
   "outputs": [],
   "source": []
  }
 ],
 "metadata": {
  "anaconda-cloud": {},
  "kernelspec": {
   "display_name": "Python [conda root]",
   "language": "python",
   "name": "conda-root-py"
  },
  "language_info": {
   "codemirror_mode": {
    "name": "ipython",
    "version": 3
   },
   "file_extension": ".py",
   "mimetype": "text/x-python",
   "name": "python",
   "nbconvert_exporter": "python",
   "pygments_lexer": "ipython3",
   "version": "3.5.2"
  }
 },
 "nbformat": 4,
 "nbformat_minor": 2
}
