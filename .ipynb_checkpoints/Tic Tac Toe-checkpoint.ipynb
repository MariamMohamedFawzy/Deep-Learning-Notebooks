{
 "cells": [
  {
   "cell_type": "code",
   "execution_count": 2,
   "metadata": {
    "collapsed": true
   },
   "outputs": [],
   "source": [
    "import numpy as np\n",
    "import matplotlib.pyplot as plt\n",
    "import tensorflow as tf"
   ]
  },
  {
   "cell_type": "code",
   "execution_count": 8,
   "metadata": {
    "collapsed": true
   },
   "outputs": [],
   "source": [
    "grid_len = 3\n",
    "grid_size = grid_len**2\n",
    "def check_three(state, arr, value):\n",
    "    if state[arr[0]] == state[arr[1]] and state[arr[1]] == state[arr[2]] and state[arr[2]] == value:\n",
    "        return True\n",
    "    return False\n",
    "def is_winner(state):\n",
    "    return check_three(state, [0, 4, 8], 1) or check_three(state, [2, 4, 6], 1) or check_three(state, [0, 1, 2], 1)\\\n",
    "                or check_three(state, [3, 4, 5], 1) or check_three(state, [6, 7, 8], 1) or check_three(state, [0, 3, 6], 1)\\\n",
    "                or check_three(state, [1, 4, 7], 1) or check_three(state, [2, 5, 8], 1)\n",
    "def is_loser(state):\n",
    "    return check_three(state, [0, 4, 8], -1) or check_three(state, [2, 4, 6], -1) or check_three(state, [0, 1, 2], -1)\\\n",
    "                or check_three(state, [3, 4, 5], -1) or check_three(state, [6, 7, 8], -1) or check_three(state, [0, 3, 6], -1)\\\n",
    "                or check_three(state, [1, 4, 7], -1) or check_three(state, [2, 5, 8], -1)\n",
    "def get_reward(state):\n",
    "    if is_winner(state):\n",
    "        return 1\n",
    "    elif is_loser(state):\n",
    "        return -1\n",
    "    else:\n",
    "        return 0.1"
   ]
  },
  {
   "cell_type": "code",
   "execution_count": 126,
   "metadata": {
    "collapsed": false
   },
   "outputs": [],
   "source": [
    "def get_reward_for_action(state, index):\n",
    "    s = state[0]\n",
    "#     with tf.Session() as sess2:\n",
    "#         s = sess2.run(state[0])\n",
    "    if s[index] != 0:\n",
    "        retuen -3\n",
    "    else:\n",
    "        return get_reward(s)"
   ]
  },
  {
   "cell_type": "code",
   "execution_count": null,
   "metadata": {
    "collapsed": true
   },
   "outputs": [],
   "source": [
    "# 12 x 24 x 36 x 18 x 9 -> softmax"
   ]
  },
  {
   "cell_type": "code",
   "execution_count": 139,
   "metadata": {
    "collapsed": false
   },
   "outputs": [
    {
     "name": "stdout",
     "output_type": "stream",
     "text": [
      "(1, 9)\n",
      "(9,) ()\n"
     ]
    },
    {
     "ename": "ValueError",
     "evalue": "No gradients provided for any variable, check your graph for ops that do not support gradients, between variables [\"<tf.Variable 'first_hidden/weights:0' shape=(9, 12) dtype=float32_ref>\", \"<tf.Variable 'first_hidden/bias:0' shape=(12,) dtype=float32_ref>\", \"<tf.Variable 'second_hidden/weights:0' shape=(12, 24) dtype=float32_ref>\", \"<tf.Variable 'second_hidden/bias:0' shape=(24,) dtype=float32_ref>\", \"<tf.Variable 'third_hidden/weights:0' shape=(24, 18) dtype=float32_ref>\", \"<tf.Variable 'third_hidden/bias:0' shape=(18,) dtype=float32_ref>\", \"<tf.Variable 'fourth_hidden/weights:0' shape=(18, 9) dtype=float32_ref>\", \"<tf.Variable 'fourth_hidden/bias:0' shape=(9,) dtype=float32_ref>\"] and loss Tensor(\"Const_1:0\", shape=(), dtype=float32).",
     "output_type": "error",
     "traceback": [
      "\u001b[0;31m---------------------------------------------------------------------------\u001b[0m",
      "\u001b[0;31mValueError\u001b[0m                                Traceback (most recent call last)",
      "\u001b[0;32m<ipython-input-139-103c5afc37da>\u001b[0m in \u001b[0;36m<module>\u001b[0;34m()\u001b[0m\n\u001b[1;32m     65\u001b[0m \u001b[0mloss\u001b[0m \u001b[0;34m=\u001b[0m \u001b[0mget_reward_for_action\u001b[0m\u001b[0;34m(\u001b[0m\u001b[0mX2\u001b[0m\u001b[0;34m,\u001b[0m \u001b[0ma6\u001b[0m\u001b[0;34m)\u001b[0m\u001b[0;34m\u001b[0m\u001b[0m\n\u001b[1;32m     66\u001b[0m \u001b[0;34m\u001b[0m\u001b[0m\n\u001b[0;32m---> 67\u001b[0;31m \u001b[0moptimizer\u001b[0m \u001b[0;34m=\u001b[0m \u001b[0mtf\u001b[0m\u001b[0;34m.\u001b[0m\u001b[0mtrain\u001b[0m\u001b[0;34m.\u001b[0m\u001b[0mAdamOptimizer\u001b[0m\u001b[0;34m(\u001b[0m\u001b[0mlearning_rate\u001b[0m\u001b[0;34m=\u001b[0m\u001b[0;36m0.01\u001b[0m\u001b[0;34m)\u001b[0m\u001b[0;34m.\u001b[0m\u001b[0mminimize\u001b[0m\u001b[0;34m(\u001b[0m\u001b[0mloss\u001b[0m\u001b[0;34m)\u001b[0m\u001b[0;34m\u001b[0m\u001b[0m\n\u001b[0m\u001b[1;32m     68\u001b[0m \u001b[0;34m\u001b[0m\u001b[0m\n\u001b[1;32m     69\u001b[0m \u001b[0;32mwith\u001b[0m \u001b[0mtf\u001b[0m\u001b[0;34m.\u001b[0m\u001b[0mname_scope\u001b[0m\u001b[0;34m(\u001b[0m\u001b[0;34m'summary'\u001b[0m\u001b[0;34m)\u001b[0m\u001b[0;34m:\u001b[0m\u001b[0;34m\u001b[0m\u001b[0m\n",
      "\u001b[0;32m/Users/apple/anaconda/lib/python3.5/site-packages/tensorflow/python/training/optimizer.py\u001b[0m in \u001b[0;36mminimize\u001b[0;34m(self, loss, global_step, var_list, gate_gradients, aggregation_method, colocate_gradients_with_ops, name, grad_loss)\u001b[0m\n\u001b[1;32m    320\u001b[0m           \u001b[0;34m\"No gradients provided for any variable, check your graph for ops\"\u001b[0m\u001b[0;34m\u001b[0m\u001b[0m\n\u001b[1;32m    321\u001b[0m           \u001b[0;34m\" that do not support gradients, between variables %s and loss %s.\"\u001b[0m \u001b[0;34m%\u001b[0m\u001b[0;34m\u001b[0m\u001b[0m\n\u001b[0;32m--> 322\u001b[0;31m           ([str(v) for _, v in grads_and_vars], loss))\n\u001b[0m\u001b[1;32m    323\u001b[0m \u001b[0;34m\u001b[0m\u001b[0m\n\u001b[1;32m    324\u001b[0m     return self.apply_gradients(grads_and_vars, global_step=global_step,\n",
      "\u001b[0;31mValueError\u001b[0m: No gradients provided for any variable, check your graph for ops that do not support gradients, between variables [\"<tf.Variable 'first_hidden/weights:0' shape=(9, 12) dtype=float32_ref>\", \"<tf.Variable 'first_hidden/bias:0' shape=(12,) dtype=float32_ref>\", \"<tf.Variable 'second_hidden/weights:0' shape=(12, 24) dtype=float32_ref>\", \"<tf.Variable 'second_hidden/bias:0' shape=(24,) dtype=float32_ref>\", \"<tf.Variable 'third_hidden/weights:0' shape=(24, 18) dtype=float32_ref>\", \"<tf.Variable 'third_hidden/bias:0' shape=(18,) dtype=float32_ref>\", \"<tf.Variable 'fourth_hidden/weights:0' shape=(18, 9) dtype=float32_ref>\", \"<tf.Variable 'fourth_hidden/bias:0' shape=(9,) dtype=float32_ref>\"] and loss Tensor(\"Const_1:0\", shape=(), dtype=float32)."
     ]
    }
   ],
   "source": [
    "tf.reset_default_graph()\n",
    "\n",
    "def check_three(state, arr, value):\n",
    "    if state[arr[0]] == state[arr[1]] and state[arr[1]] == state[arr[2]] and state[arr[2]] == value:\n",
    "        return True\n",
    "    return False\n",
    "def is_winner(state):\n",
    "    return check_three(state, [0, 4, 8], 1) or check_three(state, [2, 4, 6], 1) or check_three(state, [0, 1, 2], 1)\\\n",
    "                or check_three(state, [3, 4, 5], 1) or check_three(state, [6, 7, 8], 1) or check_three(state, [0, 3, 6], 1)\\\n",
    "                or check_three(state, [1, 4, 7], 1) or check_three(state, [2, 5, 8], 1)\n",
    "def is_loser(state):\n",
    "    return check_three(state, [0, 4, 8], -1) or check_three(state, [2, 4, 6], -1) or check_three(state, [0, 1, 2], -1)\\\n",
    "                or check_three(state, [3, 4, 5], -1) or check_three(state, [6, 7, 8], -1) or check_three(state, [0, 3, 6], -1)\\\n",
    "                or check_three(state, [1, 4, 7], -1) or check_three(state, [2, 5, 8], -1)\n",
    "def get_reward(state):\n",
    "    if is_winner(state):\n",
    "        return tf.constant(1, dtype=tf.float32)\n",
    "    elif is_loser(state):\n",
    "        return tf.constant(-1, dtype=tf.float32)\n",
    "    else:\n",
    "        return tf.constant(0.1, dtype=tf.float32)\n",
    "\n",
    "def get_reward_for_action(state, index):\n",
    "    s = state[0]\n",
    "    print(s.shape, index.shape)\n",
    "    if s[index] != 0:\n",
    "        return tf.constant(-3, dtype=tf.float32)\n",
    "    else:\n",
    "        return get_reward(s)\n",
    "    \n",
    "X = tf.placeholder(tf.float32, shape=[1, 9], name=\"X\")\n",
    "\n",
    "global_step = tf.Variable(0, dtype=tf.int32, trainable=False, name='global_step')\n",
    "\n",
    "#first layer\n",
    "with tf.variable_scope('first_hidden') as scope:\n",
    "    X2 = tf.reshape(X, shape=[-1, 9])\n",
    "    W1 = tf.get_variable(\"weights\", shape=[9, 12], initializer=tf.truncated_normal_initializer())\n",
    "    b1 = tf.get_variable('bias', shape=[12], initializer=tf.constant_initializer(0.0))\n",
    "    z1 = tf.matmul(X2, W1) + b1\n",
    "    a1 = tf.nn.relu(z1, name=\"a1\")\n",
    "    \n",
    "    \n",
    "#second layer\n",
    "with tf.variable_scope('second_hidden') as scope:\n",
    "    W2 = tf.get_variable(\"weights\", shape=[12, 24], initializer=tf.truncated_normal_initializer())\n",
    "    b2 = tf.get_variable('bias', shape=[24], initializer=tf.constant_initializer(0.0))\n",
    "    z2 = tf.matmul(a1, W2) + b2\n",
    "    a2 = tf.nn.relu(z2, name=\"a2\")\n",
    "    \n",
    "#third layer\n",
    "with tf.variable_scope('third_hidden') as scope:\n",
    "    W3 = tf.get_variable(\"weights\", shape=[24, 18], initializer=tf.truncated_normal_initializer())\n",
    "    b3 = tf.get_variable('bias', shape=[18], initializer=tf.constant_initializer(0.0))\n",
    "    z3 = tf.add(tf.matmul(a2, W3), b3)\n",
    "    a3 = tf.nn.relu(z3, name=\"a3\")\n",
    "    \n",
    "    \n",
    "#fourth layer\n",
    "with tf.variable_scope('fourth_hidden') as scope:\n",
    "    W5 = tf.get_variable(\"weights\", shape=[18, 9], initializer=tf.truncated_normal_initializer())\n",
    "    b5 = tf.get_variable('bias', shape=[9], initializer=tf.constant_initializer(0.0))\n",
    "    z5 = tf.add(tf.matmul(a3, W5), b5)\n",
    "    a5 = tf.nn.relu(z5, name=\"a5\")\n",
    "    \n",
    "print(a5.shape)\n",
    "a6 = tf.argmax(a5[0])\n",
    "\n",
    "loss = get_reward_for_action(X2, a6)\n",
    "\n",
    "optimizer = tf.train.AdamOptimizer(learning_rate=0.01).minimize(loss)\n",
    "\n",
    "with tf.name_scope('summary'):\n",
    "    tf.summary.scalar('loss', loss)\n",
    "    summary_op = tf.summary.merge_all()\n",
    "\n",
    "states = []\n",
    "actions = []\n",
    "with tf.Session() as sess:\n",
    "    tf.global_variables_initializer()\n",
    "    \n",
    "    saver = tf.train.Saver()\n",
    "    \n",
    "    writer = tf.summary.FileWriter('./my_graph/tic', sess.graph)\n",
    "    \n",
    "    initial_step = global_step.eval()\n",
    "    \n",
    "    total_loss = 0.0\n",
    "    for i in range(1000):\n",
    "        new_state = np.random.randint(-1, 1, size=[1, 9])\n",
    "        states.append(new_state)\n",
    "        _, l, ac, summary = sess.run([optimizer, loss, a6, summary_op], feed_dict={X: new_state})\n",
    "        actions.append(ac)\n",
    "        total_loss += l\n",
    "        writer.add_summary(summary, global_step=i)\n",
    "        if i % 10 == 0:\n",
    "            print('loss at step', str(i), '=', str(l), 'with state', str(new_state), 'and action', str(ac))\n",
    "            total_loss = 0.0\n",
    "            saver.save(sess, 'checkpoints/tic/tic', i)"
   ]
  },
  {
   "cell_type": "code",
   "execution_count": null,
   "metadata": {
    "collapsed": true
   },
   "outputs": [],
   "source": []
  },
  {
   "cell_type": "code",
   "execution_count": null,
   "metadata": {
    "collapsed": true
   },
   "outputs": [],
   "source": []
  },
  {
   "cell_type": "code",
   "execution_count": null,
   "metadata": {
    "collapsed": true
   },
   "outputs": [],
   "source": []
  }
 ],
 "metadata": {
  "anaconda-cloud": {},
  "kernelspec": {
   "display_name": "Python [conda root]",
   "language": "python",
   "name": "conda-root-py"
  },
  "language_info": {
   "codemirror_mode": {
    "name": "ipython",
    "version": 3
   },
   "file_extension": ".py",
   "mimetype": "text/x-python",
   "name": "python",
   "nbconvert_exporter": "python",
   "pygments_lexer": "ipython3",
   "version": "3.5.2"
  }
 },
 "nbformat": 4,
 "nbformat_minor": 2
}
