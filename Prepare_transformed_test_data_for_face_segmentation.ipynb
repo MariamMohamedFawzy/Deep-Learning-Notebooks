{
  "nbformat": 4,
  "nbformat_minor": 0,
  "metadata": {
    "colab": {
      "name": "Prepare transformed test data for face segmentation.ipynb",
      "version": "0.3.2",
      "provenance": [],
      "collapsed_sections": [],
      "toc_visible": true,
      "include_colab_link": true
    },
    "kernelspec": {
      "name": "python3",
      "display_name": "Python 3"
    },
    "accelerator": "GPU"
  },
  "cells": [
    {
      "cell_type": "markdown",
      "metadata": {
        "id": "view-in-github",
        "colab_type": "text"
      },
      "source": [
        "[View in Colaboratory](https://colab.research.google.com/github/MariamMohamedFawzy/Deep-Learning-Notebooks/blob/master/Prepare_transformed_test_data_for_face_segmentation.ipynb)"
      ]
    },
    {
      "metadata": {
        "id": "4PCKo7EK5gM8",
        "colab_type": "code",
        "colab": {}
      },
      "cell_type": "code",
      "source": [
        "import os\n",
        "import cv2\n",
        "import numpy as np\n",
        "import matplotlib.pyplot as plt"
      ],
      "execution_count": 0,
      "outputs": []
    },
    {
      "metadata": {
        "id": "qoU9g-Iam1pK",
        "colab_type": "code",
        "colab": {}
      },
      "cell_type": "code",
      "source": [
        "import keras"
      ],
      "execution_count": 0,
      "outputs": []
    },
    {
      "metadata": {
        "id": "BcKQjZYk3hIb",
        "colab_type": "text"
      },
      "cell_type": "markdown",
      "source": [
        "# Download and reading the data"
      ]
    },
    {
      "metadata": {
        "id": "OFqq4HQH2SpP",
        "colab_type": "code",
        "colab": {
          "base_uri": "https://localhost:8080/",
          "height": 119
        },
        "outputId": "a293a20b-144f-4418-904f-ec3aee511f31"
      },
      "cell_type": "code",
      "source": [
        "!git clone https://github.com/arahusky/Tensorflow-Segmentation.git"
      ],
      "execution_count": 2,
      "outputs": [
        {
          "output_type": "stream",
          "text": [
            "Cloning into 'Tensorflow-Segmentation'...\n",
            "remote: Counting objects: 26322, done.\u001b[K\n",
            "remote: Total 26322 (delta 0), reused 0 (delta 0), pack-reused 26322\u001b[K\n",
            "Receiving objects: 100% (26322/26322), 122.86 MiB | 33.63 MiB/s, done.\n",
            "Resolving deltas: 100% (454/454), done.\n",
            "Checking out files: 100% (26383/26383), done.\n"
          ],
          "name": "stdout"
        }
      ]
    },
    {
      "metadata": {
        "id": "-8XPnEj92WU-",
        "colab_type": "code",
        "colab": {
          "base_uri": "https://localhost:8080/",
          "height": 34
        },
        "outputId": "ae2f4fa4-9192-4a4a-84cb-56244107854c"
      },
      "cell_type": "code",
      "source": [
        "!ls -l Tensorflow-Segmentation/data128_128/targets_face_only/ | wc -l"
      ],
      "execution_count": 3,
      "outputs": [
        {
          "output_type": "stream",
          "text": [
            "2928\r\n"
          ],
          "name": "stdout"
        }
      ]
    },
    {
      "metadata": {
        "id": "_M7E_UHi2WXY",
        "colab_type": "code",
        "colab": {
          "base_uri": "https://localhost:8080/",
          "height": 34
        },
        "outputId": "0378c634-859e-418f-fd9e-21819cc88b83"
      },
      "cell_type": "code",
      "source": [
        "!ls -l Tensorflow-Segmentation/data128_128/inputs/ | wc -l"
      ],
      "execution_count": 4,
      "outputs": [
        {
          "output_type": "stream",
          "text": [
            "2928\r\n"
          ],
          "name": "stdout"
        }
      ]
    },
    {
      "metadata": {
        "id": "bCNy2c836qre",
        "colab_type": "code",
        "colab": {}
      },
      "cell_type": "code",
      "source": [
        "X_test = []\n",
        "Y_test = []"
      ],
      "execution_count": 0,
      "outputs": []
    },
    {
      "metadata": {
        "id": "8ZxO9Luh2WZ9",
        "colab_type": "code",
        "colab": {}
      },
      "cell_type": "code",
      "source": [
        "for file_name in os.listdir('Tensorflow-Segmentation/data128_128/inputs/'):\n",
        "  X_test.append(cv2.imread(\"Tensorflow-Segmentation/data128_128/inputs/\" + file_name, 0))\n",
        "  img_test = cv2.imread(\"Tensorflow-Segmentation/data128_128/targets_face_only/\" + file_name, 0)\n",
        "  Y_test.append(cv2.threshold(img_test,127,1,cv2.THRESH_BINARY)[1])"
      ],
      "execution_count": 0,
      "outputs": []
    },
    {
      "metadata": {
        "id": "LW0D3k0t2Wci",
        "colab_type": "code",
        "colab": {}
      },
      "cell_type": "code",
      "source": [
        "X_test = np.array(X_test)\n",
        "Y_test = np.array(Y_test)"
      ],
      "execution_count": 0,
      "outputs": []
    },
    {
      "metadata": {
        "id": "pRQII_3t98BM",
        "colab_type": "code",
        "colab": {
          "base_uri": "https://localhost:8080/",
          "height": 34
        },
        "outputId": "5ccebf1e-fdf3-47e8-e6a2-43068537d8ae"
      },
      "cell_type": "code",
      "source": [
        "X_test.shape, Y_test.shape"
      ],
      "execution_count": 8,
      "outputs": [
        {
          "output_type": "execute_result",
          "data": {
            "text/plain": [
              "((2927, 128, 128), (2927, 128, 128))"
            ]
          },
          "metadata": {
            "tags": []
          },
          "execution_count": 8
        }
      ]
    },
    {
      "metadata": {
        "id": "TVMf6AvF_g8p",
        "colab_type": "code",
        "colab": {
          "base_uri": "https://localhost:8080/",
          "height": 357
        },
        "outputId": "0ae2b30b-21c2-40ca-9674-c705ea831b3e"
      },
      "cell_type": "code",
      "source": [
        "np.unique(X_test)"
      ],
      "execution_count": 64,
      "outputs": [
        {
          "output_type": "execute_result",
          "data": {
            "text/plain": [
              "array([  0,   1,   2,   3,   4,   5,   6,   7,   8,   9,  10,  11,  12,\n",
              "        13,  14,  15,  16,  17,  18,  19,  20,  21,  22,  23,  24,  25,\n",
              "        26,  27,  28,  29,  30,  31,  32,  33,  34,  35,  36,  37,  38,\n",
              "        39,  40,  41,  42,  43,  44,  45,  46,  47,  48,  49,  50,  51,\n",
              "        52,  53,  54,  55,  56,  57,  58,  59,  60,  61,  62,  63,  64,\n",
              "        65,  66,  67,  68,  69,  70,  71,  72,  73,  74,  75,  76,  77,\n",
              "        78,  79,  80,  81,  82,  83,  84,  85,  86,  87,  88,  89,  90,\n",
              "        91,  92,  93,  94,  95,  96,  97,  98,  99, 100, 101, 102, 103,\n",
              "       104, 105, 106, 107, 108, 109, 110, 111, 112, 113, 114, 115, 116,\n",
              "       117, 118, 119, 120, 121, 122, 123, 124, 125, 126, 127, 128, 129,\n",
              "       130, 131, 132, 133, 134, 135, 136, 137, 138, 139, 140, 141, 142,\n",
              "       143, 144, 145, 146, 147, 148, 149, 150, 151, 152, 153, 154, 155,\n",
              "       156, 157, 158, 159, 160, 161, 162, 163, 164, 165, 166, 167, 168,\n",
              "       169, 170, 171, 172, 173, 174, 175, 176, 177, 178, 179, 180, 181,\n",
              "       182, 183, 184, 185, 186, 187, 188, 189, 190, 191, 192, 193, 194,\n",
              "       195, 196, 197, 198, 199, 200, 201, 202, 203, 204, 205, 206, 207,\n",
              "       208, 209, 210, 211, 212, 213, 214, 215, 216, 217, 218, 219, 220,\n",
              "       221, 222, 223, 224, 225, 226, 227, 228, 229, 230, 231, 232, 233,\n",
              "       234, 235, 236, 237, 238, 239, 240, 241, 242, 243, 244, 245, 246,\n",
              "       247, 248, 249, 250, 251, 252, 253, 254, 255], dtype=uint8)"
            ]
          },
          "metadata": {
            "tags": []
          },
          "execution_count": 64
        }
      ]
    },
    {
      "metadata": {
        "id": "0rXzjnnv_jqA",
        "colab_type": "code",
        "colab": {
          "base_uri": "https://localhost:8080/",
          "height": 34
        },
        "outputId": "86f7418a-b19c-4d62-890a-ddb2d8d5a2db"
      },
      "cell_type": "code",
      "source": [
        "np.unique(Y_test)"
      ],
      "execution_count": 65,
      "outputs": [
        {
          "output_type": "execute_result",
          "data": {
            "text/plain": [
              "array([0, 1], dtype=uint8)"
            ]
          },
          "metadata": {
            "tags": []
          },
          "execution_count": 65
        }
      ]
    },
    {
      "metadata": {
        "id": "Jm65dwhUoNGo",
        "colab_type": "code",
        "colab": {}
      },
      "cell_type": "code",
      "source": [
        "size_x, size_y = 128, 128"
      ],
      "execution_count": 0,
      "outputs": []
    },
    {
      "metadata": {
        "id": "_IGgkeIZmUqv",
        "colab_type": "text"
      },
      "cell_type": "markdown",
      "source": [
        "# Data Transformation"
      ]
    },
    {
      "metadata": {
        "id": "700I_TJ7nrjX",
        "colab_type": "text"
      },
      "cell_type": "markdown",
      "source": [
        "**Scaling**"
      ]
    },
    {
      "metadata": {
        "id": "9KEn_M4cjGkC",
        "colab_type": "code",
        "colab": {}
      },
      "cell_type": "code",
      "source": [
        "def zoom_in(img, pix_x = 10, pix_y = 10):\n",
        "  new_img = img[pix_x:size_x-pix_x, pix_y:size_y-pix_y]\n",
        "  new_img = cv2.resize(new_img, (size_x, size_y))\n",
        "  return new_img"
      ],
      "execution_count": 0,
      "outputs": []
    },
    {
      "metadata": {
        "id": "Ob9EFDvUnkW9",
        "colab_type": "code",
        "colab": {}
      },
      "cell_type": "code",
      "source": [
        "def flip_lr(img):\n",
        "  new_img = cv2.flip(img, 1)\n",
        "  return new_img"
      ],
      "execution_count": 0,
      "outputs": []
    },
    {
      "metadata": {
        "id": "FbRgWPyO2WfK",
        "colab_type": "code",
        "colab": {}
      },
      "cell_type": "code",
      "source": [
        "def shear(img, shear_x=.1, shear_y=.1):\n",
        "  pts1 = np.float32([[5,5],[20,5],[5,20]])\n",
        "\n",
        "  pt1 = 5 + 5 * shear_x\n",
        "  pt2 = 5 * shear_y + 5\n",
        "  \n",
        "  pt3 = 20 + 5 * shear_x\n",
        "  pt4 = 20 * shear_y + 5\n",
        "  \n",
        "  pt5 = 5 + 20 * shear_x\n",
        "  pt6 = 5 * shear_y + 20\n",
        "\n",
        "  pts2 = np.float32([[pt1,pt2],[pt3,pt4],[pt5,pt6]])\n",
        "\n",
        "  shear_M = cv2.getAffineTransform(pts1,pts2)\n",
        "  \n",
        "  new_img = cv2.warpAffine(img,shear_M,(size_x,size_y))\n",
        "  \n",
        "  return new_img"
      ],
      "execution_count": 0,
      "outputs": []
    },
    {
      "metadata": {
        "id": "Oe1IIufP4M1Z",
        "colab_type": "code",
        "colab": {}
      },
      "cell_type": "code",
      "source": [
        "# https://www.pyimagesearch.com/2015/10/05/opencv-gamma-correction/\n",
        "def adjust_gamma(image, gamma=1.0):\n",
        "\t# build a lookup table mapping the pixel values [0, 255] to\n",
        "\t# their adjusted gamma values\n",
        "\tinvGamma = 1.0 / gamma\n",
        "\ttable = np.array([((i / 255.0) ** invGamma) * 255\n",
        "\t\tfor i in np.arange(0, 256)]).astype(\"uint8\")\n",
        " \n",
        "\t# apply gamma correction using the lookup table\n",
        "\treturn cv2.LUT(image, table)\n",
        "\n",
        "def change_contrast(img, gamma=0.5):\n",
        "  new_img = adjust_gamma(img, gamma=gamma)\n",
        "  return new_img"
      ],
      "execution_count": 0,
      "outputs": []
    },
    {
      "metadata": {
        "id": "Qgbh-Wpg78aG",
        "colab_type": "code",
        "colab": {}
      },
      "cell_type": "code",
      "source": [
        "# https://stackoverflow.com/questions/31528800/how-to-implement-zca-whitening-python\n",
        "def zca_whitening(img):\n",
        "    new_img = np.reshape(img, (1,-1))\n",
        "    sigma = np.dot(new_img, new_img.T)/new_img.shape[1] #Correlation matrix\n",
        "    U,S,V = np.linalg.svd(sigma) #Singular Value Decomposition\n",
        "    epsilon = 0.1                #Whitening constant, it prevents division by zero\n",
        "    ZCAMatrix = np.dot(np.dot(U, np.diag(1.0/np.sqrt(np.diag(S) + epsilon))), U.T)        #ZCA Whitening matrix\n",
        "    new_img =  np.dot(ZCAMatrix, new_img)   #Data whitening\n",
        "    new_img = new_img.reshape(size_x, size_y)\n",
        "    return new_img"
      ],
      "execution_count": 0,
      "outputs": []
    },
    {
      "metadata": {
        "id": "oaa-tMjFAWaT",
        "colab_type": "code",
        "colab": {}
      },
      "cell_type": "code",
      "source": [
        "def salt_pep_noise(img, prop = 0.98):\n",
        "  mask = np.random.randint(0, 256, (img.shape[0], img.shape[1])).reshape((size_x*size_y))\n",
        "  ones_mask = np.array(list(map(lambda x: 255 if x > prop * 255 else 0, mask))).reshape((size_x, size_y))\n",
        "  zeros_mask = np.array(list(map(lambda x: 0 if x < (1-prop)*255 else 1, mask))).reshape((size_x, size_y))\n",
        "  new_img = np.clip(img + ones_mask, 0, 255) * zeros_mask\n",
        "  return new_img"
      ],
      "execution_count": 0,
      "outputs": []
    },
    {
      "metadata": {
        "id": "mZmI6nsQb_b1",
        "colab_type": "code",
        "colab": {}
      },
      "cell_type": "code",
      "source": [
        "def gaus_blur(img):\n",
        "  kernel = np.ones((5,5),np.float32)/25\n",
        "  return cv2.filter2D(img,-1,kernel)"
      ],
      "execution_count": 0,
      "outputs": []
    },
    {
      "metadata": {
        "id": "0OPQ4E77iz7C",
        "colab_type": "code",
        "colab": {}
      },
      "cell_type": "code",
      "source": [
        "def shift_down(img, pix=20):\n",
        "  new_img = img.copy()\n",
        "  new_img[pix:size_x, :] = new_img[:size_x-pix, :]\n",
        "  new_img[:pix, :] = 0\n",
        "  return new_img"
      ],
      "execution_count": 0,
      "outputs": []
    },
    {
      "metadata": {
        "id": "OckkFds6jgko",
        "colab_type": "code",
        "colab": {}
      },
      "cell_type": "code",
      "source": [
        "def shift_up(img, pix=20):\n",
        "  new_img = img.copy()\n",
        "  new_img[:size_x-pix, :] = new_img[pix:size_x, :]\n",
        "  new_img[size_x-pix:, :] = 0\n",
        "  return new_img"
      ],
      "execution_count": 0,
      "outputs": []
    },
    {
      "metadata": {
        "id": "2w7BMyUPjuHy",
        "colab_type": "code",
        "colab": {}
      },
      "cell_type": "code",
      "source": [
        "def shift_right(img, pix=20):\n",
        "  new_img = img.copy()\n",
        "  new_img[:, pix:size_y] = new_img[:, :size_y-pix]\n",
        "  new_img[:, :pix] = 0\n",
        "  return new_img"
      ],
      "execution_count": 0,
      "outputs": []
    },
    {
      "metadata": {
        "id": "K8IMd6fkl84k",
        "colab_type": "code",
        "colab": {}
      },
      "cell_type": "code",
      "source": [
        "def shift_left(img, pix=20):\n",
        "  new_img = img.copy()\n",
        "  new_img[:, :size_y-pix] = new_img[:, pix:size_y]\n",
        "  new_img[:, size_y-pix:] = 0\n",
        "  return new_img"
      ],
      "execution_count": 0,
      "outputs": []
    },
    {
      "metadata": {
        "id": "Gstm3fJuNvDy",
        "colab_type": "code",
        "colab": {}
      },
      "cell_type": "code",
      "source": [
        "def rotate(img, angle=20):\n",
        "  M = cv2.getRotationMatrix2D((size_x/2,size_y/2),angle,1)\n",
        "  return cv2.warpAffine(img,M,(size_x,size_y))"
      ],
      "execution_count": 0,
      "outputs": []
    },
    {
      "metadata": {
        "id": "KOMSx8cFqltT",
        "colab_type": "code",
        "colab": {
          "base_uri": "https://localhost:8080/",
          "height": 367
        },
        "outputId": "e7cd3b14-6891-47da-d186-93e28f911a81"
      },
      "cell_type": "code",
      "source": [
        "plt.imshow(rotate(X_test[1], angle=-20))"
      ],
      "execution_count": 243,
      "outputs": [
        {
          "output_type": "execute_result",
          "data": {
            "text/plain": [
              "<matplotlib.image.AxesImage at 0x7f43ac977a58>"
            ]
          },
          "metadata": {
            "tags": []
          },
          "execution_count": 243
        },
        {
          "output_type": "display_data",
          "data": {
            "image/png": "[encoded data removed]",
            "text/plain": [
              "<matplotlib.figure.Figure at 0x7f43acc36e80>"
            ]
          },
          "metadata": {
            "tags": []
          }
        }
      ]
    },
    {
      "metadata": {
        "id": "lRNZggRAqlq1",
        "colab_type": "code",
        "colab": {
          "base_uri": "https://localhost:8080/",
          "height": 367
        },
        "outputId": "eb6cb03f-2ffb-4b3c-b5e8-a32f2e4c9d2c"
      },
      "cell_type": "code",
      "source": [
        "plt.imshow(X_test[1])"
      ],
      "execution_count": 217,
      "outputs": [
        {
          "output_type": "execute_result",
          "data": {
            "text/plain": [
              "<matplotlib.image.AxesImage at 0x7f43acf999b0>"
            ]
          },
          "metadata": {
            "tags": []
          },
          "execution_count": 217
        },
        {
          "output_type": "display_data",
          "data": {
            "image/png": "[encoded data removed]",
            "text/plain": [
              "<matplotlib.figure.Figure at 0x7f43acfd0cc0>"
            ]
          },
          "metadata": {
            "tags": []
          }
        }
      ]
    },
    {
      "metadata": {
        "id": "-i3mQOMrhb-S",
        "colab_type": "code",
        "colab": {
          "base_uri": "https://localhost:8080/",
          "height": 367
        },
        "outputId": "8dd46b38-28cd-4976-b8a3-15d137262e89"
      },
      "cell_type": "code",
      "source": [
        "plt.imshow(Y_test[1])"
      ],
      "execution_count": 230,
      "outputs": [
        {
          "output_type": "execute_result",
          "data": {
            "text/plain": [
              "<matplotlib.image.AxesImage at 0x7f43acc12240>"
            ]
          },
          "metadata": {
            "tags": []
          },
          "execution_count": 230
        },
        {
          "output_type": "display_data",
          "data": {
            "image/png": "[encoded data removed]",
            "text/plain": [
              "<matplotlib.figure.Figure at 0x7f43acd71da0>"
            ]
          },
          "metadata": {
            "tags": []
          }
        }
      ]
    },
    {
      "metadata": {
        "id": "GZDvs_LlPXFd",
        "colab_type": "text"
      },
      "cell_type": "markdown",
      "source": [
        "# Apply on data"
      ]
    },
    {
      "metadata": {
        "id": "7aSjCCr-hcAf",
        "colab_type": "code",
        "colab": {}
      },
      "cell_type": "code",
      "source": [
        "def get_sample(all_count=2927, num=50):\n",
        "  ind = np.random.choice(all_count, num)\n",
        "  return ind"
      ],
      "execution_count": 0,
      "outputs": []
    },
    {
      "metadata": {
        "id": "yRXOmS57PUfP",
        "colab_type": "code",
        "colab": {}
      },
      "cell_type": "code",
      "source": [
        "X = []\n",
        "Y = []"
      ],
      "execution_count": 0,
      "outputs": []
    },
    {
      "metadata": {
        "id": "b0v9E7HnRO-O",
        "colab_type": "code",
        "colab": {}
      },
      "cell_type": "code",
      "source": [
        "sample = get_sample()\n",
        "\n",
        "X_temp = X_test[sample]\n",
        "Y_temp = Y_test[sample]\n",
        "\n",
        "X_temp = list(map(zoom_in, X_temp))\n",
        "Y_temp = list(map(zoom_in, Y_temp))\n",
        "\n",
        "X_temp = list(map(flip_lr, X_temp))\n",
        "Y_temp = list(map(flip_lr, Y_temp))\n",
        "\n",
        "X_temp = list(map(change_contrast, X_temp))\n",
        "\n",
        "X.extend(X_temp)\n",
        "Y.extend(Y_temp)"
      ],
      "execution_count": 0,
      "outputs": []
    },
    {
      "metadata": {
        "id": "HFS4IZKxRPEF",
        "colab_type": "code",
        "colab": {}
      },
      "cell_type": "code",
      "source": [
        "sample = get_sample()\n",
        "\n",
        "X_temp = X_test[sample]\n",
        "Y_temp = Y_test[sample]\n",
        "\n",
        "X_temp = list(map(gaus_blur, X_temp))\n",
        "\n",
        "X_temp = list(map(rotate, X_temp))\n",
        "Y_temp = list(map(rotate, Y_temp))\n",
        "\n",
        "X.extend(X_temp)\n",
        "Y.extend(Y_temp)"
      ],
      "execution_count": 0,
      "outputs": []
    },
    {
      "metadata": {
        "id": "oJPdMjNuPUh4",
        "colab_type": "code",
        "colab": {}
      },
      "cell_type": "code",
      "source": [
        "sample = get_sample()\n",
        "\n",
        "X_temp = X_test[sample]\n",
        "Y_temp = Y_test[sample]\n",
        "\n",
        "X_temp = list(map(change_contrast, X_temp))\n",
        "\n",
        "X_temp = list(map(shift_right, X_temp))\n",
        "Y_temp = list(map(shift_right, Y_temp))\n",
        "\n",
        "X_temp = list(map(flip_lr, X_temp))\n",
        "Y_temp = list(map(flip_lr, Y_temp))\n",
        "\n",
        "X.extend(X_temp)\n",
        "Y.extend(Y_temp)"
      ],
      "execution_count": 0,
      "outputs": []
    },
    {
      "metadata": {
        "id": "jJ6gp1BnaXAV",
        "colab_type": "code",
        "colab": {}
      },
      "cell_type": "code",
      "source": [
        "sample = get_sample()\n",
        "\n",
        "X_temp = X_test[sample]\n",
        "Y_temp = Y_test[sample]\n",
        "\n",
        "X_temp = list(map(shear, X_temp))\n",
        "Y_temp = list(map(shear, Y_temp))\n",
        "\n",
        "X_temp = list(map(shift_up, X_temp))\n",
        "Y_temp = list(map(shift_up, Y_temp))\n",
        "\n",
        "X_temp = list(map(salt_pep_noise, X_temp))\n",
        "\n",
        "X.extend(X_temp)\n",
        "Y.extend(Y_temp)"
      ],
      "execution_count": 0,
      "outputs": []
    },
    {
      "metadata": {
        "id": "gxt8PVpTaXDB",
        "colab_type": "code",
        "colab": {}
      },
      "cell_type": "code",
      "source": [
        "X = np.array(X)\n",
        "Y = np.array(Y)"
      ],
      "execution_count": 0,
      "outputs": []
    },
    {
      "metadata": {
        "id": "Mo1DSBiTaXFz",
        "colab_type": "code",
        "colab": {
          "base_uri": "https://localhost:8080/",
          "height": 34
        },
        "outputId": "ffe0bd33-2bbc-4838-be13-54cb045f4eba"
      },
      "cell_type": "code",
      "source": [
        "X.shape, Y.shape"
      ],
      "execution_count": 256,
      "outputs": [
        {
          "output_type": "execute_result",
          "data": {
            "text/plain": [
              "((200, 128, 128), (200, 128, 128))"
            ]
          },
          "metadata": {
            "tags": []
          },
          "execution_count": 256
        }
      ]
    },
    {
      "metadata": {
        "id": "nQyKErL1hcDI",
        "colab_type": "code",
        "colab": {}
      },
      "cell_type": "code",
      "source": [
        ""
      ],
      "execution_count": 0,
      "outputs": []
    }
  ]
}