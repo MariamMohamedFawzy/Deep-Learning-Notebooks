{
 "cells": [
  {
   "cell_type": "code",
   "execution_count": 1,
   "metadata": {
    "collapsed": true
   },
   "outputs": [],
   "source": [
    "import torch\n",
    "import numpy as np\n",
    "from torch.autograd import Variable\n",
    "import matplotlib.pyplot as plt\n",
    "import torchvision\n",
    "import torch.nn as nn"
   ]
  },
  {
   "cell_type": "code",
   "execution_count": 55,
   "metadata": {
    "collapsed": true
   },
   "outputs": [],
   "source": [
    "def squash(s, dim=-1, epsilon=1e-3):\n",
    "    norm_s = torch.sqrt(torch.sum(t**2, dim, keepdim=True) + epsilon)\n",
    "    v = (norm_s / (1 + norm_s)) + (s / norm_s)\n",
    "    return v"
   ]
  },
  {
   "cell_type": "code",
   "execution_count": null,
   "metadata": {
    "collapsed": true
   },
   "outputs": [],
   "source": [
    "class CapsuleLayer(nn.Module):\n",
    "    def __init__(self, in_channels, capsule_dimension, num_capsules, kernel_size, routing=False, num_iterations=0, stride=1):\n",
    "        \n",
    "        super(CapsuleLayer, self).__init__()\n",
    "        \n",
    "        self.in_channels = in_channels\n",
    "        self.capsule_width = capsule_width\n",
    "        self.capsule_dimension = capsule_dimension\n",
    "        self.num_capsules = num_capsules\n",
    "        self.kernel_size = kernel_size\n",
    "        self.routing = routing\n",
    "        self.num_iterations = num_iterations\n",
    "        self.stride = stride\n",
    "        \n",
    "        if not self.routing:\n",
    "            \n",
    "            self.width = 6 # (W - F + 2 * P) / S + 1\n",
    "            \n",
    "            self.conv = nn.Conv2d(self.in_channels, self.capsule_dimension * self.num_capsules,\\\n",
    "                                  self.kernel_size, self.stride)\n",
    "            \n",
    "            self.conv2 = self.conv.view(-1, self.width * self.width * self.num_capsules, self.capsule_dimension)\n",
    "            \n",
    "            self.squash_conv = squash(self.conv2)\n",
    "        \n",
    "        else:\n",
    "            \n",
    "            \n",
    "\n",
    "        \n",
    "    def forward(self, x):\n",
    "        pass\n",
    "                \n",
    "                \n",
    "                \n",
    "            \n",
    "        "
   ]
  },
  {
   "cell_type": "code",
   "execution_count": null,
   "metadata": {
    "collapsed": true
   },
   "outputs": [],
   "source": [
    "class DigitalCapsule(nn.Module):\n",
    "    def __init__(self, input_size, vector_size, output_size):\n",
    "        \n",
    "        super(DigitalCapsule, self).__init__()\n",
    "        \n",
    "        self.input_size = input_size\n",
    "        self.vector_size = vector_size\n",
    "        self.output_size = output_size\n",
    "        \n",
    "        self.vec = None\n",
    "        \n",
    "    def forward(self, x):\n",
    "        "
   ]
  },
  {
   "cell_type": "code",
   "execution_count": null,
   "metadata": {
    "collapsed": true
   },
   "outputs": [],
   "source": [
    "class Net(nn.Module):\n",
    "    def __init__(self):\n",
    "        \n",
    "        super(Net, self).__init__()\n",
    "        \n",
    "        self.conv1 = nn.Conv2d(1, 256, 9)\n",
    "        \n",
    "        self.primary_capsule = CapsuleLayer()\n",
    "        \n",
    "        self.digital_capsule = Digi\n",
    "        \n",
    "    def forward(self, x):\n",
    "        "
   ]
  },
  {
   "cell_type": "code",
   "execution_count": null,
   "metadata": {
    "collapsed": true
   },
   "outputs": [],
   "source": []
  },
  {
   "cell_type": "code",
   "execution_count": null,
   "metadata": {
    "collapsed": true
   },
   "outputs": [],
   "source": []
  },
  {
   "cell_type": "code",
   "execution_count": null,
   "metadata": {
    "collapsed": true
   },
   "outputs": [],
   "source": []
  },
  {
   "cell_type": "code",
   "execution_count": null,
   "metadata": {
    "collapsed": true
   },
   "outputs": [],
   "source": []
  },
  {
   "cell_type": "code",
   "execution_count": null,
   "metadata": {
    "collapsed": true
   },
   "outputs": [],
   "source": []
  },
  {
   "cell_type": "code",
   "execution_count": 45,
   "metadata": {
    "collapsed": false
   },
   "outputs": [
    {
     "name": "stdout",
     "output_type": "stream",
     "text": [
      "torch.Size([3, 3])\n"
     ]
    }
   ],
   "source": [
    "t = torch.Tensor([[1, 2, 3], [4, 5, 6], [1, 2, 7]])\n",
    "print(t.size())\n",
    "# torch.Size([2, 3, 2])\n",
    "# print(t.view(-1, 6).size())\n",
    "# torch.Size([2, 12])"
   ]
  },
  {
   "cell_type": "code",
   "execution_count": 46,
   "metadata": {
    "collapsed": false
   },
   "outputs": [
    {
     "data": {
      "text/plain": [
       "\n",
       " 1  2  3\n",
       " 4  5  6\n",
       " 1  2  7\n",
       "[torch.FloatTensor of size 3x3]"
      ]
     },
     "execution_count": 46,
     "metadata": {},
     "output_type": "execute_result"
    }
   ],
   "source": [
    "t"
   ]
  },
  {
   "cell_type": "code",
   "execution_count": 54,
   "metadata": {
    "collapsed": false
   },
   "outputs": [
    {
     "data": {
      "text/plain": [
       "\n",
       " 3.7550\n",
       " 8.7807\n",
       " 7.3553\n",
       "[torch.FloatTensor of size 3x1]"
      ]
     },
     "execution_count": 54,
     "metadata": {},
     "output_type": "execute_result"
    }
   ],
   "source": [
    "torch.sqrt(torch.sum(t**2, dim=-1, keepdim=True) + 0.1)"
   ]
  },
  {
   "cell_type": "code",
   "execution_count": null,
   "metadata": {
    "collapsed": true
   },
   "outputs": [],
   "source": []
  },
  {
   "cell_type": "code",
   "execution_count": null,
   "metadata": {
    "collapsed": true
   },
   "outputs": [],
   "source": []
  },
  {
   "cell_type": "code",
   "execution_count": null,
   "metadata": {
    "collapsed": true
   },
   "outputs": [],
   "source": []
  },
  {
   "cell_type": "code",
   "execution_count": null,
   "metadata": {
    "collapsed": true
   },
   "outputs": [],
   "source": []
  },
  {
   "cell_type": "code",
   "execution_count": null,
   "metadata": {
    "collapsed": true
   },
   "outputs": [],
   "source": []
  }
 ],
 "metadata": {
  "anaconda-cloud": {},
  "kernelspec": {
   "display_name": "Python [conda root]",
   "language": "python",
   "name": "conda-root-py"
  },
  "language_info": {
   "codemirror_mode": {
    "name": "ipython",
    "version": 3
   },
   "file_extension": ".py",
   "mimetype": "text/x-python",
   "name": "python",
   "nbconvert_exporter": "python",
   "pygments_lexer": "ipython3",
   "version": "3.5.2"
  }
 },
 "nbformat": 4,
 "nbformat_minor": 2
}
