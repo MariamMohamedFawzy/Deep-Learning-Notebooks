{
 "cells": [
  {
   "cell_type": "code",
   "execution_count": 36,
   "metadata": {
    "collapsed": true
   },
   "outputs": [],
   "source": [
    "#https://github.com/ageron/handson-ml/blob/master/extra_capsnets.ipynb"
   ]
  },
  {
   "cell_type": "code",
   "execution_count": 1,
   "metadata": {
    "collapsed": true
   },
   "outputs": [],
   "source": [
    "import torch\n",
    "import numpy as np\n",
    "from torch.autograd import Variable\n",
    "import matplotlib.pyplot as plt\n",
    "import torchvision\n",
    "import torch.nn as nn"
   ]
  },
  {
   "cell_type": "code",
   "execution_count": 2,
   "metadata": {
    "collapsed": false
   },
   "outputs": [],
   "source": [
    "torch.set_default_tensor_type('torch.FloatTensor')"
   ]
  },
  {
   "cell_type": "code",
   "execution_count": 3,
   "metadata": {
    "collapsed": true
   },
   "outputs": [],
   "source": [
    "def squash(s, dim=-1, epsilon=1e-3):\n",
    "#     print(s.size())\n",
    "    norm_s = torch.sqrt(torch.norm(s) + epsilon)\n",
    "#     print(norm_s)\n",
    "    v = (norm_s / (1 + norm_s)) * (s / norm_s)\n",
    "    return v"
   ]
  },
  {
   "cell_type": "code",
   "execution_count": 4,
   "metadata": {
    "collapsed": true
   },
   "outputs": [],
   "source": [
    "# https://discuss.pytorch.org/t/why-softmax-function-cant-specify-the-dimension-to-operate/2637\n",
    "def softmax(input, axis=1):\n",
    "    input_size = input.size()\n",
    "    \n",
    "    trans_input = input.transpose(axis, len(input_size)-1)\n",
    "    trans_size = trans_input.size()\n",
    "\n",
    "    input_2d = trans_input.contiguous().view(-1, trans_size[-1])\n",
    "    \n",
    "    soft_max_2d = nn.functional.softmax(input_2d)\n",
    "    \n",
    "    soft_max_nd = soft_max_2d.view(*trans_size)\n",
    "    return soft_max_nd.transpose(axis, len(input_size)-1)"
   ]
  },
  {
   "cell_type": "code",
   "execution_count": 27,
   "metadata": {
    "collapsed": false
   },
   "outputs": [],
   "source": [
    "#https://github.com/cedrickchee/capsule-net-pytorch/blob/master/model.py\n",
    "def loss(out_digit_caps, target, size_average=True):\n",
    "        \"\"\"Custom loss function\n",
    "        Args:\n",
    "            image: [batch_size, 1, 28, 28] MNIST samples.\n",
    "            out_digit_caps: [batch_size, 10, 16, 1] The output from `DigitCaps` layer.\n",
    "            target: [batch_size, 10] One-hot MNIST dataset labels.\n",
    "            size_average: A boolean to enable mean loss (average loss over batch size).\n",
    "        Returns:\n",
    "            total_loss: A scalar Variable of total loss.\n",
    "            m_loss: A scalar of margin loss.\n",
    "            recon_loss: A scalar of reconstruction loss.\n",
    "        \"\"\"\n",
    "        m_loss = margin_loss(out_digit_caps, target)\n",
    "        if size_average:\n",
    "            m_loss = m_loss.mean()\n",
    "\n",
    "        total_loss = m_loss\n",
    "\n",
    "        return total_loss\n",
    "\n",
    "def margin_loss(input, target):\n",
    "        \"\"\"\n",
    "        Class loss\n",
    "        Implement equation 4 in section 3 'Margin loss for digit existence' in the paper.\n",
    "        Args:\n",
    "            input: [batch_size, 10, 16, 1] The output from `DigitCaps` layer.\n",
    "            target: target: [batch_size, 10] One-hot MNIST labels.\n",
    "        Returns:\n",
    "            l_c: A scalar of class loss or also know as margin loss.\n",
    "        \"\"\"\n",
    "        batch_size = input.size(0)\n",
    "\n",
    "        # ||vc|| also known as norm.\n",
    "        v_c = torch.sqrt((input**2).sum(dim=2, keepdim=True))\n",
    "\n",
    "        # Calculate left and right max() terms.\n",
    "        zero = Variable(torch.zeros(1))\n",
    "\n",
    "        m_plus = 0.9\n",
    "        m_minus = 0.1\n",
    "        loss_lambda = 0.5\n",
    "        max_left = torch.max(m_plus - v_c, zero).view(batch_size, -1)**2\n",
    "        max_right = torch.max(v_c - m_minus, zero).view(batch_size, -1)**2\n",
    "        t_c = target\n",
    "        # Lc is margin loss for each digit of class c\n",
    "        l_c = t_c * max_left + loss_lambda * (1.0 - t_c) * max_right\n",
    "        l_c = l_c.sum(dim=1)\n",
    "\n",
    "        return l_c"
   ]
  },
  {
   "cell_type": "code",
   "execution_count": 6,
   "metadata": {
    "collapsed": false,
    "scrolled": true
   },
   "outputs": [],
   "source": [
    "class CapsuleLayer(nn.Module):\n",
    "    def __init__(self, in_channels, capsule_dimension, num_capsules, kernel_size=None, routing=False, num_iterations=0, stride=1):\n",
    "        \n",
    "        super(CapsuleLayer, self).__init__()\n",
    "        \n",
    "        self.in_channels = in_channels\n",
    "        self.capsule_dimension = capsule_dimension\n",
    "        self.num_capsules = num_capsules\n",
    "        self.kernel_size = kernel_size\n",
    "        self.routing = routing\n",
    "        self.num_iterations = num_iterations\n",
    "        self.stride = stride\n",
    "        \n",
    "        if not self.routing:\n",
    "            \n",
    "            self.conv = nn.Conv2d(self.in_channels, self.capsule_dimension * self.num_capsules,\\\n",
    "                                  self.kernel_size, self.stride)      \n",
    "            \n",
    "        \n",
    "        else:\n",
    "            \n",
    "            # todo: to be calculated later\n",
    "            self.width = 1152\n",
    "            \n",
    "            self.weights = torch.autograd.Variable(torch.from_numpy(0.01 * np.random.randn(1, self.width,\\\n",
    "                                                                                           self.num_capsules, self.capsule_dimension,\\\n",
    "                                                                                           self.in_channels)), requires_grad=True)\n",
    "            \n",
    "            \n",
    "\n",
    "        \n",
    "    def forward(self, x):\n",
    "        \n",
    "        if not self.routing:\n",
    "            \n",
    "            self.conv_out = self.conv(x)\n",
    "            \n",
    "            # todo: to be calculated later\n",
    "            width = 6 # (W - F + 2 * P) / S + 1\n",
    "            \n",
    "            conv2 = self.conv_out.view(-1, width * width * self.num_capsules, self.capsule_dimension)\n",
    "            \n",
    "            squash_conv = squash(conv2)\n",
    "            \n",
    "#             print(\"squash conv\", type(squash_conv))\n",
    "            \n",
    "            return squash_conv\n",
    "                \n",
    "                \n",
    "        else:\n",
    "            # x -> [batch size , 1152, 8]\n",
    "             \n",
    "            batch_size = x.size()[0]\n",
    "            \n",
    "#             print(\"x\", x.size())\n",
    "#             print(\"w\", self.weights.size())\n",
    "            \n",
    "            u = x.unsqueeze(2).expand(x.size()[0], x.size()[1], self.num_capsules, x.size()[2]).unsqueeze(4).type(torch.FloatTensor)\n",
    "            \n",
    "            self.weights = self.weights.expand(batch_size, self.weights.size()[1], self.weights.size()[2],\\\n",
    "                                              self.weights.size()[3], self.weights.size()[4]).type(torch.FloatTensor)\n",
    "    \n",
    "#             print(\"w with batch\", self.weights.size())\n",
    "#             print(\"u\", u.size())\n",
    "            \n",
    "#             print(\"w type\", type(self.weights))\n",
    "#             print(\"u type\", type(u))\n",
    "                    \n",
    "            u_hat = torch.matmul(self.weights, u)\n",
    "        \n",
    "#             print(\"u_hat\", u_hat.size())\n",
    "            \n",
    "            v = None\n",
    "        \n",
    "            b = Variable(torch.zeros(batch_size, x.size()[1], self.num_capsules, 1, 1).type(torch.FloatTensor), requires_grad=True)\n",
    "            \n",
    "            for r in range(self.num_iterations):\n",
    "                \n",
    "#                 print(\"b\", b.size())\n",
    "                \n",
    "                c = softmax(b, axis=2)\n",
    "        \n",
    "#                 print(c.requires_grad)\n",
    "                \n",
    "#                 c = c.expand(c.size()[0], c.size()[1], c.size()[2], u_hat.size()[3], c.size()[4])\n",
    "                \n",
    "#                 print(\"c\", c.size())\n",
    "                \n",
    "#                 print(\"c numpy\", c.data.cpu().numpy().shape)\n",
    "#                 print(\"u_hat numpy\", u_hat.data.cpu().numpy().shape)\n",
    "\n",
    "#                 s_numpy = np.matrix.dot(c.data.cpu().numpy(), u_hat.data.cpu().numpy())\n",
    "                \n",
    "#                 print(\"s_numpy\", s_numpy.shape)\n",
    "                \n",
    "                s = c * u_hat\n",
    "                \n",
    "#                 print(\"s\", s.size())\n",
    "                \n",
    "                s = torch.sum(s, dim=1)\n",
    "                \n",
    "#                 print(\"s\", s.size())\n",
    "                \n",
    "#                 s = s.unsqueeze(2)\n",
    "                \n",
    "#                 print(\"s\", s.size())\n",
    "                \n",
    "                v = squash(s, dim=-2)\n",
    "                \n",
    "#                 print(\"v\", v.size())\n",
    "                                \n",
    "                temp1 = v.unsqueeze(1).expand(v.size()[0], u_hat.size()[1], v.size()[1], v.size()[2], v.size()[3])\n",
    "            \n",
    "                v = v.unsqueeze(1)\n",
    "            \n",
    "#                 print(\"v\", v.size())\n",
    "            \n",
    "                temp = torch.matmul(u_hat.transpose(-1, -2), temp1)\n",
    "                \n",
    "#                 print(\"temp\", temp.size())\n",
    "                \n",
    "#                 print(\"temp type\", type(temp))\n",
    "                \n",
    "#                 print(\"b type\", type(b))\n",
    "                \n",
    "                b = b + temp\n",
    "                \n",
    "#                 print(\"b\", b.size())\n",
    "    \n",
    "#             print(\"v\", type(v))\n",
    "\n",
    "#             print(v.requires_grad)\n",
    "                \n",
    "            return v\n",
    "                \n",
    "            \n",
    "        "
   ]
  },
  {
   "cell_type": "code",
   "execution_count": 32,
   "metadata": {
    "collapsed": true
   },
   "outputs": [],
   "source": [
    "class Net(nn.Module):\n",
    "    def __init__(self):\n",
    "        \n",
    "        super(Net, self).__init__()\n",
    "        \n",
    "        self.conv1 = nn.Conv2d(1, 256, 9)\n",
    "        \n",
    "        self.primary_capsule = CapsuleLayer(256, 8, 32, kernel_size=9, routing=False, num_iterations=0, stride=2)\n",
    "        \n",
    "        self.digital_capsule = CapsuleLayer(8, 16, 10, kernel_size=None, routing=True, num_iterations=5, stride=1)\n",
    "        \n",
    "        self.criterion = torch.nn.MSELoss(size_average=True)\n",
    "        \n",
    "        \n",
    "    def forward(self, x, target):\n",
    "        \n",
    "        x = self.conv1(x)\n",
    "        \n",
    "        x = nn.functional.relu(x)\n",
    "        \n",
    "        x = self.primary_capsule(x)\n",
    "        \n",
    "        x = self.digital_capsule(x)\n",
    "        \n",
    "        y_predicted = torch.squeeze(x, dim=1)\n",
    "        \n",
    "        \n",
    "        #start\n",
    "                \n",
    "#         x = torch.sqrt(torch.norm(x, dim=2) + 1e-3)\n",
    "        \n",
    "#         x = x.squeeze()\n",
    "        \n",
    "#         sof = nn.functional.softmax(x)\n",
    "        \n",
    "#         values, _ = torch.max(sof, dim=1)\n",
    "        \n",
    "#         aa = values.data.cpu().numpy()\n",
    "#         aa = aa.reshape(aa.shape[0], 1)\n",
    "        \n",
    "#         vvv = x.data.cpu().numpy() == aa\n",
    "        \n",
    "#         y_predicted_temp = vvv + 0\n",
    "        \n",
    "#         y_predicted = torch.from_numpy(y_predicted_temp)\n",
    "        \n",
    "#         print(y_predicted.size())\n",
    "        #end\n",
    "        \n",
    "#         y_predicted = nn.Softmax()(x)\n",
    "        \n",
    "#         print(y_predicted)\n",
    "        \n",
    "#         print(\"y\", y_predicted.size())\n",
    "        \n",
    "        #start\n",
    "        n_labels = 10\n",
    "        \n",
    "        targets = target.data.cpu().numpy()\n",
    "\n",
    "        ohm = np.zeros((targets.shape[0], n_labels))\n",
    "        #empty one-hot matrix\n",
    "        ohm[np.arange(targets.shape[0]), targets] = 1\n",
    "        \n",
    "        target = Variable(torch.from_numpy(ohm), requires_grad=True)\n",
    "        #end\n",
    "        \n",
    "#         print(target.size())\n",
    "        \n",
    "#         print(target.requires_grad)\n",
    "#         print(y_predicted.requires_grad)\n",
    "        \n",
    "        \n",
    "        \n",
    "        \n",
    "        \n",
    "        \n",
    "        \n",
    "#         _, y_predicted = torch.max(x, dim=1)\n",
    "        \n",
    "#         print(y_predicted.requires_grad)\n",
    "        \n",
    "#         temp3 = np.eye(10) * (y_predicted * 10)\n",
    "        \n",
    "#         print(temp3)\n",
    "        \n",
    "        \n",
    "#         print(list(zip(y_predicted, target)))\n",
    "\n",
    "#         print(y_predicted == target)\n",
    "                \n",
    "        \n",
    "#         print(y_predicted.size(), target.size())\n",
    "                \n",
    "#         loss = torch.sum(y_predicted != target)\n",
    "\n",
    "#         loss = self.criterion(y_predicted, target)\n",
    "\n",
    "#         loss = mse_loss(y_predicted, target)\n",
    "\n",
    "#         loss = nn.functional.nll_loss(nn.functional.log_softmax(y_predicted), target)\n",
    "\n",
    "#         loss = self.criterion(y_predicted, target)\n",
    "\n",
    "\n",
    "        print(y_predicted.size(), target.size())\n",
    "\n",
    "        loss_value = loss(y_predicted, target)\n",
    "    \n",
    "        return x, loss_value\n",
    "        "
   ]
  },
  {
   "cell_type": "code",
   "execution_count": 33,
   "metadata": {
    "collapsed": false
   },
   "outputs": [],
   "source": [
    "net = Net()"
   ]
  },
  {
   "cell_type": "code",
   "execution_count": 34,
   "metadata": {
    "collapsed": false
   },
   "outputs": [
    {
     "data": {
      "text/plain": [
       "Net (\n",
       "  (conv1): Conv2d(1, 256, kernel_size=(9, 9), stride=(1, 1))\n",
       "  (primary_capsule): CapsuleLayer (\n",
       "    (conv): Conv2d(256, 256, kernel_size=(9, 9), stride=(2, 2))\n",
       "  )\n",
       "  (digital_capsule): CapsuleLayer (\n",
       "  )\n",
       "  (criterion): MSELoss (\n",
       "  )\n",
       ")"
      ]
     },
     "execution_count": 34,
     "metadata": {},
     "output_type": "execute_result"
    }
   ],
   "source": [
    "net"
   ]
  },
  {
   "cell_type": "code",
   "execution_count": 10,
   "metadata": {
    "collapsed": false
   },
   "outputs": [],
   "source": [
    "import torchvision.datasets as dset\n",
    "import torchvision.transforms as transforms\n",
    "## load mnist dataset\n",
    "root = '../data'\n",
    "download = False\n",
    "trans = transforms.Compose([transforms.ToTensor(), transforms.Normalize((0.5,), (1.0,))])\n",
    "train_set = dset.MNIST(root=root, train=True, transform=trans, download=download)\n",
    "test_set = dset.MNIST(root=root, train=False, transform=trans)\n",
    "\n",
    "batch_size = 128\n",
    "# kwargs = {'num_workers': 1}\n",
    "train_loader = torch.utils.data.DataLoader(\n",
    "                 dataset=train_set,\n",
    "                 batch_size=batch_size,\n",
    "                 shuffle=True)\n",
    "test_loader = torch.utils.data.DataLoader(\n",
    "                dataset=test_set,\n",
    "                batch_size=batch_size,\n",
    "                shuffle=False)\n"
   ]
  },
  {
   "cell_type": "code",
   "execution_count": 11,
   "metadata": {
    "collapsed": true
   },
   "outputs": [],
   "source": [
    "import torch.optim as optim\n",
    "import torch.nn.functional as F"
   ]
  },
  {
   "cell_type": "code",
   "execution_count": 35,
   "metadata": {
    "collapsed": false,
    "scrolled": true
   },
   "outputs": [
    {
     "name": "stdout",
     "output_type": "stream",
     "text": [
      "torch.Size([128, 10, 16, 1]) torch.Size([128, 10])\n"
     ]
    },
    {
     "ename": "TypeError",
     "evalue": "mul received an invalid combination of arguments - got (torch.FloatTensor), but expected one of:\n * (float value)\n      didn't match because some of the arguments have invalid types: (\u001b[31;1mtorch.FloatTensor\u001b[0m)\n * (torch.DoubleTensor other)\n      didn't match because some of the arguments have invalid types: (\u001b[31;1mtorch.FloatTensor\u001b[0m)\n",
     "output_type": "error",
     "traceback": [
      "\u001b[0;31m---------------------------------------------------------------------------\u001b[0m",
      "\u001b[0;31mTypeError\u001b[0m                                 Traceback (most recent call last)",
      "\u001b[0;32m<ipython-input-35-61c1f94b2626>\u001b[0m in \u001b[0;36m<module>\u001b[0;34m()\u001b[0m\n\u001b[1;32m      5\u001b[0m         \u001b[0moptimizer\u001b[0m\u001b[0;34m.\u001b[0m\u001b[0mzero_grad\u001b[0m\u001b[0;34m(\u001b[0m\u001b[0;34m)\u001b[0m\u001b[0;34m\u001b[0m\u001b[0m\n\u001b[1;32m      6\u001b[0m         \u001b[0mx\u001b[0m\u001b[0;34m,\u001b[0m \u001b[0mtarget\u001b[0m \u001b[0;34m=\u001b[0m \u001b[0mVariable\u001b[0m\u001b[0;34m(\u001b[0m\u001b[0mx\u001b[0m\u001b[0;34m)\u001b[0m\u001b[0;34m,\u001b[0m \u001b[0mVariable\u001b[0m\u001b[0;34m(\u001b[0m\u001b[0mtarget\u001b[0m\u001b[0;34m)\u001b[0m\u001b[0;34m\u001b[0m\u001b[0m\n\u001b[0;32m----> 7\u001b[0;31m         \u001b[0m_\u001b[0m\u001b[0;34m,\u001b[0m \u001b[0mloss\u001b[0m \u001b[0;34m=\u001b[0m \u001b[0mnet\u001b[0m\u001b[0;34m(\u001b[0m\u001b[0mx\u001b[0m\u001b[0;34m,\u001b[0m \u001b[0mtarget\u001b[0m\u001b[0;34m)\u001b[0m\u001b[0;34m\u001b[0m\u001b[0m\n\u001b[0m\u001b[1;32m      8\u001b[0m         \u001b[0mloss\u001b[0m\u001b[0;34m.\u001b[0m\u001b[0mbackward\u001b[0m\u001b[0;34m(\u001b[0m\u001b[0;34m)\u001b[0m\u001b[0;34m\u001b[0m\u001b[0m\n\u001b[1;32m      9\u001b[0m         \u001b[0moptimizer\u001b[0m\u001b[0;34m.\u001b[0m\u001b[0mstep\u001b[0m\u001b[0;34m(\u001b[0m\u001b[0;34m)\u001b[0m\u001b[0;34m\u001b[0m\u001b[0m\n",
      "\u001b[0;32m/Users/apple/anaconda/lib/python3.5/site-packages/torch/nn/modules/module.py\u001b[0m in \u001b[0;36m__call__\u001b[0;34m(self, *input, **kwargs)\u001b[0m\n\u001b[1;32m    222\u001b[0m         \u001b[0;32mfor\u001b[0m \u001b[0mhook\u001b[0m \u001b[0;32min\u001b[0m \u001b[0mself\u001b[0m\u001b[0;34m.\u001b[0m\u001b[0m_forward_pre_hooks\u001b[0m\u001b[0;34m.\u001b[0m\u001b[0mvalues\u001b[0m\u001b[0;34m(\u001b[0m\u001b[0;34m)\u001b[0m\u001b[0;34m:\u001b[0m\u001b[0;34m\u001b[0m\u001b[0m\n\u001b[1;32m    223\u001b[0m             \u001b[0mhook\u001b[0m\u001b[0;34m(\u001b[0m\u001b[0mself\u001b[0m\u001b[0;34m,\u001b[0m \u001b[0minput\u001b[0m\u001b[0;34m)\u001b[0m\u001b[0;34m\u001b[0m\u001b[0m\n\u001b[0;32m--> 224\u001b[0;31m         \u001b[0mresult\u001b[0m \u001b[0;34m=\u001b[0m \u001b[0mself\u001b[0m\u001b[0;34m.\u001b[0m\u001b[0mforward\u001b[0m\u001b[0;34m(\u001b[0m\u001b[0;34m*\u001b[0m\u001b[0minput\u001b[0m\u001b[0;34m,\u001b[0m \u001b[0;34m**\u001b[0m\u001b[0mkwargs\u001b[0m\u001b[0;34m)\u001b[0m\u001b[0;34m\u001b[0m\u001b[0m\n\u001b[0m\u001b[1;32m    225\u001b[0m         \u001b[0;32mfor\u001b[0m \u001b[0mhook\u001b[0m \u001b[0;32min\u001b[0m \u001b[0mself\u001b[0m\u001b[0;34m.\u001b[0m\u001b[0m_forward_hooks\u001b[0m\u001b[0;34m.\u001b[0m\u001b[0mvalues\u001b[0m\u001b[0;34m(\u001b[0m\u001b[0;34m)\u001b[0m\u001b[0;34m:\u001b[0m\u001b[0;34m\u001b[0m\u001b[0m\n\u001b[1;32m    226\u001b[0m             \u001b[0mhook_result\u001b[0m \u001b[0;34m=\u001b[0m \u001b[0mhook\u001b[0m\u001b[0;34m(\u001b[0m\u001b[0mself\u001b[0m\u001b[0;34m,\u001b[0m \u001b[0minput\u001b[0m\u001b[0;34m,\u001b[0m \u001b[0mresult\u001b[0m\u001b[0;34m)\u001b[0m\u001b[0;34m\u001b[0m\u001b[0m\n",
      "\u001b[0;32m<ipython-input-32-8d2722fd5ef1>\u001b[0m in \u001b[0;36mforward\u001b[0;34m(self, x, target)\u001b[0m\n\u001b[1;32m    106\u001b[0m         \u001b[0mprint\u001b[0m\u001b[0;34m(\u001b[0m\u001b[0my_predicted\u001b[0m\u001b[0;34m.\u001b[0m\u001b[0msize\u001b[0m\u001b[0;34m(\u001b[0m\u001b[0;34m)\u001b[0m\u001b[0;34m,\u001b[0m \u001b[0mtarget\u001b[0m\u001b[0;34m.\u001b[0m\u001b[0msize\u001b[0m\u001b[0;34m(\u001b[0m\u001b[0;34m)\u001b[0m\u001b[0;34m)\u001b[0m\u001b[0;34m\u001b[0m\u001b[0m\n\u001b[1;32m    107\u001b[0m \u001b[0;34m\u001b[0m\u001b[0m\n\u001b[0;32m--> 108\u001b[0;31m         \u001b[0mloss_value\u001b[0m \u001b[0;34m=\u001b[0m \u001b[0mloss\u001b[0m\u001b[0;34m(\u001b[0m\u001b[0my_predicted\u001b[0m\u001b[0;34m,\u001b[0m \u001b[0mtarget\u001b[0m\u001b[0;34m)\u001b[0m\u001b[0;34m\u001b[0m\u001b[0m\n\u001b[0m\u001b[1;32m    109\u001b[0m \u001b[0;34m\u001b[0m\u001b[0m\n\u001b[1;32m    110\u001b[0m         \u001b[0;32mreturn\u001b[0m \u001b[0mx\u001b[0m\u001b[0;34m,\u001b[0m \u001b[0mloss_value\u001b[0m\u001b[0;34m\u001b[0m\u001b[0m\n",
      "\u001b[0;32m<ipython-input-27-742b22d00f22>\u001b[0m in \u001b[0;36mloss\u001b[0;34m(out_digit_caps, target, size_average)\u001b[0m\n\u001b[1;32m     11\u001b[0m             \u001b[0mrecon_loss\u001b[0m\u001b[0;34m:\u001b[0m \u001b[0mA\u001b[0m \u001b[0mscalar\u001b[0m \u001b[0mof\u001b[0m \u001b[0mreconstruction\u001b[0m \u001b[0mloss\u001b[0m\u001b[0;34m.\u001b[0m\u001b[0;34m\u001b[0m\u001b[0m\n\u001b[1;32m     12\u001b[0m         \"\"\"\n\u001b[0;32m---> 13\u001b[0;31m         \u001b[0mm_loss\u001b[0m \u001b[0;34m=\u001b[0m \u001b[0mmargin_loss\u001b[0m\u001b[0;34m(\u001b[0m\u001b[0mout_digit_caps\u001b[0m\u001b[0;34m,\u001b[0m \u001b[0mtarget\u001b[0m\u001b[0;34m)\u001b[0m\u001b[0;34m\u001b[0m\u001b[0m\n\u001b[0m\u001b[1;32m     14\u001b[0m         \u001b[0;32mif\u001b[0m \u001b[0msize_average\u001b[0m\u001b[0;34m:\u001b[0m\u001b[0;34m\u001b[0m\u001b[0m\n\u001b[1;32m     15\u001b[0m             \u001b[0mm_loss\u001b[0m \u001b[0;34m=\u001b[0m \u001b[0mm_loss\u001b[0m\u001b[0;34m.\u001b[0m\u001b[0mmean\u001b[0m\u001b[0;34m(\u001b[0m\u001b[0;34m)\u001b[0m\u001b[0;34m\u001b[0m\u001b[0m\n",
      "\u001b[0;32m<ipython-input-27-742b22d00f22>\u001b[0m in \u001b[0;36mmargin_loss\u001b[0;34m(input, target)\u001b[0m\n\u001b[1;32m     44\u001b[0m         \u001b[0mt_c\u001b[0m \u001b[0;34m=\u001b[0m \u001b[0mtarget\u001b[0m\u001b[0;34m\u001b[0m\u001b[0m\n\u001b[1;32m     45\u001b[0m         \u001b[0;31m# Lc is margin loss for each digit of class c\u001b[0m\u001b[0;34m\u001b[0m\u001b[0;34m\u001b[0m\u001b[0m\n\u001b[0;32m---> 46\u001b[0;31m         \u001b[0ml_c\u001b[0m \u001b[0;34m=\u001b[0m \u001b[0mt_c\u001b[0m \u001b[0;34m*\u001b[0m \u001b[0mmax_left\u001b[0m \u001b[0;34m+\u001b[0m \u001b[0mloss_lambda\u001b[0m \u001b[0;34m*\u001b[0m \u001b[0;34m(\u001b[0m\u001b[0;36m1.0\u001b[0m \u001b[0;34m-\u001b[0m \u001b[0mt_c\u001b[0m\u001b[0;34m)\u001b[0m \u001b[0;34m*\u001b[0m \u001b[0mmax_right\u001b[0m\u001b[0;34m\u001b[0m\u001b[0m\n\u001b[0m\u001b[1;32m     47\u001b[0m         \u001b[0ml_c\u001b[0m \u001b[0;34m=\u001b[0m \u001b[0ml_c\u001b[0m\u001b[0;34m.\u001b[0m\u001b[0msum\u001b[0m\u001b[0;34m(\u001b[0m\u001b[0mdim\u001b[0m\u001b[0;34m=\u001b[0m\u001b[0;36m1\u001b[0m\u001b[0;34m)\u001b[0m\u001b[0;34m\u001b[0m\u001b[0m\n\u001b[1;32m     48\u001b[0m \u001b[0;34m\u001b[0m\u001b[0m\n",
      "\u001b[0;32m/Users/apple/anaconda/lib/python3.5/site-packages/torch/autograd/variable.py\u001b[0m in \u001b[0;36m__mul__\u001b[0;34m(self, other)\u001b[0m\n\u001b[1;32m    827\u001b[0m \u001b[0;34m\u001b[0m\u001b[0m\n\u001b[1;32m    828\u001b[0m     \u001b[0;32mdef\u001b[0m \u001b[0m__mul__\u001b[0m\u001b[0;34m(\u001b[0m\u001b[0mself\u001b[0m\u001b[0;34m,\u001b[0m \u001b[0mother\u001b[0m\u001b[0;34m)\u001b[0m\u001b[0;34m:\u001b[0m\u001b[0;34m\u001b[0m\u001b[0m\n\u001b[0;32m--> 829\u001b[0;31m         \u001b[0;32mreturn\u001b[0m \u001b[0mself\u001b[0m\u001b[0;34m.\u001b[0m\u001b[0mmul\u001b[0m\u001b[0;34m(\u001b[0m\u001b[0mother\u001b[0m\u001b[0;34m)\u001b[0m\u001b[0;34m\u001b[0m\u001b[0m\n\u001b[0m\u001b[1;32m    830\u001b[0m     \u001b[0m__rmul__\u001b[0m \u001b[0;34m=\u001b[0m \u001b[0m__mul__\u001b[0m\u001b[0;34m\u001b[0m\u001b[0m\n\u001b[1;32m    831\u001b[0m \u001b[0;34m\u001b[0m\u001b[0m\n",
      "\u001b[0;32m/Users/apple/anaconda/lib/python3.5/site-packages/torch/autograd/variable.py\u001b[0m in \u001b[0;36mmul\u001b[0;34m(self, other)\u001b[0m\n\u001b[1;32m    337\u001b[0m     \u001b[0;32mdef\u001b[0m \u001b[0mmul\u001b[0m\u001b[0;34m(\u001b[0m\u001b[0mself\u001b[0m\u001b[0;34m,\u001b[0m \u001b[0mother\u001b[0m\u001b[0;34m)\u001b[0m\u001b[0;34m:\u001b[0m\u001b[0;34m\u001b[0m\u001b[0m\n\u001b[1;32m    338\u001b[0m         \u001b[0;32mif\u001b[0m \u001b[0misinstance\u001b[0m\u001b[0;34m(\u001b[0m\u001b[0mother\u001b[0m\u001b[0;34m,\u001b[0m \u001b[0mVariable\u001b[0m\u001b[0;34m)\u001b[0m\u001b[0;34m:\u001b[0m\u001b[0;34m\u001b[0m\u001b[0m\n\u001b[0;32m--> 339\u001b[0;31m             \u001b[0;32mreturn\u001b[0m \u001b[0mMul\u001b[0m\u001b[0;34m.\u001b[0m\u001b[0mapply\u001b[0m\u001b[0;34m(\u001b[0m\u001b[0mself\u001b[0m\u001b[0;34m,\u001b[0m \u001b[0mother\u001b[0m\u001b[0;34m)\u001b[0m\u001b[0;34m\u001b[0m\u001b[0m\n\u001b[0m\u001b[1;32m    340\u001b[0m         \u001b[0;32melse\u001b[0m\u001b[0;34m:\u001b[0m\u001b[0;34m\u001b[0m\u001b[0m\n\u001b[1;32m    341\u001b[0m             \u001b[0;32massert\u001b[0m \u001b[0;32mnot\u001b[0m \u001b[0mtorch\u001b[0m\u001b[0;34m.\u001b[0m\u001b[0mis_tensor\u001b[0m\u001b[0;34m(\u001b[0m\u001b[0mother\u001b[0m\u001b[0;34m)\u001b[0m\u001b[0;34m\u001b[0m\u001b[0m\n",
      "\u001b[0;32m/Users/apple/anaconda/lib/python3.5/site-packages/torch/autograd/_functions/basic_ops.py\u001b[0m in \u001b[0;36mforward\u001b[0;34m(ctx, a, b)\u001b[0m\n\u001b[1;32m     46\u001b[0m         \u001b[0mctx\u001b[0m\u001b[0;34m.\u001b[0m\u001b[0mb_size\u001b[0m \u001b[0;34m=\u001b[0m \u001b[0mb\u001b[0m\u001b[0;34m.\u001b[0m\u001b[0msize\u001b[0m\u001b[0;34m(\u001b[0m\u001b[0;34m)\u001b[0m\u001b[0;34m\u001b[0m\u001b[0m\n\u001b[1;32m     47\u001b[0m         \u001b[0mctx\u001b[0m\u001b[0;34m.\u001b[0m\u001b[0msave_for_backward\u001b[0m\u001b[0;34m(\u001b[0m\u001b[0ma\u001b[0m\u001b[0;34m,\u001b[0m \u001b[0mb\u001b[0m\u001b[0;34m)\u001b[0m\u001b[0;34m\u001b[0m\u001b[0m\n\u001b[0;32m---> 48\u001b[0;31m         \u001b[0;32mreturn\u001b[0m \u001b[0ma\u001b[0m\u001b[0;34m.\u001b[0m\u001b[0mmul\u001b[0m\u001b[0;34m(\u001b[0m\u001b[0mb\u001b[0m\u001b[0;34m)\u001b[0m\u001b[0;34m\u001b[0m\u001b[0m\n\u001b[0m\u001b[1;32m     49\u001b[0m \u001b[0;34m\u001b[0m\u001b[0m\n\u001b[1;32m     50\u001b[0m     \u001b[0;34m@\u001b[0m\u001b[0mstaticmethod\u001b[0m\u001b[0;34m\u001b[0m\u001b[0m\n",
      "\u001b[0;31mTypeError\u001b[0m: mul received an invalid combination of arguments - got (torch.FloatTensor), but expected one of:\n * (float value)\n      didn't match because some of the arguments have invalid types: (\u001b[31;1mtorch.FloatTensor\u001b[0m)\n * (torch.DoubleTensor other)\n      didn't match because some of the arguments have invalid types: (\u001b[31;1mtorch.FloatTensor\u001b[0m)\n"
     ]
    }
   ],
   "source": [
    "optimizer = optim.Adam(net.parameters(), lr=0.01)\n",
    "for epoch in range(10):\n",
    "    # trainning\n",
    "    for batch_idx, (x, target) in enumerate(train_loader):\n",
    "        optimizer.zero_grad()\n",
    "        x, target = Variable(x), Variable(target)\n",
    "        _, loss = net(x, target)\n",
    "        loss.backward()\n",
    "        optimizer.step()\n",
    "#         if batch_idx % 100 == 0:\n",
    "        print('==>>> epoch: {}, batch index: {}, train loss: {:.6f}'.format(epoch, batch_idx, loss.data[0]))\n",
    "#     # testing\n",
    "#     correct_cnt, ave_loss = 0, 0\n",
    "#     for batch_idx, (x, target) in enumerate(test_loader):\n",
    "#         x, target = Variable(x, volatile=True), Variable(target, volatile=True)\n",
    "#         score, loss = net(x, target)\n",
    "#         _, pred_label = torch.max(score.data, 1)\n",
    "#         correct_cnt += (pred_label == target.data).sum()\n",
    "#         ave_loss += loss.data[0]\n",
    "#     accuracy = correct_cnt*1.0/len(test_loader)/batch_size\n",
    "#     ave_loss /= len(test_loader)\n",
    "#     print('==>>> epoch: {}, test loss: {:.6f}, accuracy: {:.4f}'.format(epoch, ave_loss, accuracy))\n",
    "\n",
    "torch.save(net.state_dict(), 'capsule_net')"
   ]
  },
  {
   "cell_type": "code",
   "execution_count": null,
   "metadata": {
    "collapsed": true
   },
   "outputs": [],
   "source": []
  },
  {
   "cell_type": "code",
   "execution_count": null,
   "metadata": {
    "collapsed": true
   },
   "outputs": [],
   "source": []
  },
  {
   "cell_type": "code",
   "execution_count": 45,
   "metadata": {
    "collapsed": false
   },
   "outputs": [
    {
     "data": {
      "text/plain": [
       "\n",
       " 1  2  3\n",
       " 4  2  1\n",
       "[torch.FloatTensor of size 2x3]"
      ]
     },
     "execution_count": 45,
     "metadata": {},
     "output_type": "execute_result"
    }
   ],
   "source": [
    "a = torch.Tensor([[1, 2, 3], [4, 2, 1]])\n",
    "a"
   ]
  },
  {
   "cell_type": "code",
   "execution_count": 46,
   "metadata": {
    "collapsed": false
   },
   "outputs": [
    {
     "data": {
      "text/plain": [
       "(\n",
       "  3\n",
       "  4\n",
       " [torch.FloatTensor of size 2], \n",
       "  2\n",
       "  0\n",
       " [torch.LongTensor of size 2])"
      ]
     },
     "execution_count": 46,
     "metadata": {},
     "output_type": "execute_result"
    }
   ],
   "source": [
    "torch.max(a, dim=1)"
   ]
  },
  {
   "cell_type": "code",
   "execution_count": 55,
   "metadata": {
    "collapsed": false
   },
   "outputs": [],
   "source": [
    "x = nn.functional.softmax(a)"
   ]
  },
  {
   "cell_type": "code",
   "execution_count": 56,
   "metadata": {
    "collapsed": false
   },
   "outputs": [
    {
     "data": {
      "text/plain": [
       "Variable containing:\n",
       " 0.0900  0.2447  0.6652\n",
       " 0.8438  0.1142  0.0420\n",
       "[torch.FloatTensor of size 2x3]"
      ]
     },
     "execution_count": 56,
     "metadata": {},
     "output_type": "execute_result"
    }
   ],
   "source": [
    "x"
   ]
  },
  {
   "cell_type": "code",
   "execution_count": 59,
   "metadata": {
    "collapsed": false
   },
   "outputs": [
    {
     "data": {
      "text/plain": [
       "(Variable containing:\n",
       "  0.6652\n",
       "  0.8438\n",
       " [torch.FloatTensor of size 2], Variable containing:\n",
       "  2\n",
       "  0\n",
       " [torch.LongTensor of size 2])"
      ]
     },
     "execution_count": 59,
     "metadata": {},
     "output_type": "execute_result"
    }
   ],
   "source": [
    "z, v = torch.max(x, dim=1)\n",
    "z, v"
   ]
  },
  {
   "cell_type": "code",
   "execution_count": 72,
   "metadata": {
    "collapsed": false
   },
   "outputs": [
    {
     "data": {
      "text/plain": [
       "array([[ 0.66524094],\n",
       "       [ 0.84379476]], dtype=float32)"
      ]
     },
     "execution_count": 72,
     "metadata": {},
     "output_type": "execute_result"
    }
   ],
   "source": [
    "aa = z.data.cpu().numpy()\n",
    "aa = aa.reshape(aa.shape[0], 1)\n",
    "aa"
   ]
  },
  {
   "cell_type": "code",
   "execution_count": 75,
   "metadata": {
    "collapsed": false
   },
   "outputs": [
    {
     "data": {
      "text/plain": [
       "array([[False, False,  True],\n",
       "       [ True, False, False]], dtype=bool)"
      ]
     },
     "execution_count": 75,
     "metadata": {},
     "output_type": "execute_result"
    }
   ],
   "source": [
    "vvv = x.data.cpu().numpy() == aa\n",
    "vvv"
   ]
  },
  {
   "cell_type": "code",
   "execution_count": 77,
   "metadata": {
    "collapsed": false
   },
   "outputs": [
    {
     "data": {
      "text/plain": [
       "array([[0, 0, 1],\n",
       "       [1, 0, 0]])"
      ]
     },
     "execution_count": 77,
     "metadata": {},
     "output_type": "execute_result"
    }
   ],
   "source": [
    "vvv + 0"
   ]
  },
  {
   "cell_type": "code",
   "execution_count": null,
   "metadata": {
    "collapsed": true
   },
   "outputs": [],
   "source": []
  },
  {
   "cell_type": "code",
   "execution_count": null,
   "metadata": {
    "collapsed": true
   },
   "outputs": [],
   "source": []
  },
  {
   "cell_type": "code",
   "execution_count": null,
   "metadata": {
    "collapsed": true
   },
   "outputs": [],
   "source": []
  }
 ],
 "metadata": {
  "anaconda-cloud": {},
  "kernelspec": {
   "display_name": "Python [conda root]",
   "language": "python",
   "name": "conda-root-py"
  },
  "language_info": {
   "codemirror_mode": {
    "name": "ipython",
    "version": 3
   },
   "file_extension": ".py",
   "mimetype": "text/x-python",
   "name": "python",
   "nbconvert_exporter": "python",
   "pygments_lexer": "ipython3",
   "version": "3.5.2"
  }
 },
 "nbformat": 4,
 "nbformat_minor": 2
}
