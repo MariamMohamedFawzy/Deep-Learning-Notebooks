{
  "nbformat": 4,
  "nbformat_minor": 0,
  "metadata": {
    "colab": {
      "name": "CNN-Transformation-Effect.ipynb",
      "version": "0.3.2",
      "provenance": [],
      "collapsed_sections": [],
      "include_colab_link": true
    },
    "kernelspec": {
      "name": "python3",
      "display_name": "Python 3"
    },
    "accelerator": "GPU"
  },
  "cells": [
    {
      "cell_type": "markdown",
      "metadata": {
        "id": "view-in-github",
        "colab_type": "text"
      },
      "source": [
        "[View in Colaboratory](https://colab.research.google.com/github/MariamMohamedFawzy/Deep-Learning-Notebooks/blob/master/CNN_Transformation_Effect.ipynb)"
      ]
    },
    {
      "metadata": {
        "id": "ElygkZdnkY6-",
        "colab_type": "text"
      },
      "cell_type": "markdown",
      "source": [
        "**Import Libraries**"
      ]
    },
    {
      "metadata": {
        "id": "JMlLW7q6kYPF",
        "colab_type": "code",
        "colab": {}
      },
      "cell_type": "code",
      "source": [
        "import numpy as np\n",
        "import matplotlib.pyplot as plt\n",
        "import cv2"
      ],
      "execution_count": 0,
      "outputs": []
    },
    {
      "metadata": {
        "id": "WU0RZqzykYRs",
        "colab_type": "code",
        "colab": {}
      },
      "cell_type": "code",
      "source": [
        "import keras\n",
        "from keras.datasets import mnist\n",
        "from keras.models import Sequential\n",
        "from keras.layers import Dense, Dropout, Flatten\n",
        "from keras.layers import Conv2D, MaxPooling2D\n",
        "from keras import backend as K"
      ],
      "execution_count": 0,
      "outputs": []
    },
    {
      "metadata": {
        "id": "5fX-WVgimf-O",
        "colab_type": "text"
      },
      "cell_type": "markdown",
      "source": [
        "**Prepare the dataset**"
      ]
    },
    {
      "metadata": {
        "id": "FuAy7CP-kYUP",
        "colab_type": "code",
        "colab": {}
      },
      "cell_type": "code",
      "source": [
        "(x_train, y_train), (x_test, y_test) = mnist.load_data()"
      ],
      "execution_count": 0,
      "outputs": []
    },
    {
      "metadata": {
        "id": "kLB6iVcRmjNa",
        "colab_type": "code",
        "colab": {
          "base_uri": "https://localhost:8080/",
          "height": 34
        },
        "outputId": "919893af-fae3-412b-990e-6d818ce75c30"
      },
      "cell_type": "code",
      "source": [
        "x_train.shape, y_train.shape"
      ],
      "execution_count": 86,
      "outputs": [
        {
          "output_type": "execute_result",
          "data": {
            "text/plain": [
              "((60000, 28, 28), (60000,))"
            ]
          },
          "metadata": {
            "tags": []
          },
          "execution_count": 86
        }
      ]
    },
    {
      "metadata": {
        "id": "mz6Ly4lbmx9F",
        "colab_type": "code",
        "colab": {}
      },
      "cell_type": "code",
      "source": [
        "def shift_image(image, quadrant_number):\n",
        "  assert quadrant_number in [1, 2, 3, 4], \"quadrant number should be one of these values [1, 2, 3, 4]\"\n",
        "  rows, cols = image.shape\n",
        "  image = cv2.resize(image, (int(rows/2), int(cols/2)))\n",
        "  new_image = np.zeros((rows, cols))\n",
        "  if quadrant_number == 1:\n",
        "    new_image[:int(rows/2), int(cols/2):] = image\n",
        "  elif quadrant_number == 2:\n",
        "    new_image[:int(rows/2), :int(cols/2)] = image\n",
        "  elif quadrant_number == 3:\n",
        "    new_image[int(rows/2):, :int(cols/2)] = image\n",
        "  else:\n",
        "    new_image[int(rows/2):, int(cols/2):] = image\n",
        "  \n",
        "  return new_image"
      ],
      "execution_count": 0,
      "outputs": []
    },
    {
      "metadata": {
        "id": "5HbeLf1kmx_4",
        "colab_type": "code",
        "colab": {
          "base_uri": "https://localhost:8080/",
          "height": 140
        },
        "outputId": "6b1e1c59-4464-4288-f1ae-05c27e8ed24c"
      },
      "cell_type": "code",
      "source": [
        "image = x_train[0]\n",
        "new_image_1 = shift_image(image, 1)\n",
        "new_image_2 = shift_image(image, 2)\n",
        "new_image_3 = shift_image(image, 3)\n",
        "new_image_4 = shift_image(image, 4)\n",
        "\n",
        "f, (ax1, ax2, ax3, ax4, ax5) = plt.subplots(1, 5)\n",
        "ax1.imshow(image)\n",
        "ax1.set_title('Original')\n",
        "ax2.imshow(new_image_1)\n",
        "ax2.set_title('First Quadrant')\n",
        "ax3.imshow(new_image_2)\n",
        "ax3.set_title('Second Quadrant')\n",
        "ax4.imshow(new_image_3)\n",
        "ax4.set_title('Third Quadrant')\n",
        "ax5.imshow(new_image_4)\n",
        "ax5.set_title('Fourth Quadrant')\n",
        "plt.show()"
      ],
      "execution_count": 88,
      "outputs": [
        {
          "output_type": "display_data",
          "data": {
            "image/png": "[encoded data removed]",
            "text/plain": [
              "<matplotlib.figure.Figure at 0x7fbda7062198>"
            ]
          },
          "metadata": {
            "tags": []
          }
        }
      ]
    },
    {
      "metadata": {
        "id": "NGfcadHEt-F1",
        "colab_type": "text"
      },
      "cell_type": "markdown",
      "source": [
        "**I will shift all the digits in train and test sets to the second quadrant**"
      ]
    },
    {
      "metadata": {
        "id": "7ouT4eiaqoOx",
        "colab_type": "code",
        "colab": {}
      },
      "cell_type": "code",
      "source": [
        "x_train_sec = np.array(list(map(lambda x: shift_image(x, 2), x_train)))\n",
        "x_test_sec = np.array(list(map(lambda x: shift_image(x, 2), x_test)))"
      ],
      "execution_count": 0,
      "outputs": []
    },
    {
      "metadata": {
        "id": "-uqh3noourMU",
        "colab_type": "code",
        "colab": {}
      },
      "cell_type": "code",
      "source": [
        "x_train_sec = x_train_sec.astype('float')\n",
        "x_test_sec = x_test_sec.astype('float')"
      ],
      "execution_count": 0,
      "outputs": []
    },
    {
      "metadata": {
        "id": "BTzbO9CBqoT7",
        "colab_type": "code",
        "colab": {}
      },
      "cell_type": "code",
      "source": [
        "x_train_sec = x_train_sec / 255.\n",
        "x_test_sec = x_test_sec / 255."
      ],
      "execution_count": 0,
      "outputs": []
    },
    {
      "metadata": {
        "id": "yFtN9PP4xNFK",
        "colab_type": "code",
        "colab": {
          "base_uri": "https://localhost:8080/",
          "height": 34
        },
        "outputId": "4b667cf0-c540-4010-965e-febe9252f18e"
      },
      "cell_type": "code",
      "source": [
        "print(K.image_data_format())"
      ],
      "execution_count": 92,
      "outputs": [
        {
          "output_type": "stream",
          "text": [
            "channels_last\n"
          ],
          "name": "stdout"
        }
      ]
    },
    {
      "metadata": {
        "id": "MCUyNgWDxDma",
        "colab_type": "code",
        "colab": {}
      },
      "cell_type": "code",
      "source": [
        "x_train_sec = x_train_sec.reshape(-1, 28, 28, 1)\n",
        "x_test_sec = x_test_sec.reshape(-1, 28, 28, 1)"
      ],
      "execution_count": 0,
      "outputs": []
    },
    {
      "metadata": {
        "id": "MnMk1G84mjP2",
        "colab_type": "code",
        "colab": {}
      },
      "cell_type": "code",
      "source": [
        "y_train = keras.utils.to_categorical(y_train)\n",
        "y_test = keras.utils.to_categorical(y_test)"
      ],
      "execution_count": 0,
      "outputs": []
    },
    {
      "metadata": {
        "id": "k80qXkx_4Wul",
        "colab_type": "code",
        "colab": {}
      },
      "cell_type": "code",
      "source": [
        "def prepare_x_test(quadrant_num):\n",
        "  x_test_quad = np.array(list(map(lambda x: shift_image(x, quadrant_num), x_test)))\n",
        "  x_test_quad = x_test_quad.astype('float')\n",
        "  x_test_quad = x_test_quad / 255.\n",
        "  x_test_quad = x_test_quad.reshape(-1, 28, 28, 1)\n",
        "  return x_test_quad"
      ],
      "execution_count": 0,
      "outputs": []
    },
    {
      "metadata": {
        "id": "bs5YP_vF6m67",
        "colab_type": "code",
        "colab": {}
      },
      "cell_type": "code",
      "source": [
        "x_test_first = prepare_x_test(1)"
      ],
      "execution_count": 0,
      "outputs": []
    },
    {
      "metadata": {
        "id": "lwY0lWwTmdsM",
        "colab_type": "text"
      },
      "cell_type": "markdown",
      "source": [
        "**Create the model**"
      ]
    },
    {
      "metadata": {
        "id": "36cE3bn7kYW9",
        "colab_type": "code",
        "colab": {}
      },
      "cell_type": "code",
      "source": [
        "class Model(object):\n",
        "  \n",
        "  def __init__(self, num_classes, *input_shape):\n",
        "    self.model = None\n",
        "    self.input_shape = input_shape[0]\n",
        "    self.num_classes = num_classes\n",
        "  \n",
        "  def create_model(self, use_fully_connected=True):\n",
        "    self.model = Sequential()\n",
        "    self.model.add(Conv2D(64, (3, 3), activation='relu', input_shape=self.input_shape))\n",
        "    self.model.add(Conv2D(32, (3, 3), activation='relu'))\n",
        "    self.model.add(MaxPooling2D((2, 2)))\n",
        "    if use_fully_connected:\n",
        "      self.model.add(Flatten())\n",
        "      self.model.add(Dense(128, activation='relu'))\n",
        "      self.model.add(Dense(self.num_classes, activation='softmax'))\n",
        "    else:\n",
        "      self.model.add(Conv2D(16, (3, 3), activation='relu'))\n",
        "      self.model.add(Flatten())\n",
        "      self.model.add(Dense(self.num_classes, activation='softmax'))\n",
        "    \n",
        "  def compile(self):\n",
        "    self.model.compile(loss=keras.losses.categorical_crossentropy,\n",
        "                        optimizer=keras.optimizers.Adadelta(),\n",
        "                        metrics=['accuracy'])\n",
        "  \n",
        "  def train(self, train_x, train_y, num_epochs, batch_size):\n",
        "    self.model.fit(train_x, train_y, verbose=1, epochs=num_epochs, batch_size=batch_size)\n",
        "    \n",
        "  def test(self, test_x, test_y):\n",
        "    return self.model.evaluate(test_x, test_y)"
      ],
      "execution_count": 0,
      "outputs": []
    },
    {
      "metadata": {
        "id": "0FSA_sxVkYZg",
        "colab_type": "code",
        "colab": {}
      },
      "cell_type": "code",
      "source": [
        "model_with_fully_connected = Model(10, (28, 28, 1))\n",
        "model_with_fully_connected.create_model()"
      ],
      "execution_count": 0,
      "outputs": []
    },
    {
      "metadata": {
        "id": "0tlKm67_kYcK",
        "colab_type": "code",
        "colab": {}
      },
      "cell_type": "code",
      "source": [
        "model_with_fully_connected.compile()"
      ],
      "execution_count": 0,
      "outputs": []
    },
    {
      "metadata": {
        "id": "yJtic7xHkYe6",
        "colab_type": "code",
        "colab": {
          "base_uri": "https://localhost:8080/",
          "height": 445
        },
        "outputId": "4066c6a6-0436-4a54-9aa4-539c62c4361b"
      },
      "cell_type": "code",
      "source": [
        "model_with_fully_connected.train(x_train_sec, y_train, 12, 128)"
      ],
      "execution_count": 100,
      "outputs": [
        {
          "output_type": "stream",
          "text": [
            "Epoch 1/12\n",
            "60000/60000 [==============================] - 8s 137us/step - loss: 0.2491 - acc: 0.9238\n",
            "Epoch 2/12\n",
            "60000/60000 [==============================] - 8s 129us/step - loss: 0.0612 - acc: 0.9809\n",
            "Epoch 3/12\n",
            "60000/60000 [==============================] - 8s 129us/step - loss: 0.0442 - acc: 0.9862\n",
            "Epoch 4/12\n",
            "25216/60000 [===========>..................] - ETA: 4s - loss: 0.0318 - acc: 0.9897"
          ],
          "name": "stdout"
        },
        {
          "output_type": "stream",
          "text": [
            "60000/60000 [==============================] - 8s 129us/step - loss: 0.0336 - acc: 0.9894\n",
            "Epoch 5/12\n",
            "60000/60000 [==============================] - 8s 129us/step - loss: 0.0284 - acc: 0.9910\n",
            "Epoch 6/12\n",
            "60000/60000 [==============================] - 8s 129us/step - loss: 0.0230 - acc: 0.9925\n",
            "Epoch 7/12\n",
            "36864/60000 [=================>............] - ETA: 2s - loss: 0.0176 - acc: 0.9946"
          ],
          "name": "stdout"
        },
        {
          "output_type": "stream",
          "text": [
            "60000/60000 [==============================] - 8s 129us/step - loss: 0.0186 - acc: 0.9941\n",
            "Epoch 8/12\n",
            "60000/60000 [==============================] - 8s 130us/step - loss: 0.0158 - acc: 0.9948\n",
            "Epoch 9/12\n",
            "60000/60000 [==============================] - 8s 129us/step - loss: 0.0130 - acc: 0.9959\n",
            "Epoch 10/12\n",
            "37120/60000 [=================>............] - ETA: 2s - loss: 0.0104 - acc: 0.9972"
          ],
          "name": "stdout"
        },
        {
          "output_type": "stream",
          "text": [
            "60000/60000 [==============================] - 8s 129us/step - loss: 0.0107 - acc: 0.9969\n",
            "Epoch 11/12\n",
            "60000/60000 [==============================] - 8s 129us/step - loss: 0.0091 - acc: 0.9972\n",
            "Epoch 12/12\n",
            "60000/60000 [==============================] - 8s 129us/step - loss: 0.0075 - acc: 0.9979\n"
          ],
          "name": "stdout"
        }
      ]
    },
    {
      "metadata": {
        "id": "ULvW016SkYhp",
        "colab_type": "code",
        "colab": {
          "base_uri": "https://localhost:8080/",
          "height": 51
        },
        "outputId": "3268a501-2f07-4907-f2db-2cee1ca0928a"
      },
      "cell_type": "code",
      "source": [
        "model_with_fully_connected.test(x_test_sec, y_test)"
      ],
      "execution_count": 101,
      "outputs": [
        {
          "output_type": "stream",
          "text": [
            "10000/10000 [==============================] - 1s 124us/step\n"
          ],
          "name": "stdout"
        },
        {
          "output_type": "execute_result",
          "data": {
            "text/plain": [
              "[0.033294254000756654, 0.991]"
            ]
          },
          "metadata": {
            "tags": []
          },
          "execution_count": 101
        }
      ]
    },
    {
      "metadata": {
        "id": "dJkd48uokYkc",
        "colab_type": "code",
        "colab": {
          "base_uri": "https://localhost:8080/",
          "height": 51
        },
        "outputId": "56fd3d60-e5dd-4630-d0fc-3bc9d8e28724"
      },
      "cell_type": "code",
      "source": [
        "model_with_fully_connected.test(x_test_first, y_test)"
      ],
      "execution_count": 102,
      "outputs": [
        {
          "output_type": "stream",
          "text": [
            "10000/10000 [==============================] - 1s 127us/step\n"
          ],
          "name": "stdout"
        },
        {
          "output_type": "execute_result",
          "data": {
            "text/plain": [
              "[3.0110642429351806, 0.0935]"
            ]
          },
          "metadata": {
            "tags": []
          },
          "execution_count": 102
        }
      ]
    },
    {
      "metadata": {
        "id": "90cuYiug41M9",
        "colab_type": "code",
        "colab": {}
      },
      "cell_type": "code",
      "source": [
        "model_without_fully_connected = Model(10, (28, 28, 1))\n",
        "model_without_fully_connected.create_model(False)"
      ],
      "execution_count": 0,
      "outputs": []
    },
    {
      "metadata": {
        "id": "MxRuIets41Pi",
        "colab_type": "code",
        "colab": {}
      },
      "cell_type": "code",
      "source": [
        "model_without_fully_connected.compile()"
      ],
      "execution_count": 0,
      "outputs": []
    },
    {
      "metadata": {
        "id": "SQRuzecw41SH",
        "colab_type": "code",
        "colab": {
          "base_uri": "https://localhost:8080/",
          "height": 445
        },
        "outputId": "9a32f2a2-a6fd-4bb8-eeba-5181d851fecf"
      },
      "cell_type": "code",
      "source": [
        "model_without_fully_connected.train(x_train_sec, y_train, 12, 128)"
      ],
      "execution_count": 105,
      "outputs": [
        {
          "output_type": "stream",
          "text": [
            "Epoch 1/12\n",
            "60000/60000 [==============================] - 8s 137us/step - loss: 0.3060 - acc: 0.9038\n",
            "Epoch 2/12\n",
            "60000/60000 [==============================] - 8s 130us/step - loss: 0.0848 - acc: 0.9742\n",
            "Epoch 3/12\n",
            "60000/60000 [==============================] - 8s 129us/step - loss: 0.0633 - acc: 0.9807\n",
            "Epoch 4/12\n",
            "21504/60000 [=========>....................] - ETA: 4s - loss: 0.0540 - acc: 0.9829"
          ],
          "name": "stdout"
        },
        {
          "output_type": "stream",
          "text": [
            "60000/60000 [==============================] - 8s 130us/step - loss: 0.0521 - acc: 0.9841\n",
            "Epoch 5/12\n",
            "60000/60000 [==============================] - 8s 130us/step - loss: 0.0452 - acc: 0.9857\n",
            "Epoch 6/12\n",
            "60000/60000 [==============================] - 8s 130us/step - loss: 0.0387 - acc: 0.9881\n",
            "Epoch 7/12\n",
            "33408/60000 [===============>..............] - ETA: 3s - loss: 0.0353 - acc: 0.9891"
          ],
          "name": "stdout"
        },
        {
          "output_type": "stream",
          "text": [
            "60000/60000 [==============================] - 8s 130us/step - loss: 0.0346 - acc: 0.9895\n",
            "Epoch 8/12\n",
            "60000/60000 [==============================] - 8s 130us/step - loss: 0.0310 - acc: 0.9901\n",
            "Epoch 9/12\n",
            "60000/60000 [==============================] - 8s 130us/step - loss: 0.0277 - acc: 0.9913\n",
            "Epoch 10/12\n",
            "34048/60000 [================>.............] - ETA: 3s - loss: 0.0248 - acc: 0.9922"
          ],
          "name": "stdout"
        },
        {
          "output_type": "stream",
          "text": [
            "60000/60000 [==============================] - 8s 130us/step - loss: 0.0259 - acc: 0.9921\n",
            "Epoch 11/12\n",
            "60000/60000 [==============================] - 8s 130us/step - loss: 0.0236 - acc: 0.9926\n",
            "Epoch 12/12\n",
            "60000/60000 [==============================] - 8s 130us/step - loss: 0.0221 - acc: 0.9932\n"
          ],
          "name": "stdout"
        }
      ]
    },
    {
      "metadata": {
        "id": "v-TkBdrX41U8",
        "colab_type": "code",
        "colab": {
          "base_uri": "https://localhost:8080/",
          "height": 51
        },
        "outputId": "8ad654ef-72f8-4860-a307-b334d9c564fb"
      },
      "cell_type": "code",
      "source": [
        "model_without_fully_connected.test(x_test_sec, y_test)"
      ],
      "execution_count": 106,
      "outputs": [
        {
          "output_type": "stream",
          "text": [
            "10000/10000 [==============================] - 1s 115us/step\n"
          ],
          "name": "stdout"
        },
        {
          "output_type": "execute_result",
          "data": {
            "text/plain": [
              "[0.03370177196036093, 0.9888]"
            ]
          },
          "metadata": {
            "tags": []
          },
          "execution_count": 106
        }
      ]
    },
    {
      "metadata": {
        "id": "9lI0zPld5-Dd",
        "colab_type": "code",
        "colab": {
          "base_uri": "https://localhost:8080/",
          "height": 51
        },
        "outputId": "375af1ad-19c7-495a-9114-1e8436c498dc"
      },
      "cell_type": "code",
      "source": [
        "model_without_fully_connected.test(x_test_first, y_test)"
      ],
      "execution_count": 107,
      "outputs": [
        {
          "output_type": "stream",
          "text": [
            "10000/10000 [==============================] - 1s 114us/step\n"
          ],
          "name": "stdout"
        },
        {
          "output_type": "execute_result",
          "data": {
            "text/plain": [
              "[5.582514864349365, 0.0152]"
            ]
          },
          "metadata": {
            "tags": []
          },
          "execution_count": 107
        }
      ]
    },
    {
      "metadata": {
        "id": "ERHVIpm2kYnW",
        "colab_type": "code",
        "colab": {}
      },
      "cell_type": "code",
      "source": [
        ""
      ],
      "execution_count": 0,
      "outputs": []
    }
  ]
}