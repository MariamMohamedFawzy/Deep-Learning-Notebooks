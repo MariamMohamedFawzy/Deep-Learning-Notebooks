{
  "nbformat": 4,
  "nbformat_minor": 0,
  "metadata": {
    "colab": {
      "name": "Network in Network.ipynb",
      "version": "0.3.2",
      "provenance": [],
      "collapsed_sections": [],
      "toc_visible": true,
      "include_colab_link": true
    },
    "kernelspec": {
      "name": "python3",
      "display_name": "Python 3"
    },
    "accelerator": "GPU"
  },
  "cells": [
    {
      "cell_type": "markdown",
      "metadata": {
        "id": "view-in-github",
        "colab_type": "text"
      },
      "source": [
        "[View in Colaboratory](https://colab.research.google.com/github/MariamMohamedFawzy/Deep-Learning-Notebooks/blob/master/Network_in_Network.ipynb)"
      ]
    },
    {
      "metadata": {
        "id": "SKKnpeRa1K5Q",
        "colab_type": "code",
        "colab": {}
      },
      "cell_type": "code",
      "source": [
        "import tensorflow as tf"
      ],
      "execution_count": 0,
      "outputs": []
    },
    {
      "metadata": {
        "id": "b9upVbwxJMgD",
        "colab_type": "text"
      },
      "cell_type": "markdown",
      "source": [
        "# NIN + dropout"
      ]
    },
    {
      "metadata": {
        "id": "kK4VhX8Nj0Op",
        "colab_type": "code",
        "colab": {}
      },
      "cell_type": "code",
      "source": [
        "tf.reset_default_graph()"
      ],
      "execution_count": 0,
      "outputs": []
    },
    {
      "metadata": {
        "id": "LMKZIBsp1OQV",
        "colab_type": "code",
        "colab": {}
      },
      "cell_type": "code",
      "source": [
        "x = tf.placeholder(tf.float32, shape=[None, 32, 32, 3])\n",
        "y = tf.placeholder(tf.float32, shape=[None, 10])\n",
        "\n",
        "#1\n",
        "w1 = tf.Variable(tf.random_normal(shape=[5, 5, 3, 192], mean=0.0, stddev=0.05))\n",
        "b1 = tf.Variable(tf.random_normal((1, 192), mean=0.0, stddev=0.05))\n",
        "conv1 = tf.nn.conv2d(x, w1, strides=[1, 1, 1, 1], padding='SAME')\n",
        "conv1 = tf.nn.relu(conv1 + b1)\n",
        "\n",
        "\n",
        "w2 = tf.Variable(tf.random_normal(shape=[1, 1, 192, 160], mean=0.0, stddev=0.05))\n",
        "b2 = tf.Variable(tf.random_normal((1, 160), mean=0.0, stddev=0.1))\n",
        "conv2 = tf.nn.conv2d(conv1, w2, strides=[1, 1, 1, 1], padding='SAME')\n",
        "conv2 = tf.nn.relu(conv2 + b2)\n",
        "\n",
        "w3 = tf.Variable(tf.random_normal(shape=[1, 1, 160, 96], mean=0.0, stddev=0.05))\n",
        "b3 = tf.Variable(tf.random_normal((1, 96), mean=0.0, stddev=0.05))\n",
        "conv3 = tf.nn.conv2d(conv2, w3, strides=[1, 1, 1, 1], padding='SAME')\n",
        "conv3 = tf.nn.relu(conv3 + b3)\n",
        "\n",
        "pool1 = tf.layers.max_pooling2d(conv3, 3, 2)\n",
        "\n",
        "dropout1 = tf.nn.dropout(pool1, 0.5)\n",
        "\n",
        "#2\n",
        "w4 = tf.Variable(tf.random_normal(shape=[5, 5, 96, 192], mean=0.0, stddev=0.05))\n",
        "b4 = tf.Variable(tf.random_normal((1, 192), mean=0.0, stddev=0.05))\n",
        "conv4 = tf.nn.conv2d(dropout1, w4, strides=[1, 1, 1, 1], padding='SAME')\n",
        "conv4 = tf.nn.relu(conv4 + b4)\n",
        "\n",
        "\n",
        "w5 = tf.Variable(tf.random_normal(shape=[1, 1, 192, 192], mean=0.0, stddev=0.05))\n",
        "b5 = tf.Variable(tf.random_normal((1, 192), mean=0.0, stddev=0.05))\n",
        "conv5 = tf.nn.conv2d(conv4, w5, strides=[1, 1, 1, 1], padding='SAME')\n",
        "conv5 = tf.nn.relu(conv5 + b5)\n",
        "\n",
        "w6 = tf.Variable(tf.random_normal(shape=[1, 1, 192, 192], mean=0.0, stddev=0.05))\n",
        "b6 = tf.Variable(tf.random_normal((1, 192), mean=0.0, stddev=0.05))\n",
        "conv6 = tf.nn.conv2d(conv5, w6, strides=[1, 1, 1, 1], padding='SAME')\n",
        "conv6 = tf.nn.relu(conv6 + b6)\n",
        "\n",
        "pool2 = tf.layers.max_pooling2d(conv6, 3, 2)\n",
        "\n",
        "dropout2 = tf.nn.dropout(pool2, 0.5)\n",
        "\n",
        "#3\n",
        "\n",
        "w7 = tf.Variable(tf.random_normal(shape=[3, 3, 192, 192], mean=0.0, stddev=0.05))\n",
        "b7 = tf.Variable(tf.random_normal((1, 192), mean=0.0, stddev=0.05))\n",
        "conv7 = tf.nn.conv2d(dropout2, w7, strides=[1, 1, 1, 1], padding='SAME')\n",
        "conv7 = tf.nn.relu(conv7 + b7)\n",
        "\n",
        "\n",
        "w8 = tf.Variable(tf.random_normal(shape=[1, 1, 192, 192], mean=0.0, stddev=0.05))\n",
        "b8 = tf.Variable(tf.random_normal((1, 192), mean=0.0, stddev=0.1))\n",
        "conv8 = tf.nn.conv2d(conv7, w8, strides=[1, 1, 1, 1], padding='SAME')\n",
        "conv8 = tf.nn.relu(conv8 + b8)\n",
        "\n",
        "w9 = tf.Variable(tf.random_normal(shape=[1, 1, 192, 10], mean=0.0, stddev=0.05))\n",
        "b9 = tf.Variable(tf.random_normal((1, 10), mean=0.0, stddev=0.1))\n",
        "conv9 = tf.nn.conv2d(conv8, w9, strides=[1, 1, 1, 1], padding='SAME')\n",
        "conv9 = tf.nn.relu(conv9 + b9)\n",
        "\n",
        "\n",
        "avgpool = tf.reduce_mean(conv9, axis=[1, 2])\n"
      ],
      "execution_count": 0,
      "outputs": []
    },
    {
      "metadata": {
        "id": "u8qQ3Ro-trfd",
        "colab_type": "code",
        "colab": {
          "base_uri": "https://localhost:8080/",
          "height": 34
        },
        "outputId": "2a4186e1-086a-49c3-d418-093c41ddd0c7"
      },
      "cell_type": "code",
      "source": [
        "avgpool"
      ],
      "execution_count": 6,
      "outputs": [
        {
          "output_type": "execute_result",
          "data": {
            "text/plain": [
              "<tf.Tensor 'Mean:0' shape=(?, 10) dtype=float32>"
            ]
          },
          "metadata": {
            "tags": []
          },
          "execution_count": 6
        }
      ]
    },
    {
      "metadata": {
        "id": "P4_kdAR71OTH",
        "colab_type": "code",
        "colab": {}
      },
      "cell_type": "code",
      "source": [
        "loss = tf.reduce_mean(tf.nn.softmax_cross_entropy_with_logits_v2(labels=y, logits=avgpool))\n",
        "\n",
        "global_step = tf.Variable(0, trainable=False)\n",
        "\n",
        "learning_rate = tf.train.exponential_decay(0.001, global_step,\n",
        "                                           100000, 0.96, staircase=True)\n",
        "\n",
        "train_op = tf.train.AdamOptimizer(learning_rate=0.0001).minimize(loss)"
      ],
      "execution_count": 0,
      "outputs": []
    },
    {
      "metadata": {
        "id": "DtbNskNxrx5J",
        "colab_type": "code",
        "colab": {}
      },
      "cell_type": "code",
      "source": [
        "accuracy = tf.reduce_mean(tf.cast(tf.equal(tf.argmax(y, axis=1), tf.argmax(avgpool, axis=1)), tf.float32))"
      ],
      "execution_count": 0,
      "outputs": []
    },
    {
      "metadata": {
        "id": "JNKa6BLfrTDh",
        "colab_type": "code",
        "colab": {}
      },
      "cell_type": "code",
      "source": [
        "(x_train, y_train), (x_test, y_test) = tf.keras.datasets.cifar10.load_data()"
      ],
      "execution_count": 0,
      "outputs": []
    },
    {
      "metadata": {
        "id": "rpfRVqXqrVHw",
        "colab_type": "code",
        "colab": {}
      },
      "cell_type": "code",
      "source": [
        "x_train = x_train.astype('float32')\n",
        "x_test = x_test.astype('float32')"
      ],
      "execution_count": 0,
      "outputs": []
    },
    {
      "metadata": {
        "id": "Py1M-UoqrXY0",
        "colab_type": "code",
        "colab": {}
      },
      "cell_type": "code",
      "source": [
        "x_train = x_train / 255.0\n",
        "x_test = x_test / 255.0"
      ],
      "execution_count": 0,
      "outputs": []
    },
    {
      "metadata": {
        "id": "QldLG8P7rZ57",
        "colab_type": "code",
        "colab": {}
      },
      "cell_type": "code",
      "source": [
        "y_train = tf.keras.utils.to_categorical(y_train, 10)\n",
        "y_test = tf.keras.utils.to_categorical(y_test, 10)"
      ],
      "execution_count": 0,
      "outputs": []
    },
    {
      "metadata": {
        "id": "t3JJalJzjgFH",
        "colab_type": "code",
        "colab": {}
      },
      "cell_type": "code",
      "source": [
        "saver = tf.train.Saver()"
      ],
      "execution_count": 0,
      "outputs": []
    },
    {
      "metadata": {
        "id": "EnCUrguYjkjB",
        "colab_type": "code",
        "colab": {}
      },
      "cell_type": "code",
      "source": [
        "!mkdir my_cifar10_model"
      ],
      "execution_count": 0,
      "outputs": []
    },
    {
      "metadata": {
        "id": "iBRuCuES1OV_",
        "colab_type": "code",
        "colab": {
          "base_uri": "https://localhost:8080/",
          "height": 1717
        },
        "outputId": "7d92d1ec-7682-4539-c9b3-5135aa801db4"
      },
      "cell_type": "code",
      "source": [
        "\n",
        "n_epochs = 100\n",
        "batch_size = 32\n",
        "\n",
        "with tf.Session() as sess:\n",
        "  sess.run(tf.global_variables_initializer())\n",
        "\n",
        "  for i in range(n_epochs):\n",
        "\n",
        "    total_accuracy = 0\n",
        "    for j in range(x_train.shape[0] // batch_size):\n",
        "      temp_x = x_train[min((j) * batch_size, x_train.shape[0]) : min((j + 1) * batch_size, x_train.shape[0])]\n",
        "      temp_y = y_train[min((j) * batch_size, x_train.shape[0]) : min((j + 1) * batch_size, x_train.shape[0])]\n",
        "          \n",
        "      _, l, acc = sess.run([train_op, loss, accuracy], feed_dict={x: temp_x, y: temp_y})\n",
        "      \n",
        "      total_accuracy += acc * batch_size\n",
        "      \n",
        "    total_accuracy = total_accuracy / x_train.shape[0]\n",
        "      \n",
        "    print(\"epoch\", i + 1, \"train accuracy\", total_accuracy, \", valid accuracy\", sess.run(accuracy, \n",
        "                            feed_dict={x: x_test[:1000], \n",
        "                                       y: y_test[:1000]}))\n",
        "    saver.save(sess, './my_cifar10_model',global_step=global_step)\n",
        "            "
      ],
      "execution_count": 23,
      "outputs": [
        {
          "output_type": "stream",
          "text": [
            "epoch 1 train accuracy 0.27562 , valid accuracy 0.351\n",
            "epoch 2 train accuracy 0.37902 , valid accuracy 0.399\n",
            "epoch 3 train accuracy 0.4265 , valid accuracy 0.456\n",
            "epoch 4 train accuracy 0.45804 , valid accuracy 0.471\n",
            "epoch 5 train accuracy 0.48584 , valid accuracy 0.503\n",
            "epoch 6 train accuracy 0.51054 , valid accuracy 0.542\n",
            "epoch 7 train accuracy 0.5277 , valid accuracy 0.544\n",
            "epoch 8 train accuracy 0.54402 , valid accuracy 0.554\n",
            "epoch 9 train accuracy 0.55732 , valid accuracy 0.568\n",
            "epoch 10 train accuracy 0.56844 , valid accuracy 0.568\n",
            "epoch 11 train accuracy 0.5799 , valid accuracy 0.56\n",
            "epoch 12 train accuracy 0.58986 , valid accuracy 0.587\n",
            "epoch 13 train accuracy 0.59698 , valid accuracy 0.603\n",
            "epoch 14 train accuracy 0.604 , valid accuracy 0.605\n",
            "epoch 15 train accuracy 0.60946 , valid accuracy 0.599\n",
            "epoch 16 train accuracy 0.6181 , valid accuracy 0.612\n",
            "epoch 17 train accuracy 0.62364 , valid accuracy 0.616\n",
            "epoch 18 train accuracy 0.62808 , valid accuracy 0.632\n",
            "epoch 19 train accuracy 0.63322 , valid accuracy 0.632\n",
            "epoch 20 train accuracy 0.63556 , valid accuracy 0.637\n",
            "epoch 21 train accuracy 0.64234 , valid accuracy 0.625\n",
            "epoch 22 train accuracy 0.64618 , valid accuracy 0.648\n",
            "epoch 23 train accuracy 0.65142 , valid accuracy 0.648\n",
            "epoch 24 train accuracy 0.65526 , valid accuracy 0.638\n",
            "epoch 25 train accuracy 0.65768 , valid accuracy 0.638\n",
            "epoch 26 train accuracy 0.66252 , valid accuracy 0.656\n",
            "epoch 27 train accuracy 0.6646 , valid accuracy 0.651\n",
            "epoch 28 train accuracy 0.66898 , valid accuracy 0.656\n",
            "epoch 29 train accuracy 0.6714 , valid accuracy 0.652\n",
            "epoch 30 train accuracy 0.67548 , valid accuracy 0.657\n",
            "epoch 31 train accuracy 0.67776 , valid accuracy 0.655\n",
            "epoch 32 train accuracy 0.68012 , valid accuracy 0.656\n",
            "epoch 33 train accuracy 0.68152 , valid accuracy 0.646\n",
            "epoch 34 train accuracy 0.68502 , valid accuracy 0.653\n",
            "epoch 35 train accuracy 0.6872 , valid accuracy 0.658\n",
            "epoch 36 train accuracy 0.6903 , valid accuracy 0.668\n",
            "epoch 37 train accuracy 0.69212 , valid accuracy 0.677\n",
            "epoch 38 train accuracy 0.69502 , valid accuracy 0.661\n",
            "epoch 39 train accuracy 0.69562 , valid accuracy 0.661\n",
            "epoch 40 train accuracy 0.69816 , valid accuracy 0.653\n",
            "epoch 41 train accuracy 0.69914 , valid accuracy 0.659\n",
            "epoch 42 train accuracy 0.7012 , valid accuracy 0.672\n",
            "epoch 43 train accuracy 0.70226 , valid accuracy 0.679\n",
            "epoch 44 train accuracy 0.70422 , valid accuracy 0.675\n",
            "epoch 45 train accuracy 0.70718 , valid accuracy 0.673\n",
            "epoch 46 train accuracy 0.70818 , valid accuracy 0.668\n",
            "epoch 47 train accuracy 0.70792 , valid accuracy 0.675\n",
            "epoch 48 train accuracy 0.71038 , valid accuracy 0.675\n",
            "epoch 49 train accuracy 0.7127 , valid accuracy 0.668\n",
            "epoch 50 train accuracy 0.71376 , valid accuracy 0.681\n",
            "epoch 51 train accuracy 0.71464 , valid accuracy 0.68\n",
            "epoch 52 train accuracy 0.71738 , valid accuracy 0.674\n",
            "epoch 53 train accuracy 0.71846 , valid accuracy 0.682\n",
            "epoch 54 train accuracy 0.72004 , valid accuracy 0.683\n",
            "epoch 55 train accuracy 0.7216 , valid accuracy 0.692\n",
            "epoch 56 train accuracy 0.72204 , valid accuracy 0.684\n",
            "epoch 57 train accuracy 0.72412 , valid accuracy 0.679\n",
            "epoch 58 train accuracy 0.72366 , valid accuracy 0.679\n",
            "epoch 59 train accuracy 0.72698 , valid accuracy 0.686\n",
            "epoch 60 train accuracy 0.72694 , valid accuracy 0.687\n",
            "epoch 61 train accuracy 0.728 , valid accuracy 0.683\n",
            "epoch 62 train accuracy 0.72888 , valid accuracy 0.705\n",
            "epoch 63 train accuracy 0.73082 , valid accuracy 0.685\n",
            "epoch 64 train accuracy 0.73006 , valid accuracy 0.682\n",
            "epoch 65 train accuracy 0.73232 , valid accuracy 0.692\n",
            "epoch 66 train accuracy 0.7322 , valid accuracy 0.71\n",
            "epoch 67 train accuracy 0.73558 , valid accuracy 0.679\n",
            "epoch 68 train accuracy 0.73476 , valid accuracy 0.68\n",
            "epoch 69 train accuracy 0.73646 , valid accuracy 0.687\n",
            "epoch 70 train accuracy 0.73596 , valid accuracy 0.675\n",
            "epoch 71 train accuracy 0.7371 , valid accuracy 0.691\n",
            "epoch 72 train accuracy 0.74016 , valid accuracy 0.691\n",
            "epoch 73 train accuracy 0.74054 , valid accuracy 0.683\n",
            "epoch 74 train accuracy 0.74168 , valid accuracy 0.697\n",
            "epoch 75 train accuracy 0.74136 , valid accuracy 0.696\n",
            "epoch 76 train accuracy 0.74212 , valid accuracy 0.698\n",
            "epoch 77 train accuracy 0.74286 , valid accuracy 0.687\n",
            "epoch 78 train accuracy 0.74448 , valid accuracy 0.692\n",
            "epoch 79 train accuracy 0.7453 , valid accuracy 0.693\n",
            "epoch 80 train accuracy 0.74536 , valid accuracy 0.681\n",
            "epoch 81 train accuracy 0.7463 , valid accuracy 0.686\n",
            "epoch 82 train accuracy 0.74674 , valid accuracy 0.693\n",
            "epoch 83 train accuracy 0.74822 , valid accuracy 0.691\n",
            "epoch 84 train accuracy 0.74728 , valid accuracy 0.687\n",
            "epoch 85 train accuracy 0.74954 , valid accuracy 0.692\n",
            "epoch 86 train accuracy 0.7503 , valid accuracy 0.698\n",
            "epoch 87 train accuracy 0.75004 , valid accuracy 0.701\n",
            "epoch 88 train accuracy 0.75034 , valid accuracy 0.707\n",
            "epoch 89 train accuracy 0.75004 , valid accuracy 0.696\n",
            "epoch 90 train accuracy 0.7528 , valid accuracy 0.702\n",
            "epoch 91 train accuracy 0.75108 , valid accuracy 0.695\n",
            "epoch 92 train accuracy 0.7526 , valid accuracy 0.707\n",
            "epoch 93 train accuracy 0.7527 , valid accuracy 0.687\n",
            "epoch 94 train accuracy 0.75226 , valid accuracy 0.692\n",
            "epoch 95 train accuracy 0.75418 , valid accuracy 0.69\n",
            "epoch 96 train accuracy 0.75572 , valid accuracy 0.69\n",
            "epoch 97 train accuracy 0.75548 , valid accuracy 0.698\n",
            "epoch 98 train accuracy 0.75656 , valid accuracy 0.696\n",
            "epoch 99 train accuracy 0.75526 , valid accuracy 0.699\n",
            "epoch 100 train accuracy 0.75656 , valid accuracy 0.691\n"
          ],
          "name": "stdout"
        }
      ]
    },
    {
      "metadata": {
        "id": "iqezlUHW4bhy",
        "colab_type": "code",
        "colab": {
          "base_uri": "https://localhost:8080/",
          "height": 34
        },
        "outputId": "1d483624-b663-4703-ac83-f723d3485115"
      },
      "cell_type": "code",
      "source": [
        "!ls my_cifar10_model-"
      ],
      "execution_count": 62,
      "outputs": [
        {
          "output_type": "stream",
          "text": [
            "ls: cannot access 'my_cifar10_m': No such file or directory\r\n"
          ],
          "name": "stdout"
        }
      ]
    },
    {
      "metadata": {
        "id": "7wly9_Ld1Ogx",
        "colab_type": "code",
        "colab": {
          "base_uri": "https://localhost:8080/",
          "height": 51
        },
        "outputId": "db2af7b0-7c34-4b80-9f9d-23ee919e7111"
      },
      "cell_type": "code",
      "source": [
        "with tf.Session() as sess:\n",
        "  new_saver = tf.train.import_meta_graph('my_cifar10_model-1608.meta')\n",
        "  new_saver.restore(sess, tf.train.latest_checkpoint('./'))\n",
        "  batch_size = 32\n",
        "  model_accuracy = 0\n",
        "  for j in range(x_test.shape[0] // batch_size):\n",
        "      temp_x = x_test[min((j) * batch_size, x_test.shape[0]) : min((j + 1) * batch_size, x_test.shape[0])]\n",
        "      temp_y = y_test[min((j) * batch_size, x_test.shape[0]) : min((j + 1) * batch_size, x_test.shape[0])]\n",
        "\n",
        "      acc = sess.run(accuracy, \n",
        "                      feed_dict={x: temp_x, \n",
        "                                 y: temp_y})\n",
        "      model_accuracy += acc * temp_x.shape[0]\n",
        "  model_accuracy = model_accuracy / x_test.shape[0]\n",
        "  print(\"test accuracy\", model_accuracy)"
      ],
      "execution_count": 24,
      "outputs": [
        {
          "output_type": "stream",
          "text": [
            "INFO:tensorflow:Restoring parameters from ./my_cifar10_model-0\n",
            "test accuracy 0.6801\n"
          ],
          "name": "stdout"
        }
      ]
    },
    {
      "metadata": {
        "id": "3xQxq7FF1OjR",
        "colab_type": "code",
        "colab": {
          "base_uri": "https://localhost:8080/",
          "height": 306
        },
        "outputId": "0d3e49a2-ada0-41ac-e115-a39e7731b856"
      },
      "cell_type": "code",
      "source": [
        "\n",
        "n_epochs = 100\n",
        "batch_size = 32\n",
        "\n",
        "with tf.Session() as sess:\n",
        "  new_saver = tf.train.import_meta_graph('my_cifar10_model-1608.meta')\n",
        "  new_saver.restore(sess, tf.train.latest_checkpoint('./'))\n",
        "\n",
        "  for i in range(n_epochs):\n",
        "\n",
        "    total_accuracy = 0\n",
        "    for j in range(x_train.shape[0] // batch_size):\n",
        "      temp_x = x_train[min((j) * batch_size, x_train.shape[0]) : min((j + 1) * batch_size, x_train.shape[0])]\n",
        "      temp_y = y_train[min((j) * batch_size, x_train.shape[0]) : min((j + 1) * batch_size, x_train.shape[0])]\n",
        "          \n",
        "      _, l, acc = sess.run([train_op, loss, accuracy], feed_dict={x: temp_x, y: temp_y})\n",
        "      \n",
        "      total_accuracy += acc * batch_size\n",
        "      \n",
        "    total_accuracy = total_accuracy / x_train.shape[0]\n",
        "      \n",
        "    print(\"epoch\", i + 1, \"train accuracy\", total_accuracy, \", valid accuracy\", sess.run(accuracy, \n",
        "                            feed_dict={x: x_test[:1000], \n",
        "                                       y: y_test[:1000]}))\n",
        "    saver.save(sess, './my_cifar10_model',global_step=global_step)\n",
        "            "
      ],
      "execution_count": 0,
      "outputs": [
        {
          "output_type": "stream",
          "text": [
            "INFO:tensorflow:Restoring parameters from ./my_cifar10_model-0\n",
            "epoch 1 train accuracy 0.75764 , valid accuracy 0.685\n",
            "epoch 2 train accuracy 0.75762 , valid accuracy 0.695\n",
            "epoch 3 train accuracy 0.75888 , valid accuracy 0.678\n",
            "epoch 4 train accuracy 0.7582 , valid accuracy 0.693\n",
            "epoch 5 train accuracy 0.7582 , valid accuracy 0.696\n",
            "epoch 6 train accuracy 0.75982 , valid accuracy 0.696\n",
            "epoch 7 train accuracy 0.75918 , valid accuracy 0.69\n",
            "epoch 8 train accuracy 0.76056 , valid accuracy 0.691\n",
            "epoch 9 train accuracy 0.76064 , valid accuracy 0.704\n",
            "epoch 10 train accuracy 0.75992 , valid accuracy 0.7\n",
            "epoch 11 train accuracy 0.7607 , valid accuracy 0.693\n",
            "epoch 12 train accuracy 0.76126 , valid accuracy 0.686\n",
            "epoch 13 train accuracy 0.76182 , valid accuracy 0.707\n",
            "epoch 14 train accuracy 0.76268 , valid accuracy 0.705\n",
            "epoch 15 train accuracy 0.76264 , valid accuracy 0.691\n",
            "epoch 16 train accuracy 0.76298 , valid accuracy 0.693\n"
          ],
          "name": "stdout"
        }
      ]
    },
    {
      "metadata": {
        "id": "ae61sX0C1OmB",
        "colab_type": "code",
        "colab": {}
      },
      "cell_type": "code",
      "source": [
        ""
      ],
      "execution_count": 0,
      "outputs": []
    },
    {
      "metadata": {
        "id": "xrHRKE1V1Oo0",
        "colab_type": "code",
        "colab": {}
      },
      "cell_type": "code",
      "source": [
        ""
      ],
      "execution_count": 0,
      "outputs": []
    }
  ]
}