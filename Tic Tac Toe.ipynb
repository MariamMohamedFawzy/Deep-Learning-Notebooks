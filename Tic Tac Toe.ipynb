{
 "cells": [
  {
   "cell_type": "code",
   "execution_count": 1,
   "metadata": {
    "collapsed": true
   },
   "outputs": [],
   "source": [
    "import numpy as np\n",
    "import matplotlib.pyplot as plt\n",
    "import tensorflow as tf"
   ]
  },
  {
   "cell_type": "code",
   "execution_count": null,
   "metadata": {
    "collapsed": true
   },
   "outputs": [],
   "source": [
    "grid_len = 3\n",
    "grid_size = grid_len**2\n",
    "def is_winner(grid,)"
   ]
  },
  {
   "cell_type": "code",
   "execution_count": null,
   "metadata": {
    "collapsed": true
   },
   "outputs": [],
   "source": [
    "# 12 x 24 x 36 x 18 x 9 -> softmax"
   ]
  },
  {
   "cell_type": "code",
   "execution_count": null,
   "metadata": {
    "collapsed": true
   },
   "outputs": [],
   "source": [
    "tf.reset_default_graph()\n",
    "X = tf.placeholder(tf.int16, shape=[9], name=\"X\")\n",
    "\n",
    "#first layer\n",
    "with tf.VariableScope('first_hidden'):\n",
    "    W1 = tf.get_variable(\"weights\", shape=[9, 12], initializer=tf.truncated_normal_initializer())\n",
    "    b1 = tf.get_variable('bias', shape=[12], initializer=tf.constant_initializer(0.0))\n",
    "    z1 = tf.add(tf.matmul(X, W1), b1)\n",
    "    a1 = tf.nn.relu(z1, name=\"a1\")\n",
    "    \n",
    "    \n",
    "#second layer\n",
    "with tf.VariableScope('second_hidden'):\n",
    "    W2 = tf.get_variable(\"weights\", shape=[12, 24], initializer=tf.truncated_normal_initializer())\n",
    "    b2 = tf.get_variable('bias', shape=[24], initializer=tf.constant_initializer(0.0))\n",
    "    z2 = tf.add(tf.matmul(a1, W2), b2)\n",
    "    a2 = tf.nn.relu(z2, name=\"a2\")\n",
    "    \n",
    "#third layer\n",
    "with tf.VariableScope('third_hidden'):\n",
    "    W3 = tf.get_variable(\"weights\", shape=[24, 36], initializer=tf.truncated_normal_initializer())\n",
    "    b3 = tf.get_variable('bias', shape=[36], initializer=tf.constant_initializer(0.0))\n",
    "    z3 = tf.add(tf.matmul(a2, W3), b3)\n",
    "    a3 = tf.nn.relu(z3, name=\"a3\")\n",
    "    \n",
    "#fourth layer\n",
    "with tf.VariableScope('fourth_hidden'):\n",
    "    W4 = tf.get_variable(\"weights\", shape=[36, 18], initializer=tf.truncated_normal_initializer())\n",
    "    b4 = tf.get_variable('bias', shape=[18], initializer=tf.constant_initializer(0.0))\n",
    "    z4 = tf.add(tf.matmul(a3, W4), b4)\n",
    "    a4 = tf.nn.relu(z4, name=\"a4\")\n",
    "    \n",
    "#fourth layer\n",
    "with tf.VariableScope('fifth_hidden'):\n",
    "    W5 = tf.get_variable(\"weights\", shape=[18, 9], initializer=tf.truncated_normal_initializer())\n",
    "    b5 = tf.get_variable('bias', shape=[9], initializer=tf.constant_initializer(0.0))\n",
    "    z5 = tf.add(tf.matmul(a4, W5), b5)\n",
    "    a5 = tf.nn.relu(z5, name=\"a5\")\n",
    "    \n",
    "#output layer\n",
    "with tf.VariableScope('output_layer'):\n",
    "    W6 = tf.get_variable(\"weights\", shape=[9, 1], initializer=tf.truncated_normal_initializer())\n",
    "    b6 = tf.get_variable('bias', shape=[1], initializer=tf.constant_initializer(0.0))\n",
    "    z6 = tf.add(tf.matmul(a5, W6), b6)\n",
    "    a6 = tf.nn.softmax(z6, name=\"a6\")\n",
    "    \n",
    "\n",
    "    \n",
    "with tf.Session() as sess:\n",
    "    pass"
   ]
  },
  {
   "cell_type": "code",
   "execution_count": null,
   "metadata": {
    "collapsed": true
   },
   "outputs": [],
   "source": []
  },
  {
   "cell_type": "code",
   "execution_count": null,
   "metadata": {
    "collapsed": true
   },
   "outputs": [],
   "source": []
  },
  {
   "cell_type": "code",
   "execution_count": null,
   "metadata": {
    "collapsed": true
   },
   "outputs": [],
   "source": []
  },
  {
   "cell_type": "code",
   "execution_count": null,
   "metadata": {
    "collapsed": true
   },
   "outputs": [],
   "source": []
  },
  {
   "cell_type": "code",
   "execution_count": null,
   "metadata": {
    "collapsed": true
   },
   "outputs": [],
   "source": []
  },
  {
   "cell_type": "code",
   "execution_count": null,
   "metadata": {
    "collapsed": true
   },
   "outputs": [],
   "source": []
  },
  {
   "cell_type": "code",
   "execution_count": null,
   "metadata": {
    "collapsed": true
   },
   "outputs": [],
   "source": []
  },
  {
   "cell_type": "code",
   "execution_count": null,
   "metadata": {
    "collapsed": true
   },
   "outputs": [],
   "source": []
  },
  {
   "cell_type": "code",
   "execution_count": null,
   "metadata": {
    "collapsed": true
   },
   "outputs": [],
   "source": []
  }
 ],
 "metadata": {
  "anaconda-cloud": {},
  "kernelspec": {
   "display_name": "Python [conda root]",
   "language": "python",
   "name": "conda-root-py"
  },
  "language_info": {
   "codemirror_mode": {
    "name": "ipython",
    "version": 3
   },
   "file_extension": ".py",
   "mimetype": "text/x-python",
   "name": "python",
   "nbconvert_exporter": "python",
   "pygments_lexer": "ipython3",
   "version": "3.5.2"
  }
 },
 "nbformat": 4,
 "nbformat_minor": 2
}
